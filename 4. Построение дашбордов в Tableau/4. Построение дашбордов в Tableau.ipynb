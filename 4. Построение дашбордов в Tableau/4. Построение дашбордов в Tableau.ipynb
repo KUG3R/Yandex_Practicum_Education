{
 "cells": [
  {
   "cell_type": "markdown",
   "id": "e81a962f",
   "metadata": {},
   "source": [
    "# Проект: Построение дашбородов на основе анализа конференций TED"
   ]
  },
  {
   "cell_type": "markdown",
   "id": "d8f5f823",
   "metadata": {},
   "source": [
    "TED (от англ. technology, education, design — «технологии, образование, дизайн») — некоммерческий фонд, который проводит популярные конференции. На них выступают специалисты из разных областей и читают лекции на актуальные социальные, культурные и научные темы. \n",
    "\n",
    "В разное время на TED-конференциях выступали математик Бенуа Мандельброт, теоретик искусственного интеллекта Марвин Минский, спортсменка Дана Ньяд и основатель Google Ларри Пейдж. В истории TED также были неоднозначные и даже скандальные выступления. Например, в 2010 году на конференции выступил Рэнди Пауэлл с рассказом о псевдонаучной «вихревой математике», а в 2014 году в конференции TEDMED участвовала Элизабет Холмс — основательница печально известного стартапа Theranos.\n",
    "\n",
    "В этом проекте нужно исследовать историю TED-конференций с помощью Tableau."
   ]
  },
  {
   "cell_type": "markdown",
   "id": "dd89c58a",
   "metadata": {},
   "source": [
    "Ссылка на презентацию:\n",
    "https://public.tableau.com/app/profile/alexander.ryabyshenkov/viz/TED_17175650445870/Story1?publish=yes"
   ]
  }
 ],
 "metadata": {
  "kernelspec": {
   "display_name": "Python 3 (ipykernel)",
   "language": "python",
   "name": "python3"
  },
  "language_info": {
   "codemirror_mode": {
    "name": "ipython",
    "version": 3
   },
   "file_extension": ".py",
   "mimetype": "text/x-python",
   "name": "python",
   "nbconvert_exporter": "python",
   "pygments_lexer": "ipython3",
   "version": "3.12.7"
  },
  "toc": {
   "base_numbering": 1,
   "nav_menu": {},
   "number_sections": true,
   "sideBar": true,
   "skip_h1_title": true,
   "title_cell": "Table of Contents",
   "title_sidebar": "Contents",
   "toc_cell": false,
   "toc_position": {},
   "toc_section_display": true,
   "toc_window_display": false
  }
 },
 "nbformat": 4,
 "nbformat_minor": 5
}
