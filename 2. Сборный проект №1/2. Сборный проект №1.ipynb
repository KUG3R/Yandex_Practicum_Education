{
 "cells": [
  {
   "cell_type": "markdown",
   "metadata": {},
   "source": [
    "# Описание\n",
    "Заказчик этого исследования — Министерство культуры Российской Федерации. Вам нужно изучить рынок российского кинопроката и выявить текущие тренды. Уделите внимание фильмам, которые получили государственную поддержку. Попробуйте ответить на вопрос, насколько такие фильмы интересны зрителю. Вы будете работать с данными, опубликованными на портале открытых данных Министерства культуры. Набор данных содержит информацию о прокатных удостоверениях, сборах и государственной поддержке фильмов, а также информацию с сайта КиноПоиск."
   ]
  },
  {
   "cell_type": "markdown",
   "metadata": {
    "id": "sIfNaMOxgFyK"
   },
   "source": [
    "## Исследование данных о российском кинопрокате\n",
    "\n"
   ]
  },
  {
   "cell_type": "markdown",
   "metadata": {
    "id": "3bSlkCsbgFyL"
   },
   "source": [
    "### Шаг 1. Откроем файлы с данными и объединим их в один датафрейм. \n",
    "\n",
    "Объедините данные таким образом, чтобы все объекты из датасета `mkrf_movies` обязательно вошли в получившийся датафрейм. \n",
    "\n",
    "<div id=\"accordion\">\n",
    "    <div class=\"card\">\n",
    "        <div class=\"card-header\" id=\"headingThree\">\n",
    "            <button class=\"btn btn-link collapsed\" data-toggle=\"collapse\" data-target=\"#collapseHint_0\" aria-expanded=\"false\" aria-controls=\"collapseHint_0\">Подсказка</button>\n",
    "        </div>\n",
    "        <div id=\"collapseHint_0\" class=\"collapse\" aria-labelledby=\"headingThree\" data-parent=\"#accordion\">\n",
    "            <div class=\"card-body\">\n",
    "Обратите внимание на тип данных столбца, по которому будете соединять датафреймы. Тип данных этих столбцов должен быть одинаковым в обоих датафреймах.\n",
    "            </div>\n",
    "        </div>\n",
    "    </div>\n",
    "</div>"
   ]
  },
  {
   "cell_type": "code",
   "execution_count": 1,
   "metadata": {},
   "outputs": [],
   "source": [
    "import pandas as pd\n",
    "import matplotlib.pyplot as plt"
   ]
  },
  {
   "cell_type": "code",
   "execution_count": 2,
   "metadata": {
    "id": "dw87FlzMgFyM"
   },
   "outputs": [
    {
     "data": {
      "text/html": [
       "<div>\n",
       "<style scoped>\n",
       "    .dataframe tbody tr th:only-of-type {\n",
       "        vertical-align: middle;\n",
       "    }\n",
       "\n",
       "    .dataframe tbody tr th {\n",
       "        vertical-align: top;\n",
       "    }\n",
       "\n",
       "    .dataframe thead th {\n",
       "        text-align: right;\n",
       "    }\n",
       "</style>\n",
       "<table border=\"1\" class=\"dataframe\">\n",
       "  <thead>\n",
       "    <tr style=\"text-align: right;\">\n",
       "      <th></th>\n",
       "      <th>title</th>\n",
       "      <th>puNumber</th>\n",
       "      <th>show_start_date</th>\n",
       "      <th>type</th>\n",
       "      <th>film_studio</th>\n",
       "      <th>production_country</th>\n",
       "      <th>director</th>\n",
       "      <th>producer</th>\n",
       "      <th>age_restriction</th>\n",
       "      <th>refundable_support</th>\n",
       "      <th>nonrefundable_support</th>\n",
       "      <th>budget</th>\n",
       "      <th>financing_source</th>\n",
       "      <th>ratings</th>\n",
       "      <th>genres</th>\n",
       "    </tr>\n",
       "  </thead>\n",
       "  <tbody>\n",
       "    <tr>\n",
       "      <th>0</th>\n",
       "      <td>Открытый простор</td>\n",
       "      <td>221048915</td>\n",
       "      <td>2015-11-27T12:00:00.000Z</td>\n",
       "      <td>Художественный</td>\n",
       "      <td>Тачстоун Пикчерз, Кобальт Пикчерз, Бикон Пикче...</td>\n",
       "      <td>США</td>\n",
       "      <td>Кевин Костнер</td>\n",
       "      <td>Дэвид Валдес, Кевин Костнер, Джейк Эбертс</td>\n",
       "      <td>«18+» - запрещено для детей</td>\n",
       "      <td>NaN</td>\n",
       "      <td>NaN</td>\n",
       "      <td>NaN</td>\n",
       "      <td>NaN</td>\n",
       "      <td>7.2</td>\n",
       "      <td>боевик,драма,мелодрама</td>\n",
       "    </tr>\n",
       "    <tr>\n",
       "      <th>1</th>\n",
       "      <td>Особо важное задание</td>\n",
       "      <td>111013716</td>\n",
       "      <td>2016-09-13T12:00:00.000Z</td>\n",
       "      <td>Художественный</td>\n",
       "      <td>Киностудия \"Мосфильм\"</td>\n",
       "      <td>СССР</td>\n",
       "      <td>Е.Матвеев</td>\n",
       "      <td>NaN</td>\n",
       "      <td>«6+» - для детей старше 6 лет</td>\n",
       "      <td>NaN</td>\n",
       "      <td>NaN</td>\n",
       "      <td>NaN</td>\n",
       "      <td>NaN</td>\n",
       "      <td>6.6</td>\n",
       "      <td>драма,военный</td>\n",
       "    </tr>\n",
       "    <tr>\n",
       "      <th>2</th>\n",
       "      <td>Особо опасен</td>\n",
       "      <td>221038416</td>\n",
       "      <td>2016-10-10T12:00:00.000Z</td>\n",
       "      <td>Художественный</td>\n",
       "      <td>Юниверсал Пикчерз, Кикстарт Продакшнз, Марк Пл...</td>\n",
       "      <td>США</td>\n",
       "      <td>Тимур Бекмамбетов</td>\n",
       "      <td>Джим Лемли, Джейсон Нетер, Марк Е.Платт, Яйн Смит</td>\n",
       "      <td>«18+» - запрещено для детей</td>\n",
       "      <td>NaN</td>\n",
       "      <td>NaN</td>\n",
       "      <td>NaN</td>\n",
       "      <td>NaN</td>\n",
       "      <td>6.8</td>\n",
       "      <td>фантастика,боевик,триллер</td>\n",
       "    </tr>\n",
       "    <tr>\n",
       "      <th>3</th>\n",
       "      <td>Особо опасен</td>\n",
       "      <td>221026916</td>\n",
       "      <td>2016-06-10T12:00:00.000Z</td>\n",
       "      <td>Художественный</td>\n",
       "      <td>Юниверсал Пикчерз, Кикстарт Продакшнз, Марк Пл...</td>\n",
       "      <td>США</td>\n",
       "      <td>Тимур Бекмамбетов</td>\n",
       "      <td>Джим Лемли, Джейсон Нетер, Марк Е.Платт, Яйн Смит</td>\n",
       "      <td>«18+» - запрещено для детей</td>\n",
       "      <td>NaN</td>\n",
       "      <td>NaN</td>\n",
       "      <td>NaN</td>\n",
       "      <td>NaN</td>\n",
       "      <td>6.8</td>\n",
       "      <td>фантастика,боевик,триллер</td>\n",
       "    </tr>\n",
       "    <tr>\n",
       "      <th>4</th>\n",
       "      <td>Особо опасен</td>\n",
       "      <td>221030815</td>\n",
       "      <td>2015-07-29T12:00:00.000Z</td>\n",
       "      <td>Художественный</td>\n",
       "      <td>Юниверсал Пикчерз, Кикстарт Продакшнз, Марк Пл...</td>\n",
       "      <td>США</td>\n",
       "      <td>Тимур Бекмамбетов</td>\n",
       "      <td>Джим Лемли, Джейсон Нетер, Марк Е.Платт, Яйн Смит</td>\n",
       "      <td>«18+» - запрещено для детей</td>\n",
       "      <td>NaN</td>\n",
       "      <td>NaN</td>\n",
       "      <td>NaN</td>\n",
       "      <td>NaN</td>\n",
       "      <td>6.8</td>\n",
       "      <td>фантастика,боевик,триллер</td>\n",
       "    </tr>\n",
       "    <tr>\n",
       "      <th>5</th>\n",
       "      <td>Остановился поезд</td>\n",
       "      <td>111013816</td>\n",
       "      <td>2016-09-13T12:00:00.000Z</td>\n",
       "      <td>Художественный</td>\n",
       "      <td>Киностудия \"Мосфильм\"</td>\n",
       "      <td>СССР</td>\n",
       "      <td>В.Абдрашитов</td>\n",
       "      <td>NaN</td>\n",
       "      <td>«6+» - для детей старше 6 лет</td>\n",
       "      <td>NaN</td>\n",
       "      <td>NaN</td>\n",
       "      <td>NaN</td>\n",
       "      <td>NaN</td>\n",
       "      <td>7.7</td>\n",
       "      <td>драма</td>\n",
       "    </tr>\n",
       "    <tr>\n",
       "      <th>6</th>\n",
       "      <td>Любовь и голуби</td>\n",
       "      <td>111007013</td>\n",
       "      <td>2013-10-18T12:00:00.000Z</td>\n",
       "      <td>Художественный</td>\n",
       "      <td>Киностудия \"Мосфильм\"</td>\n",
       "      <td>СССР</td>\n",
       "      <td>В.Меньшов</td>\n",
       "      <td>NaN</td>\n",
       "      <td>«12+» - для детей старше 12 лет</td>\n",
       "      <td>NaN</td>\n",
       "      <td>NaN</td>\n",
       "      <td>NaN</td>\n",
       "      <td>NaN</td>\n",
       "      <td>8.3</td>\n",
       "      <td>мелодрама,комедия</td>\n",
       "    </tr>\n",
       "    <tr>\n",
       "      <th>7</th>\n",
       "      <td>Любовь и сигареты</td>\n",
       "      <td>221074614</td>\n",
       "      <td>2014-12-29T12:00:00.000Z</td>\n",
       "      <td>Художественный</td>\n",
       "      <td>Юнайтед Артистс, Грин Стрит Филмз, Айкон Интер...</td>\n",
       "      <td>США</td>\n",
       "      <td>Джон Туртурро</td>\n",
       "      <td>Джон Пенотти, Джон Туртурро</td>\n",
       "      <td>«18+» - запрещено для детей</td>\n",
       "      <td>NaN</td>\n",
       "      <td>NaN</td>\n",
       "      <td>NaN</td>\n",
       "      <td>NaN</td>\n",
       "      <td>6.6</td>\n",
       "      <td>мюзикл,мелодрама,комедия</td>\n",
       "    </tr>\n",
       "    <tr>\n",
       "      <th>8</th>\n",
       "      <td>Отпетые мошенники.</td>\n",
       "      <td>121011416</td>\n",
       "      <td>2016-05-05T12:00:00.000Z</td>\n",
       "      <td>Художественный</td>\n",
       "      <td>Пульсар Продюксьон, ТФ1 Фильм</td>\n",
       "      <td>Франция</td>\n",
       "      <td>Эрик Беснард</td>\n",
       "      <td>Патрис Леду</td>\n",
       "      <td>«18+» - запрещено для детей</td>\n",
       "      <td>NaN</td>\n",
       "      <td>NaN</td>\n",
       "      <td>NaN</td>\n",
       "      <td>NaN</td>\n",
       "      <td>8.0</td>\n",
       "      <td>комедия,криминал</td>\n",
       "    </tr>\n",
       "    <tr>\n",
       "      <th>9</th>\n",
       "      <td>Отпуск за свой счет</td>\n",
       "      <td>111019114</td>\n",
       "      <td>2014-12-01T12:00:00.000Z</td>\n",
       "      <td>Художественный</td>\n",
       "      <td>Киностудия \"Мосфильм\", Телевидение ВНР</td>\n",
       "      <td>СССР, Венгрия</td>\n",
       "      <td>В.Титов</td>\n",
       "      <td>NaN</td>\n",
       "      <td>«12+» - для детей старше 12 лет</td>\n",
       "      <td>NaN</td>\n",
       "      <td>NaN</td>\n",
       "      <td>NaN</td>\n",
       "      <td>NaN</td>\n",
       "      <td>7.8</td>\n",
       "      <td>мелодрама,комедия</td>\n",
       "    </tr>\n",
       "  </tbody>\n",
       "</table>\n",
       "</div>"
      ],
      "text/plain": [
       "                  title   puNumber           show_start_date            type  \\\n",
       "0      Открытый простор  221048915  2015-11-27T12:00:00.000Z  Художественный   \n",
       "1  Особо важное задание  111013716  2016-09-13T12:00:00.000Z  Художественный   \n",
       "2          Особо опасен  221038416  2016-10-10T12:00:00.000Z  Художественный   \n",
       "3          Особо опасен  221026916  2016-06-10T12:00:00.000Z  Художественный   \n",
       "4          Особо опасен  221030815  2015-07-29T12:00:00.000Z  Художественный   \n",
       "5     Остановился поезд  111013816  2016-09-13T12:00:00.000Z  Художественный   \n",
       "6       Любовь и голуби  111007013  2013-10-18T12:00:00.000Z  Художественный   \n",
       "7     Любовь и сигареты  221074614  2014-12-29T12:00:00.000Z  Художественный   \n",
       "8    Отпетые мошенники.  121011416  2016-05-05T12:00:00.000Z  Художественный   \n",
       "9   Отпуск за свой счет  111019114  2014-12-01T12:00:00.000Z  Художественный   \n",
       "\n",
       "                                         film_studio production_country  \\\n",
       "0  Тачстоун Пикчерз, Кобальт Пикчерз, Бикон Пикче...                США   \n",
       "1                              Киностудия \"Мосфильм\"               СССР   \n",
       "2  Юниверсал Пикчерз, Кикстарт Продакшнз, Марк Пл...                США   \n",
       "3  Юниверсал Пикчерз, Кикстарт Продакшнз, Марк Пл...                США   \n",
       "4  Юниверсал Пикчерз, Кикстарт Продакшнз, Марк Пл...                США   \n",
       "5                              Киностудия \"Мосфильм\"               СССР   \n",
       "6                              Киностудия \"Мосфильм\"               СССР   \n",
       "7  Юнайтед Артистс, Грин Стрит Филмз, Айкон Интер...                США   \n",
       "8                     Пульсар Продюксьон, ТФ1 Фильм             Франция   \n",
       "9             Киностудия \"Мосфильм\", Телевидение ВНР      СССР, Венгрия   \n",
       "\n",
       "            director                                           producer  \\\n",
       "0      Кевин Костнер          Дэвид Валдес, Кевин Костнер, Джейк Эбертс   \n",
       "1          Е.Матвеев                                                NaN   \n",
       "2  Тимур Бекмамбетов  Джим Лемли, Джейсон Нетер, Марк Е.Платт, Яйн Смит   \n",
       "3  Тимур Бекмамбетов  Джим Лемли, Джейсон Нетер, Марк Е.Платт, Яйн Смит   \n",
       "4  Тимур Бекмамбетов  Джим Лемли, Джейсон Нетер, Марк Е.Платт, Яйн Смит   \n",
       "5       В.Абдрашитов                                                NaN   \n",
       "6          В.Меньшов                                                NaN   \n",
       "7      Джон Туртурро                        Джон Пенотти, Джон Туртурро   \n",
       "8       Эрик Беснард                                        Патрис Леду   \n",
       "9            В.Титов                                                NaN   \n",
       "\n",
       "                   age_restriction  refundable_support  nonrefundable_support  \\\n",
       "0      «18+» - запрещено для детей                 NaN                    NaN   \n",
       "1    «6+» - для детей старше 6 лет                 NaN                    NaN   \n",
       "2      «18+» - запрещено для детей                 NaN                    NaN   \n",
       "3      «18+» - запрещено для детей                 NaN                    NaN   \n",
       "4      «18+» - запрещено для детей                 NaN                    NaN   \n",
       "5    «6+» - для детей старше 6 лет                 NaN                    NaN   \n",
       "6  «12+» - для детей старше 12 лет                 NaN                    NaN   \n",
       "7      «18+» - запрещено для детей                 NaN                    NaN   \n",
       "8      «18+» - запрещено для детей                 NaN                    NaN   \n",
       "9  «12+» - для детей старше 12 лет                 NaN                    NaN   \n",
       "\n",
       "   budget financing_source ratings                     genres  \n",
       "0     NaN              NaN     7.2     боевик,драма,мелодрама  \n",
       "1     NaN              NaN     6.6              драма,военный  \n",
       "2     NaN              NaN     6.8  фантастика,боевик,триллер  \n",
       "3     NaN              NaN     6.8  фантастика,боевик,триллер  \n",
       "4     NaN              NaN     6.8  фантастика,боевик,триллер  \n",
       "5     NaN              NaN     7.7                      драма  \n",
       "6     NaN              NaN     8.3          мелодрама,комедия  \n",
       "7     NaN              NaN     6.6   мюзикл,мелодрама,комедия  \n",
       "8     NaN              NaN     8.0           комедия,криминал  \n",
       "9     NaN              NaN     7.8          мелодрама,комедия  "
      ]
     },
     "metadata": {},
     "output_type": "display_data"
    },
    {
     "data": {
      "text/html": [
       "<div>\n",
       "<style scoped>\n",
       "    .dataframe tbody tr th:only-of-type {\n",
       "        vertical-align: middle;\n",
       "    }\n",
       "\n",
       "    .dataframe tbody tr th {\n",
       "        vertical-align: top;\n",
       "    }\n",
       "\n",
       "    .dataframe thead th {\n",
       "        text-align: right;\n",
       "    }\n",
       "</style>\n",
       "<table border=\"1\" class=\"dataframe\">\n",
       "  <thead>\n",
       "    <tr style=\"text-align: right;\">\n",
       "      <th></th>\n",
       "      <th>puNumber</th>\n",
       "      <th>box_office</th>\n",
       "    </tr>\n",
       "  </thead>\n",
       "  <tbody>\n",
       "    <tr>\n",
       "      <th>0</th>\n",
       "      <td>111000113</td>\n",
       "      <td>2450.0</td>\n",
       "    </tr>\n",
       "    <tr>\n",
       "      <th>1</th>\n",
       "      <td>111000115</td>\n",
       "      <td>61040.0</td>\n",
       "    </tr>\n",
       "    <tr>\n",
       "      <th>2</th>\n",
       "      <td>111000116</td>\n",
       "      <td>153030013.0</td>\n",
       "    </tr>\n",
       "    <tr>\n",
       "      <th>3</th>\n",
       "      <td>111000117</td>\n",
       "      <td>12260956.0</td>\n",
       "    </tr>\n",
       "    <tr>\n",
       "      <th>4</th>\n",
       "      <td>111000118</td>\n",
       "      <td>163684058.0</td>\n",
       "    </tr>\n",
       "    <tr>\n",
       "      <th>5</th>\n",
       "      <td>111000119</td>\n",
       "      <td>4293650.0</td>\n",
       "    </tr>\n",
       "    <tr>\n",
       "      <th>6</th>\n",
       "      <td>111000212</td>\n",
       "      <td>200.0</td>\n",
       "    </tr>\n",
       "    <tr>\n",
       "      <th>7</th>\n",
       "      <td>111000216</td>\n",
       "      <td>355567.0</td>\n",
       "    </tr>\n",
       "    <tr>\n",
       "      <th>8</th>\n",
       "      <td>111000313</td>\n",
       "      <td>710.0</td>\n",
       "    </tr>\n",
       "    <tr>\n",
       "      <th>9</th>\n",
       "      <td>111000314</td>\n",
       "      <td>1607970.0</td>\n",
       "    </tr>\n",
       "  </tbody>\n",
       "</table>\n",
       "</div>"
      ],
      "text/plain": [
       "    puNumber   box_office\n",
       "0  111000113       2450.0\n",
       "1  111000115      61040.0\n",
       "2  111000116  153030013.0\n",
       "3  111000117   12260956.0\n",
       "4  111000118  163684058.0\n",
       "5  111000119    4293650.0\n",
       "6  111000212        200.0\n",
       "7  111000216     355567.0\n",
       "8  111000313        710.0\n",
       "9  111000314    1607970.0"
      ]
     },
     "metadata": {},
     "output_type": "display_data"
    }
   ],
   "source": [
    "data_movies = pd.read_csv('/datasets/mkrf_movies.csv')\n",
    "data_shows = pd.read_csv('/datasets/mkrf_shows.csv')\n",
    "#посмотрим на таблицы\n",
    "display(data_movies.head(10))\n",
    "display(data_shows.head(10).round())"
   ]
  },
  {
   "cell_type": "code",
   "execution_count": 3,
   "metadata": {},
   "outputs": [
    {
     "name": "stdout",
     "output_type": "stream",
     "text": [
      "<class 'pandas.core.frame.DataFrame'>\n",
      "RangeIndex: 7486 entries, 0 to 7485\n",
      "Data columns (total 15 columns):\n",
      " #   Column                 Non-Null Count  Dtype  \n",
      "---  ------                 --------------  -----  \n",
      " 0   title                  7486 non-null   object \n",
      " 1   puNumber               7486 non-null   object \n",
      " 2   show_start_date        7486 non-null   object \n",
      " 3   type                   7486 non-null   object \n",
      " 4   film_studio            7468 non-null   object \n",
      " 5   production_country     7484 non-null   object \n",
      " 6   director               7477 non-null   object \n",
      " 7   producer               6918 non-null   object \n",
      " 8   age_restriction        7486 non-null   object \n",
      " 9   refundable_support     332 non-null    float64\n",
      " 10  nonrefundable_support  332 non-null    float64\n",
      " 11  budget                 332 non-null    float64\n",
      " 12  financing_source       332 non-null    object \n",
      " 13  ratings                6519 non-null   object \n",
      " 14  genres                 6510 non-null   object \n",
      "dtypes: float64(3), object(12)\n",
      "memory usage: 877.4+ KB\n",
      "<class 'pandas.core.frame.DataFrame'>\n",
      "RangeIndex: 3158 entries, 0 to 3157\n",
      "Data columns (total 2 columns):\n",
      " #   Column      Non-Null Count  Dtype  \n",
      "---  ------      --------------  -----  \n",
      " 0   puNumber    3158 non-null   int64  \n",
      " 1   box_office  3158 non-null   float64\n",
      "dtypes: float64(1), int64(1)\n",
      "memory usage: 49.5 KB\n"
     ]
    }
   ],
   "source": [
    "#посмотрим на информацию о датасетах\n",
    "data_movies.info()\n",
    "data_shows.info()"
   ]
  },
  {
   "cell_type": "markdown",
   "metadata": {},
   "source": [
    "Для объединения таблиц выберем общий столбец: *puNumber*"
   ]
  },
  {
   "cell_type": "code",
   "execution_count": 4,
   "metadata": {},
   "outputs": [
    {
     "name": "stdout",
     "output_type": "stream",
     "text": [
      "<class 'pandas.core.frame.DataFrame'>\n",
      "Int64Index: 7486 entries, 0 to 7485\n",
      "Data columns (total 16 columns):\n",
      " #   Column                 Non-Null Count  Dtype  \n",
      "---  ------                 --------------  -----  \n",
      " 0   title                  7486 non-null   object \n",
      " 1   puNumber               7486 non-null   object \n",
      " 2   show_start_date        7486 non-null   object \n",
      " 3   type                   7486 non-null   object \n",
      " 4   film_studio            7468 non-null   object \n",
      " 5   production_country     7484 non-null   object \n",
      " 6   director               7477 non-null   object \n",
      " 7   producer               6918 non-null   object \n",
      " 8   age_restriction        7486 non-null   object \n",
      " 9   refundable_support     332 non-null    float64\n",
      " 10  nonrefundable_support  332 non-null    float64\n",
      " 11  budget                 332 non-null    float64\n",
      " 12  financing_source       332 non-null    object \n",
      " 13  ratings                6519 non-null   object \n",
      " 14  genres                 6510 non-null   object \n",
      " 15  box_office             3158 non-null   float64\n",
      "dtypes: float64(4), object(12)\n",
      "memory usage: 994.2+ KB\n"
     ]
    }
   ],
   "source": [
    "#для объеденения, переведем данные в подходящий тип:\n",
    "data_shows['puNumber'] = data_shows['puNumber'].astype('str')\n",
    "data = data_movies.merge(data_shows, how='left', on='puNumber')\n",
    "data.info()"
   ]
  },
  {
   "cell_type": "markdown",
   "metadata": {},
   "source": [
    "**Вывод:** После объединения все данные из столбца *box_office* остались на месте - объединение прошло успешно."
   ]
  },
  {
   "cell_type": "markdown",
   "metadata": {
    "id": "KLDGpPG0gFyM"
   },
   "source": [
    "### Шаг 2. Предобработка данных"
   ]
  },
  {
   "cell_type": "markdown",
   "metadata": {
    "id": "ssWwKXsxgFyO"
   },
   "source": [
    "#### Шаг 2.1. Проверим типы данных\n",
    "\n",
    "- Проверьте типы данных в датафрейме и преобразуйте их там, где это необходимо."
   ]
  },
  {
   "cell_type": "code",
   "execution_count": 5,
   "metadata": {
    "id": "kVGSplJOgFyO"
   },
   "outputs": [
    {
     "name": "stdout",
     "output_type": "stream",
     "text": [
      "<class 'pandas.core.frame.DataFrame'>\n",
      "Int64Index: 7486 entries, 0 to 7485\n",
      "Data columns (total 16 columns):\n",
      " #   Column                 Non-Null Count  Dtype  \n",
      "---  ------                 --------------  -----  \n",
      " 0   title                  7486 non-null   object \n",
      " 1   puNumber               7486 non-null   object \n",
      " 2   show_start_date        7486 non-null   object \n",
      " 3   type                   7486 non-null   object \n",
      " 4   film_studio            7468 non-null   object \n",
      " 5   production_country     7484 non-null   object \n",
      " 6   director               7477 non-null   object \n",
      " 7   producer               6918 non-null   object \n",
      " 8   age_restriction        7486 non-null   object \n",
      " 9   refundable_support     332 non-null    float64\n",
      " 10  nonrefundable_support  332 non-null    float64\n",
      " 11  budget                 332 non-null    float64\n",
      " 12  financing_source       332 non-null    object \n",
      " 13  ratings                6519 non-null   object \n",
      " 14  genres                 6510 non-null   object \n",
      " 15  box_office             3158 non-null   float64\n",
      "dtypes: float64(4), object(12)\n",
      "memory usage: 994.2+ KB\n"
     ]
    }
   ],
   "source": [
    "data.info()"
   ]
  },
  {
   "cell_type": "markdown",
   "metadata": {},
   "source": [
    "Что мы видим:\n",
    "* *show_start_date* нужно перевести в тип datetime;\n",
    "* *ratings* нужно перевести в тип float64;\n",
    "* в *film_studio* всего 18 пропусков;\n",
    "* в *production_country* всего 2 пропуска;\n",
    "* в *director* всего 9 пропусков;     \n",
    "* в *producer* всего 568 пропусков;            "
   ]
  },
  {
   "cell_type": "code",
   "execution_count": 6,
   "metadata": {},
   "outputs": [
    {
     "name": "stdout",
     "output_type": "stream",
     "text": [
      "<class 'pandas.core.frame.DataFrame'>\n",
      "Int64Index: 7486 entries, 0 to 7485\n",
      "Data columns (total 16 columns):\n",
      " #   Column                 Non-Null Count  Dtype              \n",
      "---  ------                 --------------  -----              \n",
      " 0   title                  7486 non-null   object             \n",
      " 1   puNumber               7486 non-null   object             \n",
      " 2   show_start_date        7486 non-null   datetime64[ns, UTC]\n",
      " 3   type                   7486 non-null   object             \n",
      " 4   film_studio            7468 non-null   object             \n",
      " 5   production_country     7484 non-null   object             \n",
      " 6   director               7477 non-null   object             \n",
      " 7   producer               6918 non-null   object             \n",
      " 8   age_restriction        7486 non-null   object             \n",
      " 9   refundable_support     332 non-null    float64            \n",
      " 10  nonrefundable_support  332 non-null    float64            \n",
      " 11  budget                 332 non-null    float64            \n",
      " 12  financing_source       332 non-null    object             \n",
      " 13  ratings                6490 non-null   float64            \n",
      " 14  genres                 6510 non-null   object             \n",
      " 15  box_office             3158 non-null   float64            \n",
      "dtypes: datetime64[ns, UTC](1), float64(5), object(10)\n",
      "memory usage: 994.2+ KB\n"
     ]
    }
   ],
   "source": [
    "good_data = data.copy()\n",
    "good_data['ratings'] = pd.to_numeric(data['ratings'],  errors='coerce')\n",
    "good_data['show_start_date'] = pd.to_datetime(data['show_start_date'], format='%Y-%m-%dT%H:%M:%S')\n",
    "good_data.info()"
   ]
  },
  {
   "cell_type": "code",
   "execution_count": 7,
   "metadata": {},
   "outputs": [
    {
     "data": {
      "text/plain": [
       "1.0"
      ]
     },
     "execution_count": 7,
     "metadata": {},
     "output_type": "execute_result"
    }
   ],
   "source": [
    "data.shape[0] / good_data.shape[0]"
   ]
  },
  {
   "cell_type": "markdown",
   "metadata": {},
   "source": [
    "**Вывод:**\n",
    "* перевели данные в нужный тип в двух столбцах: *show_start_date* и *ratings*."
   ]
  },
  {
   "cell_type": "markdown",
   "metadata": {
    "id": "i0MOLbF-gFyP"
   },
   "source": [
    "#### Шаг 2.2. Изучите пропуски в датафрейме\n",
    "\n",
    "- Объясните, почему заполнили пропуски определённым образом или почему не стали этого делать."
   ]
  },
  {
   "cell_type": "code",
   "execution_count": 8,
   "metadata": {
    "id": "8MJD_lkngFyP"
   },
   "outputs": [
    {
     "data": {
      "text/plain": [
       "title                       0\n",
       "puNumber                    0\n",
       "show_start_date             0\n",
       "type                        0\n",
       "film_studio                18\n",
       "production_country          2\n",
       "director                    9\n",
       "producer                  568\n",
       "age_restriction             0\n",
       "refundable_support       7154\n",
       "nonrefundable_support    7154\n",
       "budget                   7154\n",
       "financing_source         7154\n",
       "ratings                   996\n",
       "genres                    976\n",
       "box_office               4328\n",
       "dtype: int64"
      ]
     },
     "execution_count": 8,
     "metadata": {},
     "output_type": "execute_result"
    }
   ],
   "source": [
    "#будем проводить все операции в отдельной переменной good_data\n",
    "good_data.isna().sum()"
   ]
  },
  {
   "cell_type": "markdown",
   "metadata": {},
   "source": [
    "Большое количество пропусков в столбцах *refundable_support, nonrefundable_support, budget, financing_source* и *box_office*. Не вижу смысла убирать или заполнять данные, так как далеко не все фильмы имели гос. поддержку. Информация по общим сборам тоже отсутствует у многих фильмов, пока оставим без заполнения, чтобы не было искажения. По этой же причине оставим *ratings* без изменения.\n",
    "\n",
    "Остальные значения заменим \"пустышкой\".\n"
   ]
  },
  {
   "cell_type": "code",
   "execution_count": 9,
   "metadata": {},
   "outputs": [
    {
     "data": {
      "text/plain": [
       "title                       0\n",
       "puNumber                    0\n",
       "show_start_date             0\n",
       "type                        0\n",
       "film_studio                 0\n",
       "production_country          0\n",
       "director                    0\n",
       "producer                    0\n",
       "age_restriction             0\n",
       "refundable_support       7154\n",
       "nonrefundable_support    7154\n",
       "budget                   7154\n",
       "financing_source         7154\n",
       "ratings                   996\n",
       "genres                      0\n",
       "box_office               4328\n",
       "dtype: int64"
      ]
     },
     "execution_count": 9,
     "metadata": {},
     "output_type": "execute_result"
    }
   ],
   "source": [
    "good_data['film_studio'] = good_data['film_studio'].fillna('Нет данных')\n",
    "good_data['production_country'] = good_data['production_country'].fillna('Нет данных')\n",
    "good_data['director'] = good_data['director'].fillna('Нет данных')\n",
    "good_data['producer'] = good_data['producer'].fillna('Нет данных')\n",
    "good_data['genres'] = good_data['genres'].fillna('Нет данных')\n",
    "good_data.isna().sum()"
   ]
  },
  {
   "cell_type": "markdown",
   "metadata": {},
   "source": [
    "**Вывод:** Заменили пропуски, где это возможно, там где уверенности нет - оставили без изменений."
   ]
  },
  {
   "cell_type": "markdown",
   "metadata": {
    "id": "4c6k1t9ygFyQ"
   },
   "source": [
    "#### Шаг 2.3. Изучите дубликаты в датафрейме\n",
    "- Проверьте, есть ли в данных дубликаты. Опишите причины, которые могли повлиять на появление дублей."
   ]
  },
  {
   "cell_type": "code",
   "execution_count": 10,
   "metadata": {
    "id": "aKck8RIdgFyQ"
   },
   "outputs": [
    {
     "data": {
      "text/plain": [
       "'Полные дубликаты:'"
      ]
     },
     "metadata": {},
     "output_type": "display_data"
    },
    {
     "data": {
      "text/plain": [
       "0"
      ]
     },
     "metadata": {},
     "output_type": "display_data"
    },
    {
     "data": {
      "text/plain": [
       "'Дубликаты названий:'"
      ]
     },
     "metadata": {},
     "output_type": "display_data"
    },
    {
     "data": {
      "text/plain": [
       "714"
      ]
     },
     "metadata": {},
     "output_type": "display_data"
    },
    {
     "data": {
      "text/plain": [
       "'Дубликаты номеров:'"
      ]
     },
     "metadata": {},
     "output_type": "display_data"
    },
    {
     "data": {
      "text/plain": [
       "2"
      ]
     },
     "metadata": {},
     "output_type": "display_data"
    }
   ],
   "source": [
    "display('Полные дубликаты:', good_data.duplicated().sum())\n",
    "display('Дубликаты названий:',good_data['title'].duplicated().sum())\n",
    "display('Дубликаты номеров:',good_data['puNumber'].duplicated().sum())"
   ]
  },
  {
   "cell_type": "code",
   "execution_count": 11,
   "metadata": {},
   "outputs": [
    {
     "data": {
      "text/plain": [
       "День святого Валентина_                                            5\n",
       "Безумцы                                                            4\n",
       "Знакомство с Факерами 2.                                           4\n",
       "Гарри Поттер и Дары Смерти - Часть 1/По роману Дж.К.Ролинг/        4\n",
       "Жена путешественника во времени                                    4\n",
       "                                                                  ..\n",
       "ОХРАНА                                                             1\n",
       "Ограбление по Фрейду                                               1\n",
       "Американец (по роману Мартина Бута \"Очень скрытный джентльмен\")    1\n",
       "Звёздные Войны: Скайуокер. Восход                                  1\n",
       "Наш дом                                                            1\n",
       "Name: title, Length: 6772, dtype: int64"
      ]
     },
     "execution_count": 11,
     "metadata": {},
     "output_type": "execute_result"
    }
   ],
   "source": [
    "good_data['title'].value_counts()"
   ]
  },
  {
   "cell_type": "code",
   "execution_count": 12,
   "metadata": {},
   "outputs": [
    {
     "data": {
      "text/html": [
       "<div>\n",
       "<style scoped>\n",
       "    .dataframe tbody tr th:only-of-type {\n",
       "        vertical-align: middle;\n",
       "    }\n",
       "\n",
       "    .dataframe tbody tr th {\n",
       "        vertical-align: top;\n",
       "    }\n",
       "\n",
       "    .dataframe thead th {\n",
       "        text-align: right;\n",
       "    }\n",
       "</style>\n",
       "<table border=\"1\" class=\"dataframe\">\n",
       "  <thead>\n",
       "    <tr style=\"text-align: right;\">\n",
       "      <th></th>\n",
       "      <th>title</th>\n",
       "      <th>puNumber</th>\n",
       "      <th>show_start_date</th>\n",
       "      <th>type</th>\n",
       "      <th>film_studio</th>\n",
       "      <th>production_country</th>\n",
       "      <th>director</th>\n",
       "      <th>producer</th>\n",
       "      <th>age_restriction</th>\n",
       "      <th>refundable_support</th>\n",
       "      <th>nonrefundable_support</th>\n",
       "      <th>budget</th>\n",
       "      <th>financing_source</th>\n",
       "      <th>ratings</th>\n",
       "      <th>genres</th>\n",
       "      <th>box_office</th>\n",
       "    </tr>\n",
       "  </thead>\n",
       "  <tbody>\n",
       "    <tr>\n",
       "      <th>3902</th>\n",
       "      <td>День святого Валентина_</td>\n",
       "      <td>221083810</td>\n",
       "      <td>2010-07-15 12:00:00+00:00</td>\n",
       "      <td>Художественный</td>\n",
       "      <td>Уорнер Бразерс, Нью Лайн Синема, Уэйн Райс, Ка...</td>\n",
       "      <td>США</td>\n",
       "      <td>Гарри Маршалл</td>\n",
       "      <td>Сэмюэл Дж.Браун</td>\n",
       "      <td>«16+» - для детей старше 16 лет</td>\n",
       "      <td>NaN</td>\n",
       "      <td>NaN</td>\n",
       "      <td>NaN</td>\n",
       "      <td>NaN</td>\n",
       "      <td>6.7</td>\n",
       "      <td>мелодрама,комедия</td>\n",
       "      <td>NaN</td>\n",
       "    </tr>\n",
       "    <tr>\n",
       "      <th>3991</th>\n",
       "      <td>День святого Валентина_</td>\n",
       "      <td>221068010</td>\n",
       "      <td>2010-05-14 12:00:00+00:00</td>\n",
       "      <td>Художественный</td>\n",
       "      <td>Уорнер Бразерс, Нью Лайн Синема, Уэйн Райс, Ка...</td>\n",
       "      <td>США</td>\n",
       "      <td>Гарри Маршалл</td>\n",
       "      <td>Сэмюэл Дж.Браун</td>\n",
       "      <td>«16+» - для детей старше 16 лет</td>\n",
       "      <td>NaN</td>\n",
       "      <td>NaN</td>\n",
       "      <td>NaN</td>\n",
       "      <td>NaN</td>\n",
       "      <td>6.7</td>\n",
       "      <td>мелодрама,комедия</td>\n",
       "      <td>NaN</td>\n",
       "    </tr>\n",
       "    <tr>\n",
       "      <th>4070</th>\n",
       "      <td>День святого Валентина_</td>\n",
       "      <td>121002210</td>\n",
       "      <td>2010-02-03 12:00:00+00:00</td>\n",
       "      <td>Художественный</td>\n",
       "      <td>Уорнер Бразерс, Нью Лайн Синема, Уэйн Райс, Ка...</td>\n",
       "      <td>США</td>\n",
       "      <td>Гарри Маршалл</td>\n",
       "      <td>Сэмюэл Дж.Браун</td>\n",
       "      <td>«16+» - для детей старше 16 лет</td>\n",
       "      <td>NaN</td>\n",
       "      <td>NaN</td>\n",
       "      <td>NaN</td>\n",
       "      <td>NaN</td>\n",
       "      <td>6.7</td>\n",
       "      <td>мелодрама,комедия</td>\n",
       "      <td>NaN</td>\n",
       "    </tr>\n",
       "    <tr>\n",
       "      <th>4196</th>\n",
       "      <td>День святого Валентина_</td>\n",
       "      <td>221136210</td>\n",
       "      <td>2010-11-30 12:00:00+00:00</td>\n",
       "      <td>Художественный</td>\n",
       "      <td>Уорнер Бразерс, Нью Лайн Синема, Уэйн Райс, Ка...</td>\n",
       "      <td>США</td>\n",
       "      <td>Гарри Маршалл</td>\n",
       "      <td>Сэмюэл Дж.Браун</td>\n",
       "      <td>«16+» - для детей старше 16 лет</td>\n",
       "      <td>NaN</td>\n",
       "      <td>NaN</td>\n",
       "      <td>NaN</td>\n",
       "      <td>NaN</td>\n",
       "      <td>6.7</td>\n",
       "      <td>мелодрама,комедия</td>\n",
       "      <td>NaN</td>\n",
       "    </tr>\n",
       "    <tr>\n",
       "      <th>5070</th>\n",
       "      <td>День святого Валентина_</td>\n",
       "      <td>221066410</td>\n",
       "      <td>2010-06-01 12:00:00+00:00</td>\n",
       "      <td>Художественный</td>\n",
       "      <td>Уорнер Бразерс, Нью Лайн Синема, Уэйн Райс, Ка...</td>\n",
       "      <td>США</td>\n",
       "      <td>Гарри Маршалл</td>\n",
       "      <td>Сэмюэл Дж.Браун</td>\n",
       "      <td>«16+» - для детей старше 16 лет</td>\n",
       "      <td>NaN</td>\n",
       "      <td>NaN</td>\n",
       "      <td>NaN</td>\n",
       "      <td>NaN</td>\n",
       "      <td>6.7</td>\n",
       "      <td>мелодрама,комедия</td>\n",
       "      <td>NaN</td>\n",
       "    </tr>\n",
       "  </tbody>\n",
       "</table>\n",
       "</div>"
      ],
      "text/plain": [
       "                        title   puNumber           show_start_date  \\\n",
       "3902  День святого Валентина_  221083810 2010-07-15 12:00:00+00:00   \n",
       "3991  День святого Валентина_  221068010 2010-05-14 12:00:00+00:00   \n",
       "4070  День святого Валентина_  121002210 2010-02-03 12:00:00+00:00   \n",
       "4196  День святого Валентина_  221136210 2010-11-30 12:00:00+00:00   \n",
       "5070  День святого Валентина_  221066410 2010-06-01 12:00:00+00:00   \n",
       "\n",
       "                type                                        film_studio  \\\n",
       "3902  Художественный  Уорнер Бразерс, Нью Лайн Синема, Уэйн Райс, Ка...   \n",
       "3991  Художественный  Уорнер Бразерс, Нью Лайн Синема, Уэйн Райс, Ка...   \n",
       "4070  Художественный  Уорнер Бразерс, Нью Лайн Синема, Уэйн Райс, Ка...   \n",
       "4196  Художественный  Уорнер Бразерс, Нью Лайн Синема, Уэйн Райс, Ка...   \n",
       "5070  Художественный  Уорнер Бразерс, Нью Лайн Синема, Уэйн Райс, Ка...   \n",
       "\n",
       "     production_country       director         producer  \\\n",
       "3902                США  Гарри Маршалл  Сэмюэл Дж.Браун   \n",
       "3991                США  Гарри Маршалл  Сэмюэл Дж.Браун   \n",
       "4070                США  Гарри Маршалл  Сэмюэл Дж.Браун   \n",
       "4196                США  Гарри Маршалл  Сэмюэл Дж.Браун   \n",
       "5070                США  Гарри Маршалл  Сэмюэл Дж.Браун   \n",
       "\n",
       "                      age_restriction  refundable_support  \\\n",
       "3902  «16+» - для детей старше 16 лет                 NaN   \n",
       "3991  «16+» - для детей старше 16 лет                 NaN   \n",
       "4070  «16+» - для детей старше 16 лет                 NaN   \n",
       "4196  «16+» - для детей старше 16 лет                 NaN   \n",
       "5070  «16+» - для детей старше 16 лет                 NaN   \n",
       "\n",
       "      nonrefundable_support  budget financing_source  ratings  \\\n",
       "3902                    NaN     NaN              NaN      6.7   \n",
       "3991                    NaN     NaN              NaN      6.7   \n",
       "4070                    NaN     NaN              NaN      6.7   \n",
       "4196                    NaN     NaN              NaN      6.7   \n",
       "5070                    NaN     NaN              NaN      6.7   \n",
       "\n",
       "                 genres  box_office  \n",
       "3902  мелодрама,комедия         NaN  \n",
       "3991  мелодрама,комедия         NaN  \n",
       "4070  мелодрама,комедия         NaN  \n",
       "4196  мелодрама,комедия         NaN  \n",
       "5070  мелодрама,комедия         NaN  "
      ]
     },
     "execution_count": 12,
     "metadata": {},
     "output_type": "execute_result"
    }
   ],
   "source": [
    "good_data[good_data['title'] == 'День святого Валентина_']"
   ]
  },
  {
   "cell_type": "code",
   "execution_count": 13,
   "metadata": {},
   "outputs": [
    {
     "data": {
      "text/html": [
       "<div>\n",
       "<style scoped>\n",
       "    .dataframe tbody tr th:only-of-type {\n",
       "        vertical-align: middle;\n",
       "    }\n",
       "\n",
       "    .dataframe tbody tr th {\n",
       "        vertical-align: top;\n",
       "    }\n",
       "\n",
       "    .dataframe thead th {\n",
       "        text-align: right;\n",
       "    }\n",
       "</style>\n",
       "<table border=\"1\" class=\"dataframe\">\n",
       "  <thead>\n",
       "    <tr style=\"text-align: right;\">\n",
       "      <th></th>\n",
       "      <th>title</th>\n",
       "      <th>puNumber</th>\n",
       "      <th>show_start_date</th>\n",
       "      <th>type</th>\n",
       "      <th>film_studio</th>\n",
       "      <th>production_country</th>\n",
       "      <th>director</th>\n",
       "      <th>producer</th>\n",
       "      <th>age_restriction</th>\n",
       "      <th>refundable_support</th>\n",
       "      <th>nonrefundable_support</th>\n",
       "      <th>budget</th>\n",
       "      <th>financing_source</th>\n",
       "      <th>ratings</th>\n",
       "      <th>genres</th>\n",
       "      <th>box_office</th>\n",
       "    </tr>\n",
       "  </thead>\n",
       "  <tbody>\n",
       "    <tr>\n",
       "      <th>371</th>\n",
       "      <td>Гарри Поттер и Дары Смерти - Часть 1/По роману...</td>\n",
       "      <td>121026516</td>\n",
       "      <td>2016-09-23 12:00:00+00:00</td>\n",
       "      <td>Художественный</td>\n",
       "      <td>Уорнер Бразерс, Хэйдэй Филмз</td>\n",
       "      <td>США - Великобритания</td>\n",
       "      <td>Дэвид Йейтс</td>\n",
       "      <td>Дейвид Баррон, Дейвид Хейман</td>\n",
       "      <td>«16+» - для детей старше 16 лет</td>\n",
       "      <td>NaN</td>\n",
       "      <td>NaN</td>\n",
       "      <td>NaN</td>\n",
       "      <td>NaN</td>\n",
       "      <td>8.1</td>\n",
       "      <td>фэнтези,драма,детектив</td>\n",
       "      <td>745510.0</td>\n",
       "    </tr>\n",
       "    <tr>\n",
       "      <th>4198</th>\n",
       "      <td>Гарри Поттер и Дары Смерти - Часть 1/По роману...</td>\n",
       "      <td>121021010</td>\n",
       "      <td>2010-11-11 12:00:00+00:00</td>\n",
       "      <td>Художественный</td>\n",
       "      <td>Уорнер Бразерс, Хэйдэй Филмз</td>\n",
       "      <td>США - Великобритания</td>\n",
       "      <td>Дэвид Йейтс</td>\n",
       "      <td>Дейвид Баррон, Дейвид Хейман</td>\n",
       "      <td>«16+» - для детей старше 16 лет</td>\n",
       "      <td>NaN</td>\n",
       "      <td>NaN</td>\n",
       "      <td>NaN</td>\n",
       "      <td>NaN</td>\n",
       "      <td>8.1</td>\n",
       "      <td>фэнтези,драма,детектив</td>\n",
       "      <td>1700.0</td>\n",
       "    </tr>\n",
       "    <tr>\n",
       "      <th>4526</th>\n",
       "      <td>Гарри Поттер и Дары Смерти - Часть 1/По роману...</td>\n",
       "      <td>221144910</td>\n",
       "      <td>2010-12-10 12:00:00+00:00</td>\n",
       "      <td>Художественный</td>\n",
       "      <td>Уорнер Бразерс, Хэйдэй Филмз</td>\n",
       "      <td>США - Великобритания</td>\n",
       "      <td>Дэвид Йейтс</td>\n",
       "      <td>Дейвид Баррон, Дейвид Хейман</td>\n",
       "      <td>«16+» - для детей старше 16 лет</td>\n",
       "      <td>NaN</td>\n",
       "      <td>NaN</td>\n",
       "      <td>NaN</td>\n",
       "      <td>NaN</td>\n",
       "      <td>8.1</td>\n",
       "      <td>фэнтези,драма,детектив</td>\n",
       "      <td>NaN</td>\n",
       "    </tr>\n",
       "    <tr>\n",
       "      <th>5057</th>\n",
       "      <td>Гарри Поттер и Дары Смерти - Часть 1/По роману...</td>\n",
       "      <td>221068911</td>\n",
       "      <td>2011-05-18 12:00:00+00:00</td>\n",
       "      <td>Художественный</td>\n",
       "      <td>Уорнер Бразерс, Хэйдэй Филмз</td>\n",
       "      <td>США - Великобритания</td>\n",
       "      <td>Дэвид Йейтс</td>\n",
       "      <td>Дейвид Баррон, Дейвид Хейман</td>\n",
       "      <td>«16+» - для детей старше 16 лет</td>\n",
       "      <td>NaN</td>\n",
       "      <td>NaN</td>\n",
       "      <td>NaN</td>\n",
       "      <td>NaN</td>\n",
       "      <td>8.1</td>\n",
       "      <td>фэнтези,драма,детектив</td>\n",
       "      <td>NaN</td>\n",
       "    </tr>\n",
       "  </tbody>\n",
       "</table>\n",
       "</div>"
      ],
      "text/plain": [
       "                                                  title   puNumber  \\\n",
       "371   Гарри Поттер и Дары Смерти - Часть 1/По роману...  121026516   \n",
       "4198  Гарри Поттер и Дары Смерти - Часть 1/По роману...  121021010   \n",
       "4526  Гарри Поттер и Дары Смерти - Часть 1/По роману...  221144910   \n",
       "5057  Гарри Поттер и Дары Смерти - Часть 1/По роману...  221068911   \n",
       "\n",
       "               show_start_date            type                   film_studio  \\\n",
       "371  2016-09-23 12:00:00+00:00  Художественный  Уорнер Бразерс, Хэйдэй Филмз   \n",
       "4198 2010-11-11 12:00:00+00:00  Художественный  Уорнер Бразерс, Хэйдэй Филмз   \n",
       "4526 2010-12-10 12:00:00+00:00  Художественный  Уорнер Бразерс, Хэйдэй Филмз   \n",
       "5057 2011-05-18 12:00:00+00:00  Художественный  Уорнер Бразерс, Хэйдэй Филмз   \n",
       "\n",
       "        production_country     director                      producer  \\\n",
       "371   США - Великобритания  Дэвид Йейтс  Дейвид Баррон, Дейвид Хейман   \n",
       "4198  США - Великобритания  Дэвид Йейтс  Дейвид Баррон, Дейвид Хейман   \n",
       "4526  США - Великобритания  Дэвид Йейтс  Дейвид Баррон, Дейвид Хейман   \n",
       "5057  США - Великобритания  Дэвид Йейтс  Дейвид Баррон, Дейвид Хейман   \n",
       "\n",
       "                      age_restriction  refundable_support  \\\n",
       "371   «16+» - для детей старше 16 лет                 NaN   \n",
       "4198  «16+» - для детей старше 16 лет                 NaN   \n",
       "4526  «16+» - для детей старше 16 лет                 NaN   \n",
       "5057  «16+» - для детей старше 16 лет                 NaN   \n",
       "\n",
       "      nonrefundable_support  budget financing_source  ratings  \\\n",
       "371                     NaN     NaN              NaN      8.1   \n",
       "4198                    NaN     NaN              NaN      8.1   \n",
       "4526                    NaN     NaN              NaN      8.1   \n",
       "5057                    NaN     NaN              NaN      8.1   \n",
       "\n",
       "                      genres  box_office  \n",
       "371   фэнтези,драма,детектив    745510.0  \n",
       "4198  фэнтези,драма,детектив      1700.0  \n",
       "4526  фэнтези,драма,детектив         NaN  \n",
       "5057  фэнтези,драма,детектив         NaN  "
      ]
     },
     "execution_count": 13,
     "metadata": {},
     "output_type": "execute_result"
    }
   ],
   "source": [
    "good_data[good_data['title'] == 'Гарри Поттер и Дары Смерти - Часть 1/По роману Дж.К.Ролинг/']"
   ]
  },
  {
   "cell_type": "markdown",
   "metadata": {},
   "source": [
    "Повторяющиеся названия - одни и те же картины, выходившие в прокат в разные даты, номера удостоверений у них разные."
   ]
  },
  {
   "cell_type": "code",
   "execution_count": 14,
   "metadata": {},
   "outputs": [
    {
     "data": {
      "text/html": [
       "<div>\n",
       "<style scoped>\n",
       "    .dataframe tbody tr th:only-of-type {\n",
       "        vertical-align: middle;\n",
       "    }\n",
       "\n",
       "    .dataframe tbody tr th {\n",
       "        vertical-align: top;\n",
       "    }\n",
       "\n",
       "    .dataframe thead th {\n",
       "        text-align: right;\n",
       "    }\n",
       "</style>\n",
       "<table border=\"1\" class=\"dataframe\">\n",
       "  <thead>\n",
       "    <tr style=\"text-align: right;\">\n",
       "      <th></th>\n",
       "      <th>title</th>\n",
       "      <th>puNumber</th>\n",
       "      <th>show_start_date</th>\n",
       "      <th>type</th>\n",
       "      <th>film_studio</th>\n",
       "      <th>production_country</th>\n",
       "      <th>director</th>\n",
       "      <th>producer</th>\n",
       "      <th>age_restriction</th>\n",
       "      <th>refundable_support</th>\n",
       "      <th>nonrefundable_support</th>\n",
       "      <th>budget</th>\n",
       "      <th>financing_source</th>\n",
       "      <th>ratings</th>\n",
       "      <th>genres</th>\n",
       "      <th>box_office</th>\n",
       "    </tr>\n",
       "  </thead>\n",
       "  <tbody>\n",
       "    <tr>\n",
       "      <th>4638</th>\n",
       "      <td>Как жениться и остаться холостым</td>\n",
       "      <td>221154310</td>\n",
       "      <td>2010-12-17 12:00:00+00:00</td>\n",
       "      <td>Художественный</td>\n",
       "      <td>Ше Вам, Скрипт Ассосье, Тэ Фэ 1 Фильм Продюксь...</td>\n",
       "      <td>Франция</td>\n",
       "      <td>Эрик Лартиго</td>\n",
       "      <td>Амандин Било, Алан Шаба</td>\n",
       "      <td>«16+» - для детей старше 16 лет</td>\n",
       "      <td>NaN</td>\n",
       "      <td>NaN</td>\n",
       "      <td>NaN</td>\n",
       "      <td>NaN</td>\n",
       "      <td>7.0</td>\n",
       "      <td>мелодрама,комедия</td>\n",
       "      <td>NaN</td>\n",
       "    </tr>\n",
       "    <tr>\n",
       "      <th>4639</th>\n",
       "      <td>Иоанна - женщина на папском престоле /По роман...</td>\n",
       "      <td>221154310</td>\n",
       "      <td>2010-12-17 12:00:00+00:00</td>\n",
       "      <td>Художественный</td>\n",
       "      <td>Константин Фильм, А Эр Ди Дегето Фильм, Дюне ...</td>\n",
       "      <td>Германия - Великобритания - Италия - Испания</td>\n",
       "      <td>Зенке Вортманн</td>\n",
       "      <td>Оливер Бербен, Дорис Д.Хайнце, Фарук Элтан</td>\n",
       "      <td>«16+» - для детей старше 16 лет</td>\n",
       "      <td>NaN</td>\n",
       "      <td>NaN</td>\n",
       "      <td>NaN</td>\n",
       "      <td>NaN</td>\n",
       "      <td>7.6</td>\n",
       "      <td>драма,мелодрама,история</td>\n",
       "      <td>NaN</td>\n",
       "    </tr>\n",
       "    <tr>\n",
       "      <th>5067</th>\n",
       "      <td>Анализируй это!</td>\n",
       "      <td>221054410</td>\n",
       "      <td>2010-05-25 12:00:00+00:00</td>\n",
       "      <td>Художественный</td>\n",
       "      <td>Уорнер Бразерс, Вилладж Роудшоу Филмз ЛТД</td>\n",
       "      <td>США-Австралия</td>\n",
       "      <td>ХЭрольд Рэмис</td>\n",
       "      <td>Джейн Розенталь, Пола Уейнстейн</td>\n",
       "      <td>«16+» - для детей старше 16 лет</td>\n",
       "      <td>NaN</td>\n",
       "      <td>NaN</td>\n",
       "      <td>NaN</td>\n",
       "      <td>NaN</td>\n",
       "      <td>7.4</td>\n",
       "      <td>комедия,криминал</td>\n",
       "      <td>NaN</td>\n",
       "    </tr>\n",
       "    <tr>\n",
       "      <th>5068</th>\n",
       "      <td>Анализируй то!</td>\n",
       "      <td>221054410</td>\n",
       "      <td>2010-05-25 12:00:00+00:00</td>\n",
       "      <td>Художественный</td>\n",
       "      <td>Уорнер Бразерс, Виллидж Роадшоу Пикчерз, Эн-Пи...</td>\n",
       "      <td>США</td>\n",
       "      <td>Гарольд Реймис</td>\n",
       "      <td>Джейн Розенталь, Паул Уэйнстейн</td>\n",
       "      <td>«12+» - для детей старше 12 лет</td>\n",
       "      <td>NaN</td>\n",
       "      <td>NaN</td>\n",
       "      <td>NaN</td>\n",
       "      <td>NaN</td>\n",
       "      <td>6.8</td>\n",
       "      <td>комедия,криминал</td>\n",
       "      <td>NaN</td>\n",
       "    </tr>\n",
       "  </tbody>\n",
       "</table>\n",
       "</div>"
      ],
      "text/plain": [
       "                                                  title   puNumber  \\\n",
       "4638                   Как жениться и остаться холостым  221154310   \n",
       "4639  Иоанна - женщина на папском престоле /По роман...  221154310   \n",
       "5067                                    Анализируй это!  221054410   \n",
       "5068                                     Анализируй то!  221054410   \n",
       "\n",
       "               show_start_date            type  \\\n",
       "4638 2010-12-17 12:00:00+00:00  Художественный   \n",
       "4639 2010-12-17 12:00:00+00:00  Художественный   \n",
       "5067 2010-05-25 12:00:00+00:00  Художественный   \n",
       "5068 2010-05-25 12:00:00+00:00  Художественный   \n",
       "\n",
       "                                            film_studio  \\\n",
       "4638  Ше Вам, Скрипт Ассосье, Тэ Фэ 1 Фильм Продюксь...   \n",
       "4639   Константин Фильм, А Эр Ди Дегето Фильм, Дюне ...   \n",
       "5067          Уорнер Бразерс, Вилладж Роудшоу Филмз ЛТД   \n",
       "5068  Уорнер Бразерс, Виллидж Роадшоу Пикчерз, Эн-Пи...   \n",
       "\n",
       "                                production_country        director  \\\n",
       "4638                                       Франция    Эрик Лартиго   \n",
       "4639  Германия - Великобритания - Италия - Испания  Зенке Вортманн   \n",
       "5067                                 США-Австралия   ХЭрольд Рэмис   \n",
       "5068                                           США  Гарольд Реймис   \n",
       "\n",
       "                                        producer  \\\n",
       "4638                     Амандин Било, Алан Шаба   \n",
       "4639  Оливер Бербен, Дорис Д.Хайнце, Фарук Элтан   \n",
       "5067             Джейн Розенталь, Пола Уейнстейн   \n",
       "5068             Джейн Розенталь, Паул Уэйнстейн   \n",
       "\n",
       "                      age_restriction  refundable_support  \\\n",
       "4638  «16+» - для детей старше 16 лет                 NaN   \n",
       "4639  «16+» - для детей старше 16 лет                 NaN   \n",
       "5067  «16+» - для детей старше 16 лет                 NaN   \n",
       "5068  «12+» - для детей старше 12 лет                 NaN   \n",
       "\n",
       "      nonrefundable_support  budget financing_source  ratings  \\\n",
       "4638                    NaN     NaN              NaN      7.0   \n",
       "4639                    NaN     NaN              NaN      7.6   \n",
       "5067                    NaN     NaN              NaN      7.4   \n",
       "5068                    NaN     NaN              NaN      6.8   \n",
       "\n",
       "                       genres  box_office  \n",
       "4638        мелодрама,комедия         NaN  \n",
       "4639  драма,мелодрама,история         NaN  \n",
       "5067         комедия,криминал         NaN  \n",
       "5068         комедия,криминал         NaN  "
      ]
     },
     "execution_count": 14,
     "metadata": {},
     "output_type": "execute_result"
    }
   ],
   "source": [
    "good_data[good_data['puNumber'].duplicated(keep=False)]"
   ]
  },
  {
   "cell_type": "markdown",
   "metadata": {},
   "source": [
    "Номера одинаковые, но фильмы - нет. Думаю что будет ошибкой удалять эти дубликаты, возможно в выгрузку закралась ошибка или фильмы крутились друг за другом - даты показа одинаковые."
   ]
  },
  {
   "cell_type": "markdown",
   "metadata": {},
   "source": [
    "**Вывод:** Дубликаты найдеты, но сокращать их нет смысла, их природа в целом ясна. Полных дубликатов в таблице нет."
   ]
  },
  {
   "cell_type": "markdown",
   "metadata": {
    "id": "52fOPrEBgFyQ"
   },
   "source": [
    "#### Шаг 2.4. Изучите категориальные значения\n",
    "\n",
    "- Посмотрите, какая общая проблема встречается почти во всех категориальных столбцах;\n",
    "- Исправьте проблемные значения в поле `type`.\n",
    "\n",
    "<div id=\"accordion\">\n",
    "    <div class=\"card\">\n",
    "        <div class=\"card-header\" id=\"headingThree\">\n",
    "            <button class=\"btn btn-link collapsed\" data-toggle=\"collapse\" data-target=\"#collapseHint_1\" aria-expanded=\"false\" aria-controls=\"collapseHint_1\">Подсказка</button>\n",
    "        </div>\n",
    "        <div id=\"collapseHint_1\" class=\"collapse\" aria-labelledby=\"headingThree\" data-parent=\"#accordion\">\n",
    "            <div class=\"card-body\">\n",
    "В поле <code>type</code> есть несколько значений, у которых появился пробел в начале строки. Самый простой способ их «починить» -- использовать метод <a href=\"https://pandas.pydata.org/docs/reference/api/pandas.Series.str.strip.html#pandas.Series.str.strip\">.str.strip</a>. Этот метод удаляет все пробелы, которые встречаются в начале и в конце строки. Применяют его таким образом:<br>\n",
    "<code>df['type'].str.strip()</code>\n",
    "            </div>\n",
    "        </div>\n",
    "    </div>\n",
    "</div>"
   ]
  },
  {
   "cell_type": "code",
   "execution_count": 15,
   "metadata": {
    "id": "PnXKIVdFgFyR"
   },
   "outputs": [
    {
     "data": {
      "text/plain": [
       "Художественный                4520\n",
       " Художественный               1389\n",
       "Анимационный                   828\n",
       "Прочие                         406\n",
       "Документальный                 288\n",
       "Научно-популярный               53\n",
       "Музыкально-развлекательный       1\n",
       " Анимационный                    1\n",
       "Name: type, dtype: int64"
      ]
     },
     "execution_count": 15,
     "metadata": {},
     "output_type": "execute_result"
    }
   ],
   "source": [
    "good_data['type'].value_counts()"
   ]
  },
  {
   "cell_type": "code",
   "execution_count": 16,
   "metadata": {},
   "outputs": [
    {
     "data": {
      "text/plain": [
       "«16+» - для детей старше 16 лет           2851\n",
       "«18+» - запрещено для детей               1605\n",
       "«12+» - для детей старше 12 лет           1593\n",
       "«0+» - для любой зрительской аудитории     811\n",
       "«6+» - для детей старше 6 лет              626\n",
       "Name: age_restriction, dtype: int64"
      ]
     },
     "execution_count": 16,
     "metadata": {},
     "output_type": "execute_result"
    }
   ],
   "source": [
    "good_data['age_restriction'].value_counts()"
   ]
  },
  {
   "cell_type": "code",
   "execution_count": 17,
   "metadata": {},
   "outputs": [
    {
     "data": {
      "text/plain": [
       "Министерство культуры               164\n",
       "Фонд кино                           146\n",
       "Министерство культуры, Фонд кино     22\n",
       "Name: financing_source, dtype: int64"
      ]
     },
     "execution_count": 17,
     "metadata": {},
     "output_type": "execute_result"
    }
   ],
   "source": [
    "good_data['financing_source'].value_counts()"
   ]
  },
  {
   "cell_type": "code",
   "execution_count": 18,
   "metadata": {},
   "outputs": [
    {
     "data": {
      "text/plain": [
       "Художественный                5909\n",
       "Анимационный                   829\n",
       "Прочие                         406\n",
       "Документальный                 288\n",
       "Научно-популярный               53\n",
       "Музыкально-развлекательный       1\n",
       "Name: type, dtype: int64"
      ]
     },
     "execution_count": 18,
     "metadata": {},
     "output_type": "execute_result"
    }
   ],
   "source": [
    "#исправляем пробелы в конце и в начале строки\n",
    "good_data['type'] = good_data['type'].str.strip()\n",
    "good_data['type'].value_counts()"
   ]
  },
  {
   "cell_type": "markdown",
   "metadata": {},
   "source": [
    "**Вывод:** Проверили категориальные столбцы, в столбце *type* убрали пробелы в начале и конце строки. В остальных подобных столбцах подобного замечено не было."
   ]
  },
  {
   "cell_type": "markdown",
   "metadata": {
    "id": "XFSN5lrEgFyR"
   },
   "source": [
    "#### Шаг 2.5. Проверьте количественные значения\n",
    "\n",
    "- Проверьте, обнаружились ли в таких столбцах подозрительные данные. Как с такими данными лучше поступить?\n",
    "\n",
    "<div id=\"accordion\">\n",
    "    <div class=\"card\">\n",
    "        <div class=\"card-header\" id=\"headingThree\">\n",
    "            <button class=\"btn btn-link collapsed\" data-toggle=\"collapse\" data-target=\"#collapseHint_budget\" aria-expanded=\"false\" aria-controls=\"collapseHint_budget\">Подсказка</button>\n",
    "        </div>\n",
    "        <div id=\"collapseHint_budget\" class=\"collapse\" aria-labelledby=\"headingThree\" data-parent=\"#accordion\">\n",
    "            <div class=\"card-body\">\n",
    "Обратите внимание на описание столбца <code>budget</code>. Как этот столбец соотносится с двумя другими: <code>refundable_support</code> и <code>nonrefundable_support</code>?\n",
    "            </div>\n",
    "        </div>\n",
    "    </div>\n",
    "</div>"
   ]
  },
  {
   "cell_type": "code",
   "execution_count": 19,
   "metadata": {
    "scrolled": true
   },
   "outputs": [
    {
     "data": {
      "text/html": [
       "<div>\n",
       "<style scoped>\n",
       "    .dataframe tbody tr th:only-of-type {\n",
       "        vertical-align: middle;\n",
       "    }\n",
       "\n",
       "    .dataframe tbody tr th {\n",
       "        vertical-align: top;\n",
       "    }\n",
       "\n",
       "    .dataframe thead th {\n",
       "        text-align: right;\n",
       "    }\n",
       "</style>\n",
       "<table border=\"1\" class=\"dataframe\">\n",
       "  <thead>\n",
       "    <tr style=\"text-align: right;\">\n",
       "      <th></th>\n",
       "      <th>refundable_support</th>\n",
       "      <th>nonrefundable_support</th>\n",
       "      <th>budget</th>\n",
       "      <th>box_office</th>\n",
       "      <th>ratings</th>\n",
       "    </tr>\n",
       "  </thead>\n",
       "  <tbody>\n",
       "    <tr>\n",
       "      <th>count</th>\n",
       "      <td>332.0</td>\n",
       "      <td>332.0</td>\n",
       "      <td>3.320000e+02</td>\n",
       "      <td>3.158000e+03</td>\n",
       "      <td>6490.0</td>\n",
       "    </tr>\n",
       "    <tr>\n",
       "      <th>mean</th>\n",
       "      <td>11864458.0</td>\n",
       "      <td>48980989.0</td>\n",
       "      <td>1.272297e+08</td>\n",
       "      <td>7.647870e+07</td>\n",
       "      <td>6.0</td>\n",
       "    </tr>\n",
       "    <tr>\n",
       "      <th>std</th>\n",
       "      <td>24916555.0</td>\n",
       "      <td>59980118.0</td>\n",
       "      <td>1.885883e+08</td>\n",
       "      <td>2.403531e+08</td>\n",
       "      <td>1.0</td>\n",
       "    </tr>\n",
       "    <tr>\n",
       "      <th>min</th>\n",
       "      <td>0.0</td>\n",
       "      <td>0.0</td>\n",
       "      <td>0.000000e+00</td>\n",
       "      <td>0.000000e+00</td>\n",
       "      <td>1.0</td>\n",
       "    </tr>\n",
       "    <tr>\n",
       "      <th>25%</th>\n",
       "      <td>0.0</td>\n",
       "      <td>25000000.0</td>\n",
       "      <td>4.200000e+07</td>\n",
       "      <td>8.623900e+04</td>\n",
       "      <td>6.0</td>\n",
       "    </tr>\n",
       "    <tr>\n",
       "      <th>50%</th>\n",
       "      <td>0.0</td>\n",
       "      <td>30000000.0</td>\n",
       "      <td>6.864992e+07</td>\n",
       "      <td>2.327988e+06</td>\n",
       "      <td>7.0</td>\n",
       "    </tr>\n",
       "    <tr>\n",
       "      <th>75%</th>\n",
       "      <td>15000000.0</td>\n",
       "      <td>40375000.0</td>\n",
       "      <td>1.419853e+08</td>\n",
       "      <td>2.397967e+07</td>\n",
       "      <td>7.0</td>\n",
       "    </tr>\n",
       "    <tr>\n",
       "      <th>max</th>\n",
       "      <td>180000000.0</td>\n",
       "      <td>400000000.0</td>\n",
       "      <td>2.305074e+09</td>\n",
       "      <td>3.073569e+09</td>\n",
       "      <td>9.0</td>\n",
       "    </tr>\n",
       "  </tbody>\n",
       "</table>\n",
       "</div>"
      ],
      "text/plain": [
       "       refundable_support  nonrefundable_support        budget    box_office  \\\n",
       "count               332.0                  332.0  3.320000e+02  3.158000e+03   \n",
       "mean           11864458.0             48980989.0  1.272297e+08  7.647870e+07   \n",
       "std            24916555.0             59980118.0  1.885883e+08  2.403531e+08   \n",
       "min                   0.0                    0.0  0.000000e+00  0.000000e+00   \n",
       "25%                   0.0             25000000.0  4.200000e+07  8.623900e+04   \n",
       "50%                   0.0             30000000.0  6.864992e+07  2.327988e+06   \n",
       "75%            15000000.0             40375000.0  1.419853e+08  2.397967e+07   \n",
       "max           180000000.0            400000000.0  2.305074e+09  3.073569e+09   \n",
       "\n",
       "       ratings  \n",
       "count   6490.0  \n",
       "mean       6.0  \n",
       "std        1.0  \n",
       "min        1.0  \n",
       "25%        6.0  \n",
       "50%        7.0  \n",
       "75%        7.0  \n",
       "max        9.0  "
      ]
     },
     "execution_count": 19,
     "metadata": {},
     "output_type": "execute_result"
    }
   ],
   "source": [
    "group = ['refundable_support', 'nonrefundable_support',\n",
    "          'budget', 'box_office', 'ratings']\n",
    "good_data[group].describe().round()"
   ]
  },
  {
   "cell_type": "code",
   "execution_count": 20,
   "metadata": {
    "scrolled": true
   },
   "outputs": [
    {
     "data": {
      "text/html": [
       "<div>\n",
       "<style scoped>\n",
       "    .dataframe tbody tr th:only-of-type {\n",
       "        vertical-align: middle;\n",
       "    }\n",
       "\n",
       "    .dataframe tbody tr th {\n",
       "        vertical-align: top;\n",
       "    }\n",
       "\n",
       "    .dataframe thead th {\n",
       "        text-align: right;\n",
       "    }\n",
       "</style>\n",
       "<table border=\"1\" class=\"dataframe\">\n",
       "  <thead>\n",
       "    <tr style=\"text-align: right;\">\n",
       "      <th></th>\n",
       "      <th>title</th>\n",
       "      <th>puNumber</th>\n",
       "      <th>show_start_date</th>\n",
       "      <th>type</th>\n",
       "      <th>film_studio</th>\n",
       "      <th>production_country</th>\n",
       "      <th>director</th>\n",
       "      <th>producer</th>\n",
       "      <th>age_restriction</th>\n",
       "      <th>refundable_support</th>\n",
       "      <th>nonrefundable_support</th>\n",
       "      <th>budget</th>\n",
       "      <th>financing_source</th>\n",
       "      <th>ratings</th>\n",
       "      <th>genres</th>\n",
       "      <th>box_office</th>\n",
       "    </tr>\n",
       "  </thead>\n",
       "  <tbody>\n",
       "    <tr>\n",
       "      <th>2053</th>\n",
       "      <td>14+</td>\n",
       "      <td>111023614</td>\n",
       "      <td>2014-12-19 12:00:00+00:00</td>\n",
       "      <td>Художественный</td>\n",
       "      <td>ООО Киностудия  \"Сентябрь\"</td>\n",
       "      <td>Россия</td>\n",
       "      <td>А.Зайцев</td>\n",
       "      <td>О.Гранина, А.Зайцев</td>\n",
       "      <td>«16+» - для детей старше 16 лет</td>\n",
       "      <td>0.0</td>\n",
       "      <td>23000000.0</td>\n",
       "      <td>0.0</td>\n",
       "      <td>Министерство культуры, Фонд кино</td>\n",
       "      <td>6.6</td>\n",
       "      <td>мелодрама</td>\n",
       "      <td>1.023402e+07</td>\n",
       "    </tr>\n",
       "    <tr>\n",
       "      <th>2058</th>\n",
       "      <td>Дуxless 2</td>\n",
       "      <td>111000415</td>\n",
       "      <td>2015-01-26 12:00:00+00:00</td>\n",
       "      <td>Художественный</td>\n",
       "      <td>ООО \"Киностудия \"Слово\", ООО \"Арт Пикчерс Студия\"</td>\n",
       "      <td>Россия</td>\n",
       "      <td>Р.Прыгунов</td>\n",
       "      <td>П.Ануров, Ф.Бондарчук, Д.Рудовский</td>\n",
       "      <td>«16+» - для детей старше 16 лет</td>\n",
       "      <td>0.0</td>\n",
       "      <td>75000000.0</td>\n",
       "      <td>0.0</td>\n",
       "      <td>Фонд кино</td>\n",
       "      <td>6.6</td>\n",
       "      <td>драма</td>\n",
       "      <td>4.461635e+08</td>\n",
       "    </tr>\n",
       "    <tr>\n",
       "      <th>2472</th>\n",
       "      <td>Воин (2015)</td>\n",
       "      <td>111017315</td>\n",
       "      <td>2015-09-28 12:00:00+00:00</td>\n",
       "      <td>Художественный</td>\n",
       "      <td>ООО \"Форпост Продакшн\", ООО \"Арт Пикчерс Студия\"</td>\n",
       "      <td>Россия</td>\n",
       "      <td>А.Андрианов</td>\n",
       "      <td>ООО \"Арт Пикчерс Студия\"</td>\n",
       "      <td>«12+» - для детей старше 12 лет</td>\n",
       "      <td>10000000.0</td>\n",
       "      <td>70000000.0</td>\n",
       "      <td>0.0</td>\n",
       "      <td>Фонд кино</td>\n",
       "      <td>7.8</td>\n",
       "      <td>боевик,драма,криминал</td>\n",
       "      <td>1.965724e+08</td>\n",
       "    </tr>\n",
       "    <tr>\n",
       "      <th>2532</th>\n",
       "      <td>Бармен.</td>\n",
       "      <td>111009615</td>\n",
       "      <td>2015-05-26 12:00:00+00:00</td>\n",
       "      <td>Художественный</td>\n",
       "      <td>АО \"ВайТ Медиа\", ООО \"Арт Пикчерс Студия\"</td>\n",
       "      <td>Россия</td>\n",
       "      <td>Д.Штурманова</td>\n",
       "      <td>Т.Вайнштейн</td>\n",
       "      <td>«16+» - для детей старше 16 лет</td>\n",
       "      <td>20000000.0</td>\n",
       "      <td>0.0</td>\n",
       "      <td>0.0</td>\n",
       "      <td>Фонд кино</td>\n",
       "      <td>6.2</td>\n",
       "      <td>комедия,фэнтези</td>\n",
       "      <td>6.741897e+07</td>\n",
       "    </tr>\n",
       "    <tr>\n",
       "      <th>2615</th>\n",
       "      <td>Савва. Сердце воина</td>\n",
       "      <td>114001715</td>\n",
       "      <td>2015-07-21 12:00:00+00:00</td>\n",
       "      <td>Анимационный</td>\n",
       "      <td>ООО \"Глюкоза Продакшн\", ООО \"Арт Пикчерс Студия\"</td>\n",
       "      <td>Россия</td>\n",
       "      <td>М.Фадеев</td>\n",
       "      <td>А.Чистяков</td>\n",
       "      <td>«6+» - для детей старше 6 лет</td>\n",
       "      <td>60000000.0</td>\n",
       "      <td>100000000.0</td>\n",
       "      <td>0.0</td>\n",
       "      <td>Фонд кино</td>\n",
       "      <td>4.6</td>\n",
       "      <td>мультфильм,приключения,фэнтези</td>\n",
       "      <td>1.844876e+08</td>\n",
       "    </tr>\n",
       "    <tr>\n",
       "      <th>2684</th>\n",
       "      <td>Тряпичный союз</td>\n",
       "      <td>111010215</td>\n",
       "      <td>2015-06-08 12:00:00+00:00</td>\n",
       "      <td>Художественный</td>\n",
       "      <td>ООО \"Кинокомпания \"КОКТЕБЕЛЬ\"</td>\n",
       "      <td>Россия</td>\n",
       "      <td>М.Местецкий</td>\n",
       "      <td>Р.Борисевич, А.Кушаев</td>\n",
       "      <td>«18+» - запрещено для детей</td>\n",
       "      <td>0.0</td>\n",
       "      <td>59000000.0</td>\n",
       "      <td>0.0</td>\n",
       "      <td>Фонд кино</td>\n",
       "      <td>6.3</td>\n",
       "      <td>комедия,драма</td>\n",
       "      <td>1.957739e+06</td>\n",
       "    </tr>\n",
       "    <tr>\n",
       "      <th>2788</th>\n",
       "      <td>Срочно выйду замуж</td>\n",
       "      <td>111017115</td>\n",
       "      <td>2015-09-30 12:00:00+00:00</td>\n",
       "      <td>Художественный</td>\n",
       "      <td>АО \"ВайТ Медиа\", ООО \"Арт Пикчерс Студия\"</td>\n",
       "      <td>Россия</td>\n",
       "      <td>С Чекалов</td>\n",
       "      <td>Ф.Бондарчук, Т.Вайнштейн, Д.Рудовский</td>\n",
       "      <td>«16+» - для детей старше 16 лет</td>\n",
       "      <td>0.0</td>\n",
       "      <td>35000000.0</td>\n",
       "      <td>0.0</td>\n",
       "      <td>Фонд кино</td>\n",
       "      <td>5.1</td>\n",
       "      <td>комедия,мелодрама</td>\n",
       "      <td>7.293778e+07</td>\n",
       "    </tr>\n",
       "    <tr>\n",
       "      <th>2874</th>\n",
       "      <td>Помню - не помню!</td>\n",
       "      <td>111004916</td>\n",
       "      <td>2016-03-01 12:00:00+00:00</td>\n",
       "      <td>Художественный</td>\n",
       "      <td>ООО \"КиноФирма\"</td>\n",
       "      <td>Россия</td>\n",
       "      <td>В.Ровенский</td>\n",
       "      <td>ООО \"КиноФирма\"</td>\n",
       "      <td>«12+» - для детей старше 12 лет</td>\n",
       "      <td>0.0</td>\n",
       "      <td>6000000.0</td>\n",
       "      <td>0.0</td>\n",
       "      <td>Министерство культуры</td>\n",
       "      <td>4.3</td>\n",
       "      <td>комедия</td>\n",
       "      <td>1.536293e+07</td>\n",
       "    </tr>\n",
       "    <tr>\n",
       "      <th>3047</th>\n",
       "      <td>Любовь с ограничениями</td>\n",
       "      <td>111008216</td>\n",
       "      <td>2016-04-29 12:00:00+00:00</td>\n",
       "      <td>Художественный</td>\n",
       "      <td>АО \"ВайТ Медиа\", ООО \"Арт Пикчерс Студия\"</td>\n",
       "      <td>Россия</td>\n",
       "      <td>Д.Тюрин</td>\n",
       "      <td>Ф.Бондарчук, Т.Вайнштейн, Д.Рудовский</td>\n",
       "      <td>«16+» - для детей старше 16 лет</td>\n",
       "      <td>19000000.0</td>\n",
       "      <td>51000000.0</td>\n",
       "      <td>0.0</td>\n",
       "      <td>Фонд кино</td>\n",
       "      <td>6.3</td>\n",
       "      <td>комедия,мелодрама</td>\n",
       "      <td>7.029905e+07</td>\n",
       "    </tr>\n",
       "    <tr>\n",
       "      <th>3565</th>\n",
       "      <td>Притяжение (2016)</td>\n",
       "      <td>111018116</td>\n",
       "      <td>2016-12-16 12:00:00+00:00</td>\n",
       "      <td>Художественный</td>\n",
       "      <td>ООО \"Водород 2011\",  ООО \"Арт Пикчерс Студия\"</td>\n",
       "      <td>Россия</td>\n",
       "      <td>Ф.Бондарчук</td>\n",
       "      <td>ООО \"Арт Пикчерс Студия\"</td>\n",
       "      <td>«12+» - для детей старше 12 лет</td>\n",
       "      <td>0.0</td>\n",
       "      <td>250000000.0</td>\n",
       "      <td>0.0</td>\n",
       "      <td>Фонд кино</td>\n",
       "      <td>5.6</td>\n",
       "      <td>фантастика</td>\n",
       "      <td>1.038321e+09</td>\n",
       "    </tr>\n",
       "    <tr>\n",
       "      <th>3675</th>\n",
       "      <td>Чудо-юдо</td>\n",
       "      <td>114001817</td>\n",
       "      <td>2017-06-27 12:00:00+00:00</td>\n",
       "      <td>Анимационный</td>\n",
       "      <td>ООО \"КиноФирма\"</td>\n",
       "      <td>Россия</td>\n",
       "      <td>А.Лукичев</td>\n",
       "      <td>ООО \"КиноФирма\"</td>\n",
       "      <td>«6+» - для детей старше 6 лет</td>\n",
       "      <td>20000000.0</td>\n",
       "      <td>20000000.0</td>\n",
       "      <td>0.0</td>\n",
       "      <td>Фонд кино</td>\n",
       "      <td>5.2</td>\n",
       "      <td>мультфильм,фэнтези,семейный</td>\n",
       "      <td>5.510801e+07</td>\n",
       "    </tr>\n",
       "    <tr>\n",
       "      <th>3739</th>\n",
       "      <td>Мифы</td>\n",
       "      <td>111004317</td>\n",
       "      <td>2017-06-07 12:00:00+00:00</td>\n",
       "      <td>Художественный</td>\n",
       "      <td>ООО \"ХАЙПФИЛМ\", ООО \"Арт Пикчерс Студия\"</td>\n",
       "      <td>Россия</td>\n",
       "      <td>А.Молочников</td>\n",
       "      <td>Ф.Бондарчук, Д.Рудовский, И.Стюарт, М.Османн, ...</td>\n",
       "      <td>«16+» - для детей старше 16 лет</td>\n",
       "      <td>25000000.0</td>\n",
       "      <td>20000000.0</td>\n",
       "      <td>0.0</td>\n",
       "      <td>Фонд кино</td>\n",
       "      <td>4.8</td>\n",
       "      <td>комедия</td>\n",
       "      <td>5.045195e+07</td>\n",
       "    </tr>\n",
       "    <tr>\n",
       "      <th>5673</th>\n",
       "      <td>Селфи</td>\n",
       "      <td>111012117</td>\n",
       "      <td>2018-02-01 12:00:00+00:00</td>\n",
       "      <td>Художественный</td>\n",
       "      <td>ООО \"Киностудия \"Слово\", ООО \"Арт Пикчерс Студия\"</td>\n",
       "      <td>Россия</td>\n",
       "      <td>Н.Хомерики</td>\n",
       "      <td>П.Ануров, Ф.Бондарчук, Д.Рудовский</td>\n",
       "      <td>«16+» - для детей старше 16 лет</td>\n",
       "      <td>20000000.0</td>\n",
       "      <td>40000000.0</td>\n",
       "      <td>0.0</td>\n",
       "      <td>Фонд кино</td>\n",
       "      <td>5.8</td>\n",
       "      <td>триллер,драма</td>\n",
       "      <td>2.251964e+08</td>\n",
       "    </tr>\n",
       "    <tr>\n",
       "      <th>5806</th>\n",
       "      <td>Два хвоста</td>\n",
       "      <td>114001018</td>\n",
       "      <td>2018-05-31 12:00:00+00:00</td>\n",
       "      <td>Анимационный</td>\n",
       "      <td>ООО \"ЛИЦЕНЗИОННЫЕ БРЕНДЫ\"</td>\n",
       "      <td>Россия</td>\n",
       "      <td>В.Ровенский, Н.Лопато, В.Азеев</td>\n",
       "      <td>ООО \"ЛИЦЕНЗИОННЫЕ БРЕНДЫ\"</td>\n",
       "      <td>«6+» - для детей старше 6 лет</td>\n",
       "      <td>10000000.0</td>\n",
       "      <td>60000000.0</td>\n",
       "      <td>0.0</td>\n",
       "      <td>Фонд кино</td>\n",
       "      <td>5.0</td>\n",
       "      <td>мультфильм,детский</td>\n",
       "      <td>1.065143e+08</td>\n",
       "    </tr>\n",
       "    <tr>\n",
       "      <th>6008</th>\n",
       "      <td>Принцесса и дракон</td>\n",
       "      <td>114003018</td>\n",
       "      <td>2018-08-23 12:00:00+00:00</td>\n",
       "      <td>Анимационный</td>\n",
       "      <td>ООО \"ЛИЦЕНЗИОННЫЕ БРЕНДЫ\"</td>\n",
       "      <td>Россия</td>\n",
       "      <td>М.Нефедова</td>\n",
       "      <td>ООО \"ЛИЦЕНЗИОННЫЕ БРЕНДЫ\"</td>\n",
       "      <td>«6+» - для детей старше 6 лет</td>\n",
       "      <td>40000000.0</td>\n",
       "      <td>40000000.0</td>\n",
       "      <td>0.0</td>\n",
       "      <td>Фонд кино</td>\n",
       "      <td>5.2</td>\n",
       "      <td>мультфильм,фэнтези,детский</td>\n",
       "      <td>8.336633e+07</td>\n",
       "    </tr>\n",
       "    <tr>\n",
       "      <th>6323</th>\n",
       "      <td>Баба Яга</td>\n",
       "      <td>114006518</td>\n",
       "      <td>2018-11-08 12:00:00+00:00</td>\n",
       "      <td>Анимационный</td>\n",
       "      <td>ООО \"Арт Пикчерс Студия\"</td>\n",
       "      <td>Россия</td>\n",
       "      <td>В.Саков</td>\n",
       "      <td>ООО \"Арт Пикчерс Студия\", ООО \"КРИЭЙТИВ АНИМЭЙ...</td>\n",
       "      <td>«6+» - для детей старше 6 лет</td>\n",
       "      <td>0.0</td>\n",
       "      <td>138969465.0</td>\n",
       "      <td>0.0</td>\n",
       "      <td>Фонд кино</td>\n",
       "      <td>NaN</td>\n",
       "      <td>Нет данных</td>\n",
       "      <td>1.334699e+06</td>\n",
       "    </tr>\n",
       "    <tr>\n",
       "      <th>6823</th>\n",
       "      <td>Большое путешествие</td>\n",
       "      <td>114002419</td>\n",
       "      <td>2019-04-20 12:00:00+00:00</td>\n",
       "      <td>Анимационный</td>\n",
       "      <td>ООО \"ЛИЦЕНЗИОННЫЕ БРЕНДЫ\"</td>\n",
       "      <td>Россия</td>\n",
       "      <td>Н.Лопато, В.Ровенский</td>\n",
       "      <td>ООО \"ЛИЦЕНЗИОННЫЕ БРЕНДЫ\"</td>\n",
       "      <td>«6+» - для детей старше 6 лет</td>\n",
       "      <td>60000000.0</td>\n",
       "      <td>120000000.0</td>\n",
       "      <td>0.0</td>\n",
       "      <td>Фонд кино</td>\n",
       "      <td>6.2</td>\n",
       "      <td>мультфильм,комедия,приключения</td>\n",
       "      <td>1.476068e+08</td>\n",
       "    </tr>\n",
       "  </tbody>\n",
       "</table>\n",
       "</div>"
      ],
      "text/plain": [
       "                       title   puNumber           show_start_date  \\\n",
       "2053                     14+  111023614 2014-12-19 12:00:00+00:00   \n",
       "2058               Дуxless 2  111000415 2015-01-26 12:00:00+00:00   \n",
       "2472             Воин (2015)  111017315 2015-09-28 12:00:00+00:00   \n",
       "2532                 Бармен.  111009615 2015-05-26 12:00:00+00:00   \n",
       "2615     Савва. Сердце воина  114001715 2015-07-21 12:00:00+00:00   \n",
       "2684          Тряпичный союз  111010215 2015-06-08 12:00:00+00:00   \n",
       "2788      Срочно выйду замуж  111017115 2015-09-30 12:00:00+00:00   \n",
       "2874       Помню - не помню!  111004916 2016-03-01 12:00:00+00:00   \n",
       "3047  Любовь с ограничениями  111008216 2016-04-29 12:00:00+00:00   \n",
       "3565       Притяжение (2016)  111018116 2016-12-16 12:00:00+00:00   \n",
       "3675                Чудо-юдо  114001817 2017-06-27 12:00:00+00:00   \n",
       "3739                    Мифы  111004317 2017-06-07 12:00:00+00:00   \n",
       "5673                   Селфи  111012117 2018-02-01 12:00:00+00:00   \n",
       "5806              Два хвоста  114001018 2018-05-31 12:00:00+00:00   \n",
       "6008      Принцесса и дракон  114003018 2018-08-23 12:00:00+00:00   \n",
       "6323                Баба Яга  114006518 2018-11-08 12:00:00+00:00   \n",
       "6823     Большое путешествие  114002419 2019-04-20 12:00:00+00:00   \n",
       "\n",
       "                type                                        film_studio  \\\n",
       "2053  Художественный                         ООО Киностудия  \"Сентябрь\"   \n",
       "2058  Художественный  ООО \"Киностудия \"Слово\", ООО \"Арт Пикчерс Студия\"   \n",
       "2472  Художественный   ООО \"Форпост Продакшн\", ООО \"Арт Пикчерс Студия\"   \n",
       "2532  Художественный          АО \"ВайТ Медиа\", ООО \"Арт Пикчерс Студия\"   \n",
       "2615    Анимационный   ООО \"Глюкоза Продакшн\", ООО \"Арт Пикчерс Студия\"   \n",
       "2684  Художественный                      ООО \"Кинокомпания \"КОКТЕБЕЛЬ\"   \n",
       "2788  Художественный          АО \"ВайТ Медиа\", ООО \"Арт Пикчерс Студия\"   \n",
       "2874  Художественный                                    ООО \"КиноФирма\"   \n",
       "3047  Художественный          АО \"ВайТ Медиа\", ООО \"Арт Пикчерс Студия\"   \n",
       "3565  Художественный      ООО \"Водород 2011\",  ООО \"Арт Пикчерс Студия\"   \n",
       "3675    Анимационный                                    ООО \"КиноФирма\"   \n",
       "3739  Художественный           ООО \"ХАЙПФИЛМ\", ООО \"Арт Пикчерс Студия\"   \n",
       "5673  Художественный  ООО \"Киностудия \"Слово\", ООО \"Арт Пикчерс Студия\"   \n",
       "5806    Анимационный                          ООО \"ЛИЦЕНЗИОННЫЕ БРЕНДЫ\"   \n",
       "6008    Анимационный                          ООО \"ЛИЦЕНЗИОННЫЕ БРЕНДЫ\"   \n",
       "6323    Анимационный                           ООО \"Арт Пикчерс Студия\"   \n",
       "6823    Анимационный                          ООО \"ЛИЦЕНЗИОННЫЕ БРЕНДЫ\"   \n",
       "\n",
       "     production_country                        director  \\\n",
       "2053             Россия                        А.Зайцев   \n",
       "2058             Россия                      Р.Прыгунов   \n",
       "2472             Россия                     А.Андрианов   \n",
       "2532             Россия                    Д.Штурманова   \n",
       "2615             Россия                        М.Фадеев   \n",
       "2684             Россия                     М.Местецкий   \n",
       "2788             Россия                       С Чекалов   \n",
       "2874             Россия                     В.Ровенский   \n",
       "3047             Россия                         Д.Тюрин   \n",
       "3565             Россия                     Ф.Бондарчук   \n",
       "3675             Россия                       А.Лукичев   \n",
       "3739             Россия                    А.Молочников   \n",
       "5673             Россия                      Н.Хомерики   \n",
       "5806             Россия  В.Ровенский, Н.Лопато, В.Азеев   \n",
       "6008             Россия                      М.Нефедова   \n",
       "6323             Россия                         В.Саков   \n",
       "6823             Россия           Н.Лопато, В.Ровенский   \n",
       "\n",
       "                                               producer  \\\n",
       "2053                                О.Гранина, А.Зайцев   \n",
       "2058                 П.Ануров, Ф.Бондарчук, Д.Рудовский   \n",
       "2472                           ООО \"Арт Пикчерс Студия\"   \n",
       "2532                                        Т.Вайнштейн   \n",
       "2615                                         А.Чистяков   \n",
       "2684                              Р.Борисевич, А.Кушаев   \n",
       "2788              Ф.Бондарчук, Т.Вайнштейн, Д.Рудовский   \n",
       "2874                                    ООО \"КиноФирма\"   \n",
       "3047              Ф.Бондарчук, Т.Вайнштейн, Д.Рудовский   \n",
       "3565                           ООО \"Арт Пикчерс Студия\"   \n",
       "3675                                    ООО \"КиноФирма\"   \n",
       "3739  Ф.Бондарчук, Д.Рудовский, И.Стюарт, М.Османн, ...   \n",
       "5673                 П.Ануров, Ф.Бондарчук, Д.Рудовский   \n",
       "5806                          ООО \"ЛИЦЕНЗИОННЫЕ БРЕНДЫ\"   \n",
       "6008                          ООО \"ЛИЦЕНЗИОННЫЕ БРЕНДЫ\"   \n",
       "6323  ООО \"Арт Пикчерс Студия\", ООО \"КРИЭЙТИВ АНИМЭЙ...   \n",
       "6823                          ООО \"ЛИЦЕНЗИОННЫЕ БРЕНДЫ\"   \n",
       "\n",
       "                      age_restriction  refundable_support  \\\n",
       "2053  «16+» - для детей старше 16 лет                 0.0   \n",
       "2058  «16+» - для детей старше 16 лет                 0.0   \n",
       "2472  «12+» - для детей старше 12 лет          10000000.0   \n",
       "2532  «16+» - для детей старше 16 лет          20000000.0   \n",
       "2615    «6+» - для детей старше 6 лет          60000000.0   \n",
       "2684      «18+» - запрещено для детей                 0.0   \n",
       "2788  «16+» - для детей старше 16 лет                 0.0   \n",
       "2874  «12+» - для детей старше 12 лет                 0.0   \n",
       "3047  «16+» - для детей старше 16 лет          19000000.0   \n",
       "3565  «12+» - для детей старше 12 лет                 0.0   \n",
       "3675    «6+» - для детей старше 6 лет          20000000.0   \n",
       "3739  «16+» - для детей старше 16 лет          25000000.0   \n",
       "5673  «16+» - для детей старше 16 лет          20000000.0   \n",
       "5806    «6+» - для детей старше 6 лет          10000000.0   \n",
       "6008    «6+» - для детей старше 6 лет          40000000.0   \n",
       "6323    «6+» - для детей старше 6 лет                 0.0   \n",
       "6823    «6+» - для детей старше 6 лет          60000000.0   \n",
       "\n",
       "      nonrefundable_support  budget                  financing_source  \\\n",
       "2053             23000000.0     0.0  Министерство культуры, Фонд кино   \n",
       "2058             75000000.0     0.0                         Фонд кино   \n",
       "2472             70000000.0     0.0                         Фонд кино   \n",
       "2532                    0.0     0.0                         Фонд кино   \n",
       "2615            100000000.0     0.0                         Фонд кино   \n",
       "2684             59000000.0     0.0                         Фонд кино   \n",
       "2788             35000000.0     0.0                         Фонд кино   \n",
       "2874              6000000.0     0.0             Министерство культуры   \n",
       "3047             51000000.0     0.0                         Фонд кино   \n",
       "3565            250000000.0     0.0                         Фонд кино   \n",
       "3675             20000000.0     0.0                         Фонд кино   \n",
       "3739             20000000.0     0.0                         Фонд кино   \n",
       "5673             40000000.0     0.0                         Фонд кино   \n",
       "5806             60000000.0     0.0                         Фонд кино   \n",
       "6008             40000000.0     0.0                         Фонд кино   \n",
       "6323            138969465.0     0.0                         Фонд кино   \n",
       "6823            120000000.0     0.0                         Фонд кино   \n",
       "\n",
       "      ratings                          genres    box_office  \n",
       "2053      6.6                       мелодрама  1.023402e+07  \n",
       "2058      6.6                           драма  4.461635e+08  \n",
       "2472      7.8           боевик,драма,криминал  1.965724e+08  \n",
       "2532      6.2                 комедия,фэнтези  6.741897e+07  \n",
       "2615      4.6  мультфильм,приключения,фэнтези  1.844876e+08  \n",
       "2684      6.3                   комедия,драма  1.957739e+06  \n",
       "2788      5.1               комедия,мелодрама  7.293778e+07  \n",
       "2874      4.3                         комедия  1.536293e+07  \n",
       "3047      6.3               комедия,мелодрама  7.029905e+07  \n",
       "3565      5.6                      фантастика  1.038321e+09  \n",
       "3675      5.2     мультфильм,фэнтези,семейный  5.510801e+07  \n",
       "3739      4.8                         комедия  5.045195e+07  \n",
       "5673      5.8                   триллер,драма  2.251964e+08  \n",
       "5806      5.0              мультфильм,детский  1.065143e+08  \n",
       "6008      5.2      мультфильм,фэнтези,детский  8.336633e+07  \n",
       "6323      NaN                      Нет данных  1.334699e+06  \n",
       "6823      6.2  мультфильм,комедия,приключения  1.476068e+08  "
      ]
     },
     "execution_count": 20,
     "metadata": {},
     "output_type": "execute_result"
    }
   ],
   "source": [
    "#посмотрим фильмы с нулевым бюджетом\n",
    "good_data[good_data['budget'] == 0]"
   ]
  },
  {
   "cell_type": "markdown",
   "metadata": {},
   "source": [
    "Видим что все фильмы с \"нулевым\" бюджетом имеют какую-то поддержку, значит их бюджет не может быть меньше этой поддержки."
   ]
  },
  {
   "cell_type": "code",
   "execution_count": 21,
   "metadata": {},
   "outputs": [
    {
     "data": {
      "text/plain": [
       "title                                                 14+\n",
       "puNumber                                        111023614\n",
       "show_start_date                 2014-12-19 12:00:00+00:00\n",
       "type                                       Художественный\n",
       "film_studio                    ООО Киностудия  \"Сентябрь\"\n",
       "production_country                                 Россия\n",
       "director                                         А.Зайцев\n",
       "producer                              О.Гранина, А.Зайцев\n",
       "age_restriction           «16+» - для детей старше 16 лет\n",
       "refundable_support                                    0.0\n",
       "nonrefundable_support                          23000000.0\n",
       "budget                                         23000000.0\n",
       "financing_source         Министерство культуры, Фонд кино\n",
       "ratings                                               6.6\n",
       "genres                                          мелодрама\n",
       "box_office                                     10234016.1\n",
       "Name: 2053, dtype: object"
      ]
     },
     "execution_count": 21,
     "metadata": {},
     "output_type": "execute_result"
    }
   ],
   "source": [
    "#исправим ситуцаию\n",
    "def correct_budget(row):\n",
    "    if row['budget'] < (row['refundable_support'] + row['nonrefundable_support']):\n",
    "        return row['refundable_support'] + row['nonrefundable_support']\n",
    "    return row['budget']\n",
    "good_data['budget'] = good_data.apply(correct_budget, axis=1)\n",
    "good_data.loc[2053]"
   ]
  },
  {
   "cell_type": "markdown",
   "metadata": {},
   "source": [
    "Исправили ситуацию."
   ]
  },
  {
   "cell_type": "code",
   "execution_count": 22,
   "metadata": {},
   "outputs": [
    {
     "data": {
      "text/html": [
       "<div>\n",
       "<style scoped>\n",
       "    .dataframe tbody tr th:only-of-type {\n",
       "        vertical-align: middle;\n",
       "    }\n",
       "\n",
       "    .dataframe tbody tr th {\n",
       "        vertical-align: top;\n",
       "    }\n",
       "\n",
       "    .dataframe thead th {\n",
       "        text-align: right;\n",
       "    }\n",
       "</style>\n",
       "<table border=\"1\" class=\"dataframe\">\n",
       "  <thead>\n",
       "    <tr style=\"text-align: right;\">\n",
       "      <th></th>\n",
       "      <th>refundable_support</th>\n",
       "      <th>nonrefundable_support</th>\n",
       "      <th>budget</th>\n",
       "      <th>box_office</th>\n",
       "      <th>ratings</th>\n",
       "    </tr>\n",
       "  </thead>\n",
       "  <tbody>\n",
       "    <tr>\n",
       "      <th>count</th>\n",
       "      <td>332.0</td>\n",
       "      <td>332.0</td>\n",
       "      <td>3.320000e+02</td>\n",
       "      <td>3.158000e+03</td>\n",
       "      <td>6490.0</td>\n",
       "    </tr>\n",
       "    <tr>\n",
       "      <th>mean</th>\n",
       "      <td>11864458.0</td>\n",
       "      <td>48980989.0</td>\n",
       "      <td>1.314224e+08</td>\n",
       "      <td>7.647870e+07</td>\n",
       "      <td>6.0</td>\n",
       "    </tr>\n",
       "    <tr>\n",
       "      <th>std</th>\n",
       "      <td>24916555.0</td>\n",
       "      <td>59980118.0</td>\n",
       "      <td>1.871482e+08</td>\n",
       "      <td>2.403531e+08</td>\n",
       "      <td>1.0</td>\n",
       "    </tr>\n",
       "    <tr>\n",
       "      <th>min</th>\n",
       "      <td>0.0</td>\n",
       "      <td>0.0</td>\n",
       "      <td>6.000000e+06</td>\n",
       "      <td>0.000000e+00</td>\n",
       "      <td>1.0</td>\n",
       "    </tr>\n",
       "    <tr>\n",
       "      <th>25%</th>\n",
       "      <td>0.0</td>\n",
       "      <td>25000000.0</td>\n",
       "      <td>4.552480e+07</td>\n",
       "      <td>8.623900e+04</td>\n",
       "      <td>6.0</td>\n",
       "    </tr>\n",
       "    <tr>\n",
       "      <th>50%</th>\n",
       "      <td>0.0</td>\n",
       "      <td>30000000.0</td>\n",
       "      <td>7.119690e+07</td>\n",
       "      <td>2.327988e+06</td>\n",
       "      <td>7.0</td>\n",
       "    </tr>\n",
       "    <tr>\n",
       "      <th>75%</th>\n",
       "      <td>15000000.0</td>\n",
       "      <td>40375000.0</td>\n",
       "      <td>1.500000e+08</td>\n",
       "      <td>2.397967e+07</td>\n",
       "      <td>7.0</td>\n",
       "    </tr>\n",
       "    <tr>\n",
       "      <th>max</th>\n",
       "      <td>180000000.0</td>\n",
       "      <td>400000000.0</td>\n",
       "      <td>2.305074e+09</td>\n",
       "      <td>3.073569e+09</td>\n",
       "      <td>9.0</td>\n",
       "    </tr>\n",
       "  </tbody>\n",
       "</table>\n",
       "</div>"
      ],
      "text/plain": [
       "       refundable_support  nonrefundable_support        budget    box_office  \\\n",
       "count               332.0                  332.0  3.320000e+02  3.158000e+03   \n",
       "mean           11864458.0             48980989.0  1.314224e+08  7.647870e+07   \n",
       "std            24916555.0             59980118.0  1.871482e+08  2.403531e+08   \n",
       "min                   0.0                    0.0  6.000000e+06  0.000000e+00   \n",
       "25%                   0.0             25000000.0  4.552480e+07  8.623900e+04   \n",
       "50%                   0.0             30000000.0  7.119690e+07  2.327988e+06   \n",
       "75%            15000000.0             40375000.0  1.500000e+08  2.397967e+07   \n",
       "max           180000000.0            400000000.0  2.305074e+09  3.073569e+09   \n",
       "\n",
       "       ratings  \n",
       "count   6490.0  \n",
       "mean       6.0  \n",
       "std        1.0  \n",
       "min        1.0  \n",
       "25%        6.0  \n",
       "50%        7.0  \n",
       "75%        7.0  \n",
       "max        9.0  "
      ]
     },
     "execution_count": 22,
     "metadata": {},
     "output_type": "execute_result"
    }
   ],
   "source": [
    "good_data[group].describe().round()"
   ]
  },
  {
   "cell_type": "markdown",
   "metadata": {},
   "source": [
    "**Вывод:** Были исправлены подозрительные данные, где при наличии поддержки бюджет фильма был нулевым. Подобные строки были исправлены, чтобы они не вводили нас в заблуждение."
   ]
  },
  {
   "cell_type": "markdown",
   "metadata": {
    "id": "Eu6oWp2CgFyS"
   },
   "source": [
    "#### Шаг 2.6. Добавьте новые столбцы\n",
    "\n",
    "\n",
    "\n"
   ]
  },
  {
   "cell_type": "markdown",
   "metadata": {
    "id": "7GgW-UpAgFyS"
   },
   "source": [
    "- Создайте столбец с информацией о годе проката. Выделите год из даты премьеры фильма."
   ]
  },
  {
   "cell_type": "code",
   "execution_count": 23,
   "metadata": {
    "id": "I-yd1DkWgFyT"
   },
   "outputs": [
    {
     "data": {
      "text/html": [
       "<div>\n",
       "<style scoped>\n",
       "    .dataframe tbody tr th:only-of-type {\n",
       "        vertical-align: middle;\n",
       "    }\n",
       "\n",
       "    .dataframe tbody tr th {\n",
       "        vertical-align: top;\n",
       "    }\n",
       "\n",
       "    .dataframe thead th {\n",
       "        text-align: right;\n",
       "    }\n",
       "</style>\n",
       "<table border=\"1\" class=\"dataframe\">\n",
       "  <thead>\n",
       "    <tr style=\"text-align: right;\">\n",
       "      <th></th>\n",
       "      <th>title</th>\n",
       "      <th>puNumber</th>\n",
       "      <th>show_start_date</th>\n",
       "      <th>type</th>\n",
       "      <th>film_studio</th>\n",
       "      <th>production_country</th>\n",
       "      <th>director</th>\n",
       "      <th>producer</th>\n",
       "      <th>age_restriction</th>\n",
       "      <th>refundable_support</th>\n",
       "      <th>nonrefundable_support</th>\n",
       "      <th>budget</th>\n",
       "      <th>financing_source</th>\n",
       "      <th>ratings</th>\n",
       "      <th>genres</th>\n",
       "      <th>box_office</th>\n",
       "      <th>show_start_year</th>\n",
       "    </tr>\n",
       "  </thead>\n",
       "  <tbody>\n",
       "    <tr>\n",
       "      <th>0</th>\n",
       "      <td>Открытый простор</td>\n",
       "      <td>221048915</td>\n",
       "      <td>2015-11-27 12:00:00+00:00</td>\n",
       "      <td>Художественный</td>\n",
       "      <td>Тачстоун Пикчерз, Кобальт Пикчерз, Бикон Пикче...</td>\n",
       "      <td>США</td>\n",
       "      <td>Кевин Костнер</td>\n",
       "      <td>Дэвид Валдес, Кевин Костнер, Джейк Эбертс</td>\n",
       "      <td>«18+» - запрещено для детей</td>\n",
       "      <td>NaN</td>\n",
       "      <td>NaN</td>\n",
       "      <td>NaN</td>\n",
       "      <td>NaN</td>\n",
       "      <td>7.2</td>\n",
       "      <td>боевик,драма,мелодрама</td>\n",
       "      <td>NaN</td>\n",
       "      <td>2015</td>\n",
       "    </tr>\n",
       "    <tr>\n",
       "      <th>1</th>\n",
       "      <td>Особо важное задание</td>\n",
       "      <td>111013716</td>\n",
       "      <td>2016-09-13 12:00:00+00:00</td>\n",
       "      <td>Художественный</td>\n",
       "      <td>Киностудия \"Мосфильм\"</td>\n",
       "      <td>СССР</td>\n",
       "      <td>Е.Матвеев</td>\n",
       "      <td>Нет данных</td>\n",
       "      <td>«6+» - для детей старше 6 лет</td>\n",
       "      <td>NaN</td>\n",
       "      <td>NaN</td>\n",
       "      <td>NaN</td>\n",
       "      <td>NaN</td>\n",
       "      <td>6.6</td>\n",
       "      <td>драма,военный</td>\n",
       "      <td>NaN</td>\n",
       "      <td>2016</td>\n",
       "    </tr>\n",
       "    <tr>\n",
       "      <th>2</th>\n",
       "      <td>Особо опасен</td>\n",
       "      <td>221038416</td>\n",
       "      <td>2016-10-10 12:00:00+00:00</td>\n",
       "      <td>Художественный</td>\n",
       "      <td>Юниверсал Пикчерз, Кикстарт Продакшнз, Марк Пл...</td>\n",
       "      <td>США</td>\n",
       "      <td>Тимур Бекмамбетов</td>\n",
       "      <td>Джим Лемли, Джейсон Нетер, Марк Е.Платт, Яйн Смит</td>\n",
       "      <td>«18+» - запрещено для детей</td>\n",
       "      <td>NaN</td>\n",
       "      <td>NaN</td>\n",
       "      <td>NaN</td>\n",
       "      <td>NaN</td>\n",
       "      <td>6.8</td>\n",
       "      <td>фантастика,боевик,триллер</td>\n",
       "      <td>NaN</td>\n",
       "      <td>2016</td>\n",
       "    </tr>\n",
       "    <tr>\n",
       "      <th>3</th>\n",
       "      <td>Особо опасен</td>\n",
       "      <td>221026916</td>\n",
       "      <td>2016-06-10 12:00:00+00:00</td>\n",
       "      <td>Художественный</td>\n",
       "      <td>Юниверсал Пикчерз, Кикстарт Продакшнз, Марк Пл...</td>\n",
       "      <td>США</td>\n",
       "      <td>Тимур Бекмамбетов</td>\n",
       "      <td>Джим Лемли, Джейсон Нетер, Марк Е.Платт, Яйн Смит</td>\n",
       "      <td>«18+» - запрещено для детей</td>\n",
       "      <td>NaN</td>\n",
       "      <td>NaN</td>\n",
       "      <td>NaN</td>\n",
       "      <td>NaN</td>\n",
       "      <td>6.8</td>\n",
       "      <td>фантастика,боевик,триллер</td>\n",
       "      <td>NaN</td>\n",
       "      <td>2016</td>\n",
       "    </tr>\n",
       "    <tr>\n",
       "      <th>4</th>\n",
       "      <td>Особо опасен</td>\n",
       "      <td>221030815</td>\n",
       "      <td>2015-07-29 12:00:00+00:00</td>\n",
       "      <td>Художественный</td>\n",
       "      <td>Юниверсал Пикчерз, Кикстарт Продакшнз, Марк Пл...</td>\n",
       "      <td>США</td>\n",
       "      <td>Тимур Бекмамбетов</td>\n",
       "      <td>Джим Лемли, Джейсон Нетер, Марк Е.Платт, Яйн Смит</td>\n",
       "      <td>«18+» - запрещено для детей</td>\n",
       "      <td>NaN</td>\n",
       "      <td>NaN</td>\n",
       "      <td>NaN</td>\n",
       "      <td>NaN</td>\n",
       "      <td>6.8</td>\n",
       "      <td>фантастика,боевик,триллер</td>\n",
       "      <td>NaN</td>\n",
       "      <td>2015</td>\n",
       "    </tr>\n",
       "  </tbody>\n",
       "</table>\n",
       "</div>"
      ],
      "text/plain": [
       "                  title   puNumber           show_start_date            type  \\\n",
       "0      Открытый простор  221048915 2015-11-27 12:00:00+00:00  Художественный   \n",
       "1  Особо важное задание  111013716 2016-09-13 12:00:00+00:00  Художественный   \n",
       "2          Особо опасен  221038416 2016-10-10 12:00:00+00:00  Художественный   \n",
       "3          Особо опасен  221026916 2016-06-10 12:00:00+00:00  Художественный   \n",
       "4          Особо опасен  221030815 2015-07-29 12:00:00+00:00  Художественный   \n",
       "\n",
       "                                         film_studio production_country  \\\n",
       "0  Тачстоун Пикчерз, Кобальт Пикчерз, Бикон Пикче...                США   \n",
       "1                              Киностудия \"Мосфильм\"               СССР   \n",
       "2  Юниверсал Пикчерз, Кикстарт Продакшнз, Марк Пл...                США   \n",
       "3  Юниверсал Пикчерз, Кикстарт Продакшнз, Марк Пл...                США   \n",
       "4  Юниверсал Пикчерз, Кикстарт Продакшнз, Марк Пл...                США   \n",
       "\n",
       "            director                                           producer  \\\n",
       "0      Кевин Костнер          Дэвид Валдес, Кевин Костнер, Джейк Эбертс   \n",
       "1          Е.Матвеев                                         Нет данных   \n",
       "2  Тимур Бекмамбетов  Джим Лемли, Джейсон Нетер, Марк Е.Платт, Яйн Смит   \n",
       "3  Тимур Бекмамбетов  Джим Лемли, Джейсон Нетер, Марк Е.Платт, Яйн Смит   \n",
       "4  Тимур Бекмамбетов  Джим Лемли, Джейсон Нетер, Марк Е.Платт, Яйн Смит   \n",
       "\n",
       "                 age_restriction  refundable_support  nonrefundable_support  \\\n",
       "0    «18+» - запрещено для детей                 NaN                    NaN   \n",
       "1  «6+» - для детей старше 6 лет                 NaN                    NaN   \n",
       "2    «18+» - запрещено для детей                 NaN                    NaN   \n",
       "3    «18+» - запрещено для детей                 NaN                    NaN   \n",
       "4    «18+» - запрещено для детей                 NaN                    NaN   \n",
       "\n",
       "   budget financing_source  ratings                     genres  box_office  \\\n",
       "0     NaN              NaN      7.2     боевик,драма,мелодрама         NaN   \n",
       "1     NaN              NaN      6.6              драма,военный         NaN   \n",
       "2     NaN              NaN      6.8  фантастика,боевик,триллер         NaN   \n",
       "3     NaN              NaN      6.8  фантастика,боевик,триллер         NaN   \n",
       "4     NaN              NaN      6.8  фантастика,боевик,триллер         NaN   \n",
       "\n",
       "   show_start_year  \n",
       "0             2015  \n",
       "1             2016  \n",
       "2             2016  \n",
       "3             2016  \n",
       "4             2015  "
      ]
     },
     "execution_count": 23,
     "metadata": {},
     "output_type": "execute_result"
    }
   ],
   "source": [
    "good_data['show_start_year'] = good_data['show_start_date'].dt.year\n",
    "good_data.head()"
   ]
  },
  {
   "cell_type": "markdown",
   "metadata": {
    "id": "nFTDLDYOgFyT"
   },
   "source": [
    "- Создайте два столбца: с именем и фамилией главного режиссёра и основным жанром фильма. В столбцы войдут первые значения из списка режиссёров и жанров соответственно.\n",
    "\n",
    "<div id=\"accordion\">\n",
    "    <div class=\"card\">\n",
    "        <div class=\"card-header\" id=\"headingThree\">\n",
    "            <button class=\"btn btn-link collapsed\" data-toggle=\"collapse\" data-target=\"#collapseHint_2\" aria-expanded=\"false\" aria-controls=\"collapseHint_2\">Подсказка</button>\n",
    "        </div>\n",
    "        <div id=\"collapseHint_2\" class=\"collapse\" aria-labelledby=\"headingThree\" data-parent=\"#accordion\">\n",
    "            <div class=\"card-body\">\n",
    "Чтобы создать такие столбцы, лучше всего использовать собственную функцию. Эту функцию можно применить к двум столбцам сразу. \n",
    "            </div>\n",
    "        </div>\n",
    "    </div>\n",
    "</div>"
   ]
  },
  {
   "cell_type": "markdown",
   "metadata": {
    "id": "LSbRZKbMgFyU"
   },
   "source": [
    "Создадим функцию, которая будет брать первый (*зачастую основной*) жанр или фамилию, если там указано несколько."
   ]
  },
  {
   "cell_type": "code",
   "execution_count": 24,
   "metadata": {},
   "outputs": [
    {
     "data": {
      "text/html": [
       "<div>\n",
       "<style scoped>\n",
       "    .dataframe tbody tr th:only-of-type {\n",
       "        vertical-align: middle;\n",
       "    }\n",
       "\n",
       "    .dataframe tbody tr th {\n",
       "        vertical-align: top;\n",
       "    }\n",
       "\n",
       "    .dataframe thead th {\n",
       "        text-align: right;\n",
       "    }\n",
       "</style>\n",
       "<table border=\"1\" class=\"dataframe\">\n",
       "  <thead>\n",
       "    <tr style=\"text-align: right;\">\n",
       "      <th></th>\n",
       "      <th>title</th>\n",
       "      <th>puNumber</th>\n",
       "      <th>show_start_date</th>\n",
       "      <th>type</th>\n",
       "      <th>film_studio</th>\n",
       "      <th>production_country</th>\n",
       "      <th>director</th>\n",
       "      <th>producer</th>\n",
       "      <th>age_restriction</th>\n",
       "      <th>refundable_support</th>\n",
       "      <th>nonrefundable_support</th>\n",
       "      <th>budget</th>\n",
       "      <th>financing_source</th>\n",
       "      <th>ratings</th>\n",
       "      <th>genres</th>\n",
       "      <th>box_office</th>\n",
       "      <th>show_start_year</th>\n",
       "      <th>director_name</th>\n",
       "      <th>genres_name</th>\n",
       "    </tr>\n",
       "  </thead>\n",
       "  <tbody>\n",
       "    <tr>\n",
       "      <th>0</th>\n",
       "      <td>Открытый простор</td>\n",
       "      <td>221048915</td>\n",
       "      <td>2015-11-27 12:00:00+00:00</td>\n",
       "      <td>Художественный</td>\n",
       "      <td>Тачстоун Пикчерз, Кобальт Пикчерз, Бикон Пикче...</td>\n",
       "      <td>США</td>\n",
       "      <td>Кевин Костнер</td>\n",
       "      <td>Дэвид Валдес, Кевин Костнер, Джейк Эбертс</td>\n",
       "      <td>«18+» - запрещено для детей</td>\n",
       "      <td>NaN</td>\n",
       "      <td>NaN</td>\n",
       "      <td>NaN</td>\n",
       "      <td>NaN</td>\n",
       "      <td>7.2</td>\n",
       "      <td>боевик,драма,мелодрама</td>\n",
       "      <td>NaN</td>\n",
       "      <td>2015</td>\n",
       "      <td>Кевин Костнер</td>\n",
       "      <td>боевик</td>\n",
       "    </tr>\n",
       "    <tr>\n",
       "      <th>1</th>\n",
       "      <td>Особо важное задание</td>\n",
       "      <td>111013716</td>\n",
       "      <td>2016-09-13 12:00:00+00:00</td>\n",
       "      <td>Художественный</td>\n",
       "      <td>Киностудия \"Мосфильм\"</td>\n",
       "      <td>СССР</td>\n",
       "      <td>Е.Матвеев</td>\n",
       "      <td>Нет данных</td>\n",
       "      <td>«6+» - для детей старше 6 лет</td>\n",
       "      <td>NaN</td>\n",
       "      <td>NaN</td>\n",
       "      <td>NaN</td>\n",
       "      <td>NaN</td>\n",
       "      <td>6.6</td>\n",
       "      <td>драма,военный</td>\n",
       "      <td>NaN</td>\n",
       "      <td>2016</td>\n",
       "      <td>Е.Матвеев</td>\n",
       "      <td>драма</td>\n",
       "    </tr>\n",
       "    <tr>\n",
       "      <th>2</th>\n",
       "      <td>Особо опасен</td>\n",
       "      <td>221038416</td>\n",
       "      <td>2016-10-10 12:00:00+00:00</td>\n",
       "      <td>Художественный</td>\n",
       "      <td>Юниверсал Пикчерз, Кикстарт Продакшнз, Марк Пл...</td>\n",
       "      <td>США</td>\n",
       "      <td>Тимур Бекмамбетов</td>\n",
       "      <td>Джим Лемли, Джейсон Нетер, Марк Е.Платт, Яйн Смит</td>\n",
       "      <td>«18+» - запрещено для детей</td>\n",
       "      <td>NaN</td>\n",
       "      <td>NaN</td>\n",
       "      <td>NaN</td>\n",
       "      <td>NaN</td>\n",
       "      <td>6.8</td>\n",
       "      <td>фантастика,боевик,триллер</td>\n",
       "      <td>NaN</td>\n",
       "      <td>2016</td>\n",
       "      <td>Тимур Бекмамбетов</td>\n",
       "      <td>фантастика</td>\n",
       "    </tr>\n",
       "    <tr>\n",
       "      <th>3</th>\n",
       "      <td>Особо опасен</td>\n",
       "      <td>221026916</td>\n",
       "      <td>2016-06-10 12:00:00+00:00</td>\n",
       "      <td>Художественный</td>\n",
       "      <td>Юниверсал Пикчерз, Кикстарт Продакшнз, Марк Пл...</td>\n",
       "      <td>США</td>\n",
       "      <td>Тимур Бекмамбетов</td>\n",
       "      <td>Джим Лемли, Джейсон Нетер, Марк Е.Платт, Яйн Смит</td>\n",
       "      <td>«18+» - запрещено для детей</td>\n",
       "      <td>NaN</td>\n",
       "      <td>NaN</td>\n",
       "      <td>NaN</td>\n",
       "      <td>NaN</td>\n",
       "      <td>6.8</td>\n",
       "      <td>фантастика,боевик,триллер</td>\n",
       "      <td>NaN</td>\n",
       "      <td>2016</td>\n",
       "      <td>Тимур Бекмамбетов</td>\n",
       "      <td>фантастика</td>\n",
       "    </tr>\n",
       "    <tr>\n",
       "      <th>4</th>\n",
       "      <td>Особо опасен</td>\n",
       "      <td>221030815</td>\n",
       "      <td>2015-07-29 12:00:00+00:00</td>\n",
       "      <td>Художественный</td>\n",
       "      <td>Юниверсал Пикчерз, Кикстарт Продакшнз, Марк Пл...</td>\n",
       "      <td>США</td>\n",
       "      <td>Тимур Бекмамбетов</td>\n",
       "      <td>Джим Лемли, Джейсон Нетер, Марк Е.Платт, Яйн Смит</td>\n",
       "      <td>«18+» - запрещено для детей</td>\n",
       "      <td>NaN</td>\n",
       "      <td>NaN</td>\n",
       "      <td>NaN</td>\n",
       "      <td>NaN</td>\n",
       "      <td>6.8</td>\n",
       "      <td>фантастика,боевик,триллер</td>\n",
       "      <td>NaN</td>\n",
       "      <td>2015</td>\n",
       "      <td>Тимур Бекмамбетов</td>\n",
       "      <td>фантастика</td>\n",
       "    </tr>\n",
       "  </tbody>\n",
       "</table>\n",
       "</div>"
      ],
      "text/plain": [
       "                  title   puNumber           show_start_date            type  \\\n",
       "0      Открытый простор  221048915 2015-11-27 12:00:00+00:00  Художественный   \n",
       "1  Особо важное задание  111013716 2016-09-13 12:00:00+00:00  Художественный   \n",
       "2          Особо опасен  221038416 2016-10-10 12:00:00+00:00  Художественный   \n",
       "3          Особо опасен  221026916 2016-06-10 12:00:00+00:00  Художественный   \n",
       "4          Особо опасен  221030815 2015-07-29 12:00:00+00:00  Художественный   \n",
       "\n",
       "                                         film_studio production_country  \\\n",
       "0  Тачстоун Пикчерз, Кобальт Пикчерз, Бикон Пикче...                США   \n",
       "1                              Киностудия \"Мосфильм\"               СССР   \n",
       "2  Юниверсал Пикчерз, Кикстарт Продакшнз, Марк Пл...                США   \n",
       "3  Юниверсал Пикчерз, Кикстарт Продакшнз, Марк Пл...                США   \n",
       "4  Юниверсал Пикчерз, Кикстарт Продакшнз, Марк Пл...                США   \n",
       "\n",
       "            director                                           producer  \\\n",
       "0      Кевин Костнер          Дэвид Валдес, Кевин Костнер, Джейк Эбертс   \n",
       "1          Е.Матвеев                                         Нет данных   \n",
       "2  Тимур Бекмамбетов  Джим Лемли, Джейсон Нетер, Марк Е.Платт, Яйн Смит   \n",
       "3  Тимур Бекмамбетов  Джим Лемли, Джейсон Нетер, Марк Е.Платт, Яйн Смит   \n",
       "4  Тимур Бекмамбетов  Джим Лемли, Джейсон Нетер, Марк Е.Платт, Яйн Смит   \n",
       "\n",
       "                 age_restriction  refundable_support  nonrefundable_support  \\\n",
       "0    «18+» - запрещено для детей                 NaN                    NaN   \n",
       "1  «6+» - для детей старше 6 лет                 NaN                    NaN   \n",
       "2    «18+» - запрещено для детей                 NaN                    NaN   \n",
       "3    «18+» - запрещено для детей                 NaN                    NaN   \n",
       "4    «18+» - запрещено для детей                 NaN                    NaN   \n",
       "\n",
       "   budget financing_source  ratings                     genres  box_office  \\\n",
       "0     NaN              NaN      7.2     боевик,драма,мелодрама         NaN   \n",
       "1     NaN              NaN      6.6              драма,военный         NaN   \n",
       "2     NaN              NaN      6.8  фантастика,боевик,триллер         NaN   \n",
       "3     NaN              NaN      6.8  фантастика,боевик,триллер         NaN   \n",
       "4     NaN              NaN      6.8  фантастика,боевик,триллер         NaN   \n",
       "\n",
       "   show_start_year      director_name genres_name  \n",
       "0             2015      Кевин Костнер      боевик  \n",
       "1             2016          Е.Матвеев       драма  \n",
       "2             2016  Тимур Бекмамбетов  фантастика  \n",
       "3             2016  Тимур Бекмамбетов  фантастика  \n",
       "4             2015  Тимур Бекмамбетов  фантастика  "
      ]
     },
     "execution_count": 24,
     "metadata": {},
     "output_type": "execute_result"
    }
   ],
   "source": [
    "def first_value(s, sep = ','):\n",
    "    value_lst = s.split(sep=sep)\n",
    "    return value_lst[0]\n",
    "\n",
    "good_data['director_name'] = good_data['director'].apply(first_value)\n",
    "good_data['genres_name'] = good_data['genres'].apply(first_value)  \n",
    "good_data.head()"
   ]
  },
  {
   "cell_type": "markdown",
   "metadata": {
    "id": "1FsCXHwdgFyU"
   },
   "source": [
    "- Посчитайте, какую долю от общего бюджета фильма составляет государственная поддержка."
   ]
  },
  {
   "cell_type": "code",
   "execution_count": 25,
   "metadata": {
    "id": "LV6qFuZLgFyV",
    "scrolled": true
   },
   "outputs": [
    {
     "data": {
      "text/html": [
       "<div>\n",
       "<style scoped>\n",
       "    .dataframe tbody tr th:only-of-type {\n",
       "        vertical-align: middle;\n",
       "    }\n",
       "\n",
       "    .dataframe tbody tr th {\n",
       "        vertical-align: top;\n",
       "    }\n",
       "\n",
       "    .dataframe thead th {\n",
       "        text-align: right;\n",
       "    }\n",
       "</style>\n",
       "<table border=\"1\" class=\"dataframe\">\n",
       "  <thead>\n",
       "    <tr style=\"text-align: right;\">\n",
       "      <th></th>\n",
       "      <th>refundable_support</th>\n",
       "      <th>nonrefundable_support</th>\n",
       "      <th>budget</th>\n",
       "      <th>ratings</th>\n",
       "      <th>box_office</th>\n",
       "      <th>show_start_year</th>\n",
       "      <th>support_ratio</th>\n",
       "    </tr>\n",
       "  </thead>\n",
       "  <tbody>\n",
       "    <tr>\n",
       "      <th>count</th>\n",
       "      <td>3.320000e+02</td>\n",
       "      <td>3.320000e+02</td>\n",
       "      <td>3.320000e+02</td>\n",
       "      <td>6490.000000</td>\n",
       "      <td>3.158000e+03</td>\n",
       "      <td>7486.000000</td>\n",
       "      <td>332.000000</td>\n",
       "    </tr>\n",
       "    <tr>\n",
       "      <th>mean</th>\n",
       "      <td>1.186446e+07</td>\n",
       "      <td>4.898099e+07</td>\n",
       "      <td>1.314224e+08</td>\n",
       "      <td>6.479245</td>\n",
       "      <td>7.647870e+07</td>\n",
       "      <td>2014.594176</td>\n",
       "      <td>0.542098</td>\n",
       "    </tr>\n",
       "    <tr>\n",
       "      <th>std</th>\n",
       "      <td>2.491656e+07</td>\n",
       "      <td>5.998012e+07</td>\n",
       "      <td>1.871482e+08</td>\n",
       "      <td>1.101665</td>\n",
       "      <td>2.403531e+08</td>\n",
       "      <td>3.008452</td>\n",
       "      <td>0.196925</td>\n",
       "    </tr>\n",
       "    <tr>\n",
       "      <th>min</th>\n",
       "      <td>0.000000e+00</td>\n",
       "      <td>0.000000e+00</td>\n",
       "      <td>6.000000e+06</td>\n",
       "      <td>1.000000</td>\n",
       "      <td>0.000000e+00</td>\n",
       "      <td>2010.000000</td>\n",
       "      <td>0.044043</td>\n",
       "    </tr>\n",
       "    <tr>\n",
       "      <th>25%</th>\n",
       "      <td>0.000000e+00</td>\n",
       "      <td>2.500000e+07</td>\n",
       "      <td>4.552480e+07</td>\n",
       "      <td>5.900000</td>\n",
       "      <td>8.623900e+04</td>\n",
       "      <td>2012.000000</td>\n",
       "      <td>0.384615</td>\n",
       "    </tr>\n",
       "    <tr>\n",
       "      <th>50%</th>\n",
       "      <td>0.000000e+00</td>\n",
       "      <td>3.000000e+07</td>\n",
       "      <td>7.119690e+07</td>\n",
       "      <td>6.600000</td>\n",
       "      <td>2.327988e+06</td>\n",
       "      <td>2015.000000</td>\n",
       "      <td>0.614038</td>\n",
       "    </tr>\n",
       "    <tr>\n",
       "      <th>75%</th>\n",
       "      <td>1.500000e+07</td>\n",
       "      <td>4.037500e+07</td>\n",
       "      <td>1.500000e+08</td>\n",
       "      <td>7.200000</td>\n",
       "      <td>2.397967e+07</td>\n",
       "      <td>2017.000000</td>\n",
       "      <td>0.661412</td>\n",
       "    </tr>\n",
       "    <tr>\n",
       "      <th>max</th>\n",
       "      <td>1.800000e+08</td>\n",
       "      <td>4.000000e+08</td>\n",
       "      <td>2.305074e+09</td>\n",
       "      <td>9.200000</td>\n",
       "      <td>3.073569e+09</td>\n",
       "      <td>2019.000000</td>\n",
       "      <td>1.000000</td>\n",
       "    </tr>\n",
       "  </tbody>\n",
       "</table>\n",
       "</div>"
      ],
      "text/plain": [
       "       refundable_support  nonrefundable_support        budget      ratings  \\\n",
       "count        3.320000e+02           3.320000e+02  3.320000e+02  6490.000000   \n",
       "mean         1.186446e+07           4.898099e+07  1.314224e+08     6.479245   \n",
       "std          2.491656e+07           5.998012e+07  1.871482e+08     1.101665   \n",
       "min          0.000000e+00           0.000000e+00  6.000000e+06     1.000000   \n",
       "25%          0.000000e+00           2.500000e+07  4.552480e+07     5.900000   \n",
       "50%          0.000000e+00           3.000000e+07  7.119690e+07     6.600000   \n",
       "75%          1.500000e+07           4.037500e+07  1.500000e+08     7.200000   \n",
       "max          1.800000e+08           4.000000e+08  2.305074e+09     9.200000   \n",
       "\n",
       "         box_office  show_start_year  support_ratio  \n",
       "count  3.158000e+03      7486.000000     332.000000  \n",
       "mean   7.647870e+07      2014.594176       0.542098  \n",
       "std    2.403531e+08         3.008452       0.196925  \n",
       "min    0.000000e+00      2010.000000       0.044043  \n",
       "25%    8.623900e+04      2012.000000       0.384615  \n",
       "50%    2.327988e+06      2015.000000       0.614038  \n",
       "75%    2.397967e+07      2017.000000       0.661412  \n",
       "max    3.073569e+09      2019.000000       1.000000  "
      ]
     },
     "execution_count": 25,
     "metadata": {},
     "output_type": "execute_result"
    }
   ],
   "source": [
    "good_data['support_ratio'] = (good_data['refundable_support'] + good_data['nonrefundable_support']) / good_data['budget']\n",
    "good_data.describe()"
   ]
  },
  {
   "cell_type": "markdown",
   "metadata": {},
   "source": [
    "**Вывод:** В ходе предобработки добавили несколько необходимых нам столбцов, обработали \"подозрительные\" данные, когда бюджет был меньше гос. поддержки. Исправили ошибки в категориальных столбцах. Явных дулбикатов обнаружено не было."
   ]
  },
  {
   "cell_type": "markdown",
   "metadata": {
    "id": "6t4EukPLgFyV"
   },
   "source": [
    "### Шаг 3. Проведите исследовательский анализ данных\n"
   ]
  },
  {
   "cell_type": "markdown",
   "metadata": {
    "id": "vAH8WCzugFyV"
   },
   "source": [
    "- Посмотрите, сколько фильмов выходило в прокат каждый год. Обратите внимание, что данные о прокате в кинотеатрах известны не для всех фильмов. Посчитайте, какую долю составляют фильмы с указанной информацией о прокате в кинотеатрах. Проанализируйте, как эта доля менялась по годам. Сделайте вывод о том, какой период полнее всего представлен в данных."
   ]
  },
  {
   "cell_type": "code",
   "execution_count": 26,
   "metadata": {
    "id": "ABeV47y7gFyW"
   },
   "outputs": [
    {
     "name": "stdout",
     "output_type": "stream",
     "text": [
      "show_start_year\n",
      "2010    10.0\n",
      "2011    18.0\n",
      "2012    21.0\n",
      "2013    28.0\n",
      "2014    34.0\n",
      "2015    66.0\n",
      "2016    64.0\n",
      "2017    71.0\n",
      "2018    53.0\n",
      "2019    57.0\n",
      "dtype: float64\n"
     ]
    },
    {
     "data": {
      "text/plain": [
       "<AxesSubplot:title={'center':'Кол-во известных данных по годам'}, xlabel='show_start_year'>"
      ]
     },
     "execution_count": 26,
     "metadata": {},
     "output_type": "execute_result"
    },
    {
     "data": {
      "image/png": "[encoded data removed]",
      "text/plain": [
       "<Figure size 432x288 with 1 Axes>"
      ]
     },
     "metadata": {
      "needs_background": "light"
     },
     "output_type": "display_data"
    }
   ],
   "source": [
    "title_count = good_data.groupby('show_start_year')['title'].count()\n",
    "box_office_count = good_data.loc[data['box_office'] > 0].groupby('show_start_year')['box_office'].count()\n",
    "year_ratio = box_office_count/title_count*100\n",
    "print(year_ratio.round())\n",
    "plt.title('Кол-во известных данных по годам')\n",
    "year_ratio.plot()"
   ]
  },
  {
   "cell_type": "markdown",
   "metadata": {},
   "source": [
    "Самая высокая доля известных данных была в 2017 году. Рост статистики наблюдался до 2015 года, далее она собиралась с попеременным успехом."
   ]
  },
  {
   "cell_type": "code",
   "execution_count": 43,
   "metadata": {},
   "outputs": [
    {
     "data": {
      "text/plain": [
       "<AxesSubplot:title={'center':'Кол-во показов в кинотеатах'}, xlabel='show_start_year'>"
      ]
     },
     "execution_count": 43,
     "metadata": {},
     "output_type": "execute_result"
    },
    {
     "data": {
      "image/png": "[encoded data removed]",
      "text/plain": [
       "<Figure size 432x288 with 1 Axes>"
      ]
     },
     "metadata": {
      "needs_background": "light"
     },
     "output_type": "display_data"
    }
   ],
   "source": [
    "#количество фильмов, которые были показаны в кинотеатре\n",
    "plt.title('Кол-во показов в кинотеатах')\n",
    "good_data.groupby('show_start_year')['box_office'].count().plot()"
   ]
  },
  {
   "cell_type": "markdown",
   "metadata": {},
   "source": [
    "Количество фильмов, которые выходили в кино росло до 2016 года, в 2017 был резкий спад, но с 2018 года рост продолжился с похожей динамикой."
   ]
  },
  {
   "cell_type": "markdown",
   "metadata": {
    "id": "BEOdcIrIgFyW"
   },
   "source": [
    "- Изучите, как менялась динамика проката по годам. В каком году сумма сборов была минимальной? А максимальной?"
   ]
  },
  {
   "cell_type": "code",
   "execution_count": 45,
   "metadata": {
    "id": "tfEhofYvgFyX"
   },
   "outputs": [
    {
     "data": {
      "image/png": "[encoded data removed]",
      "text/plain": [
       "<Figure size 720x360 with 1 Axes>"
      ]
     },
     "metadata": {
      "needs_background": "light"
     },
     "output_type": "display_data"
    }
   ],
   "source": [
    "#сумма кассовых сборов по годам\n",
    "box_per_year = good_data.pivot_table(index = 'show_start_year', values = 'box_office', aggfunc = 'sum')\n",
    "box_per_year.columns = ['sum']\n",
    "box_per_year.plot(y = 'sum', figsize = (10,5), grid = True, title = 'Сумма кассовых сборов');"
   ]
  },
  {
   "cell_type": "markdown",
   "metadata": {},
   "source": [
    "Вижно что в с 2013 года начался рост кассовых сборов, который продлился до 2018 года, после которого началось небольшое падение. Из-за маленького количества данных за 2010-2013 года трудно судить о реальности данных."
   ]
  },
  {
   "cell_type": "markdown",
   "metadata": {
    "id": "G-7qS-N-gFyY"
   },
   "source": [
    "- С помощью сводной таблицы посчитайте среднюю и медианную сумму сборов для каждого года."
   ]
  },
  {
   "cell_type": "code",
   "execution_count": 46,
   "metadata": {
    "id": "jmp-rgg9gFyY"
   },
   "outputs": [
    {
     "data": {
      "text/plain": [
       "Text(0.5, 0, 'mean')"
      ]
     },
     "execution_count": 46,
     "metadata": {},
     "output_type": "execute_result"
    },
    {
     "data": {
      "image/png": "[encoded data removed]",
      "text/plain": [
       "<Figure size 720x360 with 1 Axes>"
      ]
     },
     "metadata": {
      "needs_background": "light"
     },
     "output_type": "display_data"
    },
    {
     "data": {
      "image/png": "[encoded data removed]",
      "text/plain": [
       "<Figure size 720x360 with 1 Axes>"
      ]
     },
     "metadata": {
      "needs_background": "light"
     },
     "output_type": "display_data"
    }
   ],
   "source": [
    "box_per_year = good_data.pivot_table(index = 'show_start_year', values = 'box_office', aggfunc = ['mean', 'median'])\n",
    "box_per_year.plot(y = 'median', figsize = (10,5), grid = True, title = 'Медианная сумма сборов')\n",
    "plt.xlabel('median')\n",
    "box_per_year.plot(y = 'mean', figsize = (10,5), grid = True, color = 'green', title = 'Средняя сумма сборов')\n",
    "plt.xlabel('mean')"
   ]
  },
  {
   "cell_type": "markdown",
   "metadata": {},
   "source": [
    "Из-за недостатка данных до 2013 года мы не можем анализировать этот временной промежуток, однако исходя из того что у нас есть - 2017 год является самым успешным для кинопроката.\n",
    "Медиана и средняя сильно различаются - это говорит нам о наличии фильмов с огромными сборами."
   ]
  },
  {
   "cell_type": "markdown",
   "metadata": {
    "id": "Ok89WFwJgFyZ"
   },
   "source": [
    "- Определите, влияет ли возрастное ограничение аудитории («6+», «12+», «16+», «18+» и т. д.) на сборы фильма в прокате в период с 2015 по 2019 год? Фильмы с каким возрастным ограничением собрали больше всего денег в прокате? Меняется ли картина в зависимости от года? Если да, предположите, с чем это может быть связано."
   ]
  },
  {
   "cell_type": "code",
   "execution_count": 30,
   "metadata": {
    "id": "jsSbEqfjgFya"
   },
   "outputs": [
    {
     "data": {
      "text/plain": [
       "age_restriction\n",
       "«0+» - для любой зрительской аудитории    8.090774e+08\n",
       "«18+» - запрещено для детей               4.075962e+10\n",
       "«6+» - для детей старше 6 лет             5.579861e+10\n",
       "«12+» - для детей старше 12 лет           6.061945e+10\n",
       "«16+» - для детей старше 16 лет           7.603473e+10\n",
       "Name: box_office, dtype: float64"
      ]
     },
     "execution_count": 30,
     "metadata": {},
     "output_type": "execute_result"
    }
   ],
   "source": [
    "good_data.query('2015 <= show_start_year').groupby('age_restriction')['box_office'].sum().sort_values()"
   ]
  },
  {
   "cell_type": "markdown",
   "metadata": {},
   "source": [
    "Больше всего сборов у фильмов с рейтингом 16+"
   ]
  },
  {
   "cell_type": "code",
   "execution_count": 31,
   "metadata": {
    "scrolled": true
   },
   "outputs": [
    {
     "data": {
      "text/html": [
       "<div>\n",
       "<style scoped>\n",
       "    .dataframe tbody tr th:only-of-type {\n",
       "        vertical-align: middle;\n",
       "    }\n",
       "\n",
       "    .dataframe tbody tr th {\n",
       "        vertical-align: top;\n",
       "    }\n",
       "\n",
       "    .dataframe thead th {\n",
       "        text-align: right;\n",
       "    }\n",
       "</style>\n",
       "<table border=\"1\" class=\"dataframe\">\n",
       "  <thead>\n",
       "    <tr style=\"text-align: right;\">\n",
       "      <th>age_restriction</th>\n",
       "      <th>«0+» - для любой зрительской аудитории</th>\n",
       "      <th>«12+» - для детей старше 12 лет</th>\n",
       "      <th>«16+» - для детей старше 16 лет</th>\n",
       "      <th>«18+» - запрещено для детей</th>\n",
       "      <th>«6+» - для детей старше 6 лет</th>\n",
       "    </tr>\n",
       "    <tr>\n",
       "      <th>show_start_year</th>\n",
       "      <th></th>\n",
       "      <th></th>\n",
       "      <th></th>\n",
       "      <th></th>\n",
       "      <th></th>\n",
       "    </tr>\n",
       "  </thead>\n",
       "  <tbody>\n",
       "    <tr>\n",
       "      <th>2015</th>\n",
       "      <td>379054578.0</td>\n",
       "      <td>1.361608e+10</td>\n",
       "      <td>1.136812e+10</td>\n",
       "      <td>5.432308e+09</td>\n",
       "      <td>8.701799e+09</td>\n",
       "    </tr>\n",
       "    <tr>\n",
       "      <th>2016</th>\n",
       "      <td>150228849.0</td>\n",
       "      <td>1.220445e+10</td>\n",
       "      <td>1.666455e+10</td>\n",
       "      <td>6.793930e+09</td>\n",
       "      <td>1.205315e+10</td>\n",
       "    </tr>\n",
       "    <tr>\n",
       "      <th>2017</th>\n",
       "      <td>229598930.0</td>\n",
       "      <td>7.851428e+09</td>\n",
       "      <td>1.874504e+10</td>\n",
       "      <td>9.651496e+09</td>\n",
       "      <td>1.208614e+10</td>\n",
       "    </tr>\n",
       "    <tr>\n",
       "      <th>2018</th>\n",
       "      <td>32449002.0</td>\n",
       "      <td>1.426729e+10</td>\n",
       "      <td>1.650360e+10</td>\n",
       "      <td>8.760086e+09</td>\n",
       "      <td>1.010497e+10</td>\n",
       "    </tr>\n",
       "    <tr>\n",
       "      <th>2019</th>\n",
       "      <td>17746067.0</td>\n",
       "      <td>1.268020e+10</td>\n",
       "      <td>1.275342e+10</td>\n",
       "      <td>1.012180e+10</td>\n",
       "      <td>1.285255e+10</td>\n",
       "    </tr>\n",
       "  </tbody>\n",
       "</table>\n",
       "</div>"
      ],
      "text/plain": [
       "age_restriction  «0+» - для любой зрительской аудитории  \\\n",
       "show_start_year                                           \n",
       "2015                                        379054578.0   \n",
       "2016                                        150228849.0   \n",
       "2017                                        229598930.0   \n",
       "2018                                         32449002.0   \n",
       "2019                                         17746067.0   \n",
       "\n",
       "age_restriction  «12+» - для детей старше 12 лет  \\\n",
       "show_start_year                                    \n",
       "2015                                1.361608e+10   \n",
       "2016                                1.220445e+10   \n",
       "2017                                7.851428e+09   \n",
       "2018                                1.426729e+10   \n",
       "2019                                1.268020e+10   \n",
       "\n",
       "age_restriction  «16+» - для детей старше 16 лет  «18+» - запрещено для детей  \\\n",
       "show_start_year                                                                 \n",
       "2015                                1.136812e+10                 5.432308e+09   \n",
       "2016                                1.666455e+10                 6.793930e+09   \n",
       "2017                                1.874504e+10                 9.651496e+09   \n",
       "2018                                1.650360e+10                 8.760086e+09   \n",
       "2019                                1.275342e+10                 1.012180e+10   \n",
       "\n",
       "age_restriction  «6+» - для детей старше 6 лет  \n",
       "show_start_year                                 \n",
       "2015                              8.701799e+09  \n",
       "2016                              1.205315e+10  \n",
       "2017                              1.208614e+10  \n",
       "2018                              1.010497e+10  \n",
       "2019                              1.285255e+10  "
      ]
     },
     "execution_count": 31,
     "metadata": {},
     "output_type": "execute_result"
    }
   ],
   "source": [
    "data_per_age = good_data.query('2015 <= show_start_year')\n",
    "data_per_age = data_per_age.pivot_table(index = 'show_start_year', columns = 'age_restriction', values = 'box_office', aggfunc = 'sum').round()\n",
    "data_per_age"
   ]
  },
  {
   "cell_type": "code",
   "execution_count": 49,
   "metadata": {},
   "outputs": [
    {
     "data": {
      "text/plain": [
       "<AxesSubplot:title={'center':'Сумма кассовых сборов'}, xlabel='show_start_year'>"
      ]
     },
     "execution_count": 49,
     "metadata": {},
     "output_type": "execute_result"
    },
    {
     "data": {
      "image/png": "[encoded data removed]",
      "text/plain": [
       "<Figure size 1080x936 with 1 Axes>"
      ]
     },
     "metadata": {
      "needs_background": "light"
     },
     "output_type": "display_data"
    }
   ],
   "source": [
    "data_per_age.plot(kind='bar',figsize = (15,13), title = 'Сумма кассовых сборов')"
   ]
  },
  {
   "cell_type": "markdown",
   "metadata": {},
   "source": [
    "Видим что от года к году суммы по возрастным категориям разнятся, например в 2015 году лидером по сборам стало кино 12+, а в 2019 - 6+."
   ]
  },
  {
   "cell_type": "markdown",
   "metadata": {
    "id": "l_Kg6Ku4gFya"
   },
   "source": [
    "### Шаг 4. Исследуйте фильмы, которые получили государственную поддержку\n",
    "\n",
    "На этом этапе нет конкретных инструкций и заданий — поищите интересные закономерности в данных. Посмотрите, сколько выделяют средств на поддержку кино. Проверьте, хорошо ли окупаются такие фильмы, какой у них рейтинг."
   ]
  },
  {
   "cell_type": "markdown",
   "metadata": {},
   "source": [
    "Для начала выберем фильмы в которых есть хоть какая-то поддержка от госудатства."
   ]
  },
  {
   "cell_type": "code",
   "execution_count": 33,
   "metadata": {
    "id": "W9QKpjUdgFyb",
    "scrolled": true
   },
   "outputs": [
    {
     "data": {
      "text/html": [
       "<div>\n",
       "<style scoped>\n",
       "    .dataframe tbody tr th:only-of-type {\n",
       "        vertical-align: middle;\n",
       "    }\n",
       "\n",
       "    .dataframe tbody tr th {\n",
       "        vertical-align: top;\n",
       "    }\n",
       "\n",
       "    .dataframe thead th {\n",
       "        text-align: right;\n",
       "    }\n",
       "</style>\n",
       "<table border=\"1\" class=\"dataframe\">\n",
       "  <thead>\n",
       "    <tr style=\"text-align: right;\">\n",
       "      <th></th>\n",
       "      <th>title</th>\n",
       "      <th>puNumber</th>\n",
       "      <th>show_start_date</th>\n",
       "      <th>type</th>\n",
       "      <th>film_studio</th>\n",
       "      <th>production_country</th>\n",
       "      <th>director</th>\n",
       "      <th>producer</th>\n",
       "      <th>age_restriction</th>\n",
       "      <th>refundable_support</th>\n",
       "      <th>nonrefundable_support</th>\n",
       "      <th>budget</th>\n",
       "      <th>financing_source</th>\n",
       "      <th>ratings</th>\n",
       "      <th>genres</th>\n",
       "      <th>box_office</th>\n",
       "      <th>show_start_year</th>\n",
       "      <th>director_name</th>\n",
       "      <th>genres_name</th>\n",
       "      <th>support_ratio</th>\n",
       "    </tr>\n",
       "  </thead>\n",
       "  <tbody>\n",
       "    <tr>\n",
       "      <th>1281</th>\n",
       "      <td>Пока еще жива</td>\n",
       "      <td>111005313</td>\n",
       "      <td>2013-10-11 12:00:00+00:00</td>\n",
       "      <td>Художественный</td>\n",
       "      <td>АНО содействия развитию кинематографии \"Ангел-...</td>\n",
       "      <td>Россия</td>\n",
       "      <td>А.Атанесян</td>\n",
       "      <td>А.Атанесян, М.Бабаханов, Р.Бутко</td>\n",
       "      <td>«16+» - для детей старше 16 лет</td>\n",
       "      <td>0.0</td>\n",
       "      <td>26500000.0</td>\n",
       "      <td>79411900.0</td>\n",
       "      <td>Министерство культуры</td>\n",
       "      <td>8.1</td>\n",
       "      <td>драма,мелодрама</td>\n",
       "      <td>365353.6</td>\n",
       "      <td>2013</td>\n",
       "      <td>А.Атанесян</td>\n",
       "      <td>драма</td>\n",
       "      <td>0.333703</td>\n",
       "    </tr>\n",
       "    <tr>\n",
       "      <th>1448</th>\n",
       "      <td>Бесславные придурки</td>\n",
       "      <td>111003314</td>\n",
       "      <td>2014-03-28 12:00:00+00:00</td>\n",
       "      <td>Художественный</td>\n",
       "      <td>ООО \"Компания \"АТК-Студио\"</td>\n",
       "      <td>Россия</td>\n",
       "      <td>А.Якимчук</td>\n",
       "      <td>А.Тютрюмов</td>\n",
       "      <td>«12+» - для детей старше 12 лет</td>\n",
       "      <td>0.0</td>\n",
       "      <td>26000000.0</td>\n",
       "      <td>37142857.0</td>\n",
       "      <td>Министерство культуры</td>\n",
       "      <td>NaN</td>\n",
       "      <td>Нет данных</td>\n",
       "      <td>28140.0</td>\n",
       "      <td>2014</td>\n",
       "      <td>А.Якимчук</td>\n",
       "      <td>Нет данных</td>\n",
       "      <td>0.700000</td>\n",
       "    </tr>\n",
       "    <tr>\n",
       "      <th>1498</th>\n",
       "      <td>Невидимки</td>\n",
       "      <td>111004213</td>\n",
       "      <td>2013-09-10 12:00:00+00:00</td>\n",
       "      <td>Художественный</td>\n",
       "      <td>ООО \"Компания \"РЕАЛ-ДАКОТА\"</td>\n",
       "      <td>Россия</td>\n",
       "      <td>Р.Давлетьяров, С.Комаров</td>\n",
       "      <td>Р.Давлетьяров, А.Котелевский, А.Олейников</td>\n",
       "      <td>«12+» - для детей старше 12 лет</td>\n",
       "      <td>0.0</td>\n",
       "      <td>107847945.0</td>\n",
       "      <td>176023490.0</td>\n",
       "      <td>Фонд кино</td>\n",
       "      <td>5.3</td>\n",
       "      <td>комедия,фантастика</td>\n",
       "      <td>19957031.5</td>\n",
       "      <td>2013</td>\n",
       "      <td>Р.Давлетьяров</td>\n",
       "      <td>комедия</td>\n",
       "      <td>0.612691</td>\n",
       "    </tr>\n",
       "    <tr>\n",
       "      <th>1524</th>\n",
       "      <td>БЕРЦЫ</td>\n",
       "      <td>111004314</td>\n",
       "      <td>2014-05-05 12:00:00+00:00</td>\n",
       "      <td>Художественный</td>\n",
       "      <td>ООО \"Студия \"Пассажир\"</td>\n",
       "      <td>Россия</td>\n",
       "      <td>Е.Миндадзе (псевдоним Катя Шагалова)</td>\n",
       "      <td>Л.Антонова</td>\n",
       "      <td>«16+» - для детей старше 16 лет</td>\n",
       "      <td>0.0</td>\n",
       "      <td>28000000.0</td>\n",
       "      <td>40574140.0</td>\n",
       "      <td>Министерство культуры</td>\n",
       "      <td>4.2</td>\n",
       "      <td>драма</td>\n",
       "      <td>55917.5</td>\n",
       "      <td>2014</td>\n",
       "      <td>Е.Миндадзе (псевдоним Катя Шагалова)</td>\n",
       "      <td>драма</td>\n",
       "      <td>0.690095</td>\n",
       "    </tr>\n",
       "    <tr>\n",
       "      <th>1792</th>\n",
       "      <td>Братья Ч</td>\n",
       "      <td>111004414</td>\n",
       "      <td>2014-04-23 12:00:00+00:00</td>\n",
       "      <td>Художественный</td>\n",
       "      <td>ООО \"Студия \"Пассажир\"</td>\n",
       "      <td>Россия</td>\n",
       "      <td>М.Угаров</td>\n",
       "      <td>А.Миндадзе, Л.Антонова</td>\n",
       "      <td>«16+» - для детей старше 16 лет</td>\n",
       "      <td>0.0</td>\n",
       "      <td>25000000.0</td>\n",
       "      <td>40015122.0</td>\n",
       "      <td>Министерство культуры</td>\n",
       "      <td>6.4</td>\n",
       "      <td>драма</td>\n",
       "      <td>232100.0</td>\n",
       "      <td>2014</td>\n",
       "      <td>М.Угаров</td>\n",
       "      <td>драма</td>\n",
       "      <td>0.624764</td>\n",
       "    </tr>\n",
       "  </tbody>\n",
       "</table>\n",
       "</div>"
      ],
      "text/plain": [
       "                    title   puNumber           show_start_date  \\\n",
       "1281        Пока еще жива  111005313 2013-10-11 12:00:00+00:00   \n",
       "1448  Бесславные придурки  111003314 2014-03-28 12:00:00+00:00   \n",
       "1498            Невидимки  111004213 2013-09-10 12:00:00+00:00   \n",
       "1524                БЕРЦЫ  111004314 2014-05-05 12:00:00+00:00   \n",
       "1792             Братья Ч  111004414 2014-04-23 12:00:00+00:00   \n",
       "\n",
       "                type                                        film_studio  \\\n",
       "1281  Художественный  АНО содействия развитию кинематографии \"Ангел-...   \n",
       "1448  Художественный                         ООО \"Компания \"АТК-Студио\"   \n",
       "1498  Художественный                        ООО \"Компания \"РЕАЛ-ДАКОТА\"   \n",
       "1524  Художественный                             ООО \"Студия \"Пассажир\"   \n",
       "1792  Художественный                             ООО \"Студия \"Пассажир\"   \n",
       "\n",
       "     production_country                              director  \\\n",
       "1281             Россия                            А.Атанесян   \n",
       "1448             Россия                             А.Якимчук   \n",
       "1498             Россия              Р.Давлетьяров, С.Комаров   \n",
       "1524             Россия  Е.Миндадзе (псевдоним Катя Шагалова)   \n",
       "1792             Россия                              М.Угаров   \n",
       "\n",
       "                                       producer  \\\n",
       "1281           А.Атанесян, М.Бабаханов, Р.Бутко   \n",
       "1448                                 А.Тютрюмов   \n",
       "1498  Р.Давлетьяров, А.Котелевский, А.Олейников   \n",
       "1524                                 Л.Антонова   \n",
       "1792                     А.Миндадзе, Л.Антонова   \n",
       "\n",
       "                      age_restriction  refundable_support  \\\n",
       "1281  «16+» - для детей старше 16 лет                 0.0   \n",
       "1448  «12+» - для детей старше 12 лет                 0.0   \n",
       "1498  «12+» - для детей старше 12 лет                 0.0   \n",
       "1524  «16+» - для детей старше 16 лет                 0.0   \n",
       "1792  «16+» - для детей старше 16 лет                 0.0   \n",
       "\n",
       "      nonrefundable_support       budget       financing_source  ratings  \\\n",
       "1281             26500000.0   79411900.0  Министерство культуры      8.1   \n",
       "1448             26000000.0   37142857.0  Министерство культуры      NaN   \n",
       "1498            107847945.0  176023490.0              Фонд кино      5.3   \n",
       "1524             28000000.0   40574140.0  Министерство культуры      4.2   \n",
       "1792             25000000.0   40015122.0  Министерство культуры      6.4   \n",
       "\n",
       "                  genres  box_office  show_start_year  \\\n",
       "1281     драма,мелодрама    365353.6             2013   \n",
       "1448          Нет данных     28140.0             2014   \n",
       "1498  комедия,фантастика  19957031.5             2013   \n",
       "1524               драма     55917.5             2014   \n",
       "1792               драма    232100.0             2014   \n",
       "\n",
       "                             director_name genres_name  support_ratio  \n",
       "1281                            А.Атанесян       драма       0.333703  \n",
       "1448                             А.Якимчук  Нет данных       0.700000  \n",
       "1498                         Р.Давлетьяров     комедия       0.612691  \n",
       "1524  Е.Миндадзе (псевдоним Катя Шагалова)       драма       0.690095  \n",
       "1792                              М.Угаров       драма       0.624764  "
      ]
     },
     "execution_count": 33,
     "metadata": {},
     "output_type": "execute_result"
    }
   ],
   "source": [
    "good_data= good_data[good_data['support_ratio'].isna() == False]\n",
    "good_data.head()"
   ]
  },
  {
   "cell_type": "code",
   "execution_count": 34,
   "metadata": {},
   "outputs": [
    {
     "name": "stdout",
     "output_type": "stream",
     "text": [
      "<class 'pandas.core.frame.DataFrame'>\n",
      "Int64Index: 332 entries, 1281 to 7478\n",
      "Data columns (total 20 columns):\n",
      " #   Column                 Non-Null Count  Dtype              \n",
      "---  ------                 --------------  -----              \n",
      " 0   title                  332 non-null    object             \n",
      " 1   puNumber               332 non-null    object             \n",
      " 2   show_start_date        332 non-null    datetime64[ns, UTC]\n",
      " 3   type                   332 non-null    object             \n",
      " 4   film_studio            332 non-null    object             \n",
      " 5   production_country     332 non-null    object             \n",
      " 6   director               332 non-null    object             \n",
      " 7   producer               332 non-null    object             \n",
      " 8   age_restriction        332 non-null    object             \n",
      " 9   refundable_support     332 non-null    float64            \n",
      " 10  nonrefundable_support  332 non-null    float64            \n",
      " 11  budget                 332 non-null    float64            \n",
      " 12  financing_source       332 non-null    object             \n",
      " 13  ratings                314 non-null    float64            \n",
      " 14  genres                 332 non-null    object             \n",
      " 15  box_office             318 non-null    float64            \n",
      " 16  show_start_year        332 non-null    int64              \n",
      " 17  director_name          332 non-null    object             \n",
      " 18  genres_name            332 non-null    object             \n",
      " 19  support_ratio          332 non-null    float64            \n",
      "dtypes: datetime64[ns, UTC](1), float64(6), int64(1), object(12)\n",
      "memory usage: 54.5+ KB\n"
     ]
    }
   ],
   "source": [
    "good_data.info()"
   ]
  },
  {
   "cell_type": "markdown",
   "metadata": {},
   "source": [
    "332 строки, немного, но для первичного анализа хватит."
   ]
  },
  {
   "cell_type": "code",
   "execution_count": 35,
   "metadata": {},
   "outputs": [
    {
     "data": {
      "text/plain": [
       "20200688312.0"
      ]
     },
     "execution_count": 35,
     "metadata": {},
     "output_type": "execute_result"
    }
   ],
   "source": [
    "total_support  = good_data['nonrefundable_support'].sum() + good_data['refundable_support'].sum()\n",
    "total_support"
   ]
  },
  {
   "cell_type": "markdown",
   "metadata": {},
   "source": [
    "Было выделено более 20 млрд. рублей в качестве гос. поддержки."
   ]
  },
  {
   "cell_type": "code",
   "execution_count": 36,
   "metadata": {},
   "outputs": [
    {
     "data": {
      "text/plain": [
       "42113509574.78"
      ]
     },
     "execution_count": 36,
     "metadata": {},
     "output_type": "execute_result"
    }
   ],
   "source": [
    "good_data['box_office'].sum()"
   ]
  },
  {
   "cell_type": "markdown",
   "metadata": {},
   "source": [
    "Сборы составили более 241 млрд. рублей. Суммарно фильмы себя окупили."
   ]
  },
  {
   "cell_type": "code",
   "execution_count": 37,
   "metadata": {
    "scrolled": true
   },
   "outputs": [
    {
     "data": {
      "text/html": [
       "<div>\n",
       "<style scoped>\n",
       "    .dataframe tbody tr th:only-of-type {\n",
       "        vertical-align: middle;\n",
       "    }\n",
       "\n",
       "    .dataframe tbody tr th {\n",
       "        vertical-align: top;\n",
       "    }\n",
       "\n",
       "    .dataframe thead th {\n",
       "        text-align: right;\n",
       "    }\n",
       "</style>\n",
       "<table border=\"1\" class=\"dataframe\">\n",
       "  <thead>\n",
       "    <tr style=\"text-align: right;\">\n",
       "      <th></th>\n",
       "      <th>refundable_support</th>\n",
       "      <th>nonrefundable_support</th>\n",
       "      <th>budget</th>\n",
       "      <th>ratings</th>\n",
       "      <th>box_office</th>\n",
       "      <th>show_start_year</th>\n",
       "      <th>support_ratio</th>\n",
       "      <th>total_support</th>\n",
       "      <th>profit</th>\n",
       "    </tr>\n",
       "  </thead>\n",
       "  <tbody>\n",
       "    <tr>\n",
       "      <th>count</th>\n",
       "      <td>3.320000e+02</td>\n",
       "      <td>3.320000e+02</td>\n",
       "      <td>3.320000e+02</td>\n",
       "      <td>314.000000</td>\n",
       "      <td>3.180000e+02</td>\n",
       "      <td>332.000000</td>\n",
       "      <td>332.000000</td>\n",
       "      <td>3.320000e+02</td>\n",
       "      <td>3.180000e+02</td>\n",
       "    </tr>\n",
       "    <tr>\n",
       "      <th>mean</th>\n",
       "      <td>1.186446e+07</td>\n",
       "      <td>4.898099e+07</td>\n",
       "      <td>1.314224e+08</td>\n",
       "      <td>6.000637</td>\n",
       "      <td>1.324324e+08</td>\n",
       "      <td>2016.719880</td>\n",
       "      <td>0.542098</td>\n",
       "      <td>6.084545e+07</td>\n",
       "      <td>4.256980e+05</td>\n",
       "    </tr>\n",
       "    <tr>\n",
       "      <th>std</th>\n",
       "      <td>2.491656e+07</td>\n",
       "      <td>5.998012e+07</td>\n",
       "      <td>1.871482e+08</td>\n",
       "      <td>1.123948</td>\n",
       "      <td>3.348379e+08</td>\n",
       "      <td>1.640637</td>\n",
       "      <td>0.196925</td>\n",
       "      <td>7.275546e+07</td>\n",
       "      <td>3.159104e+08</td>\n",
       "    </tr>\n",
       "    <tr>\n",
       "      <th>min</th>\n",
       "      <td>0.000000e+00</td>\n",
       "      <td>0.000000e+00</td>\n",
       "      <td>6.000000e+06</td>\n",
       "      <td>1.000000</td>\n",
       "      <td>1.550000e+03</td>\n",
       "      <td>2013.000000</td>\n",
       "      <td>0.044043</td>\n",
       "      <td>3.000000e+06</td>\n",
       "      <td>-1.971477e+09</td>\n",
       "    </tr>\n",
       "    <tr>\n",
       "      <th>25%</th>\n",
       "      <td>0.000000e+00</td>\n",
       "      <td>2.500000e+07</td>\n",
       "      <td>4.552480e+07</td>\n",
       "      <td>5.300000</td>\n",
       "      <td>1.236676e+06</td>\n",
       "      <td>2015.000000</td>\n",
       "      <td>0.384615</td>\n",
       "      <td>2.533375e+07</td>\n",
       "      <td>-7.069443e+07</td>\n",
       "    </tr>\n",
       "    <tr>\n",
       "      <th>50%</th>\n",
       "      <td>0.000000e+00</td>\n",
       "      <td>3.000000e+07</td>\n",
       "      <td>7.119690e+07</td>\n",
       "      <td>6.200000</td>\n",
       "      <td>1.572007e+07</td>\n",
       "      <td>2017.000000</td>\n",
       "      <td>0.614038</td>\n",
       "      <td>3.500000e+07</td>\n",
       "      <td>-4.068082e+07</td>\n",
       "    </tr>\n",
       "    <tr>\n",
       "      <th>75%</th>\n",
       "      <td>1.500000e+07</td>\n",
       "      <td>4.037500e+07</td>\n",
       "      <td>1.500000e+08</td>\n",
       "      <td>6.700000</td>\n",
       "      <td>1.063730e+08</td>\n",
       "      <td>2018.000000</td>\n",
       "      <td>0.661412</td>\n",
       "      <td>6.000000e+07</td>\n",
       "      <td>-2.362182e+06</td>\n",
       "    </tr>\n",
       "    <tr>\n",
       "      <th>max</th>\n",
       "      <td>1.800000e+08</td>\n",
       "      <td>4.000000e+08</td>\n",
       "      <td>2.305074e+09</td>\n",
       "      <td>8.500000</td>\n",
       "      <td>3.073569e+09</td>\n",
       "      <td>2019.000000</td>\n",
       "      <td>1.000000</td>\n",
       "      <td>5.000000e+08</td>\n",
       "      <td>2.913569e+09</td>\n",
       "    </tr>\n",
       "  </tbody>\n",
       "</table>\n",
       "</div>"
      ],
      "text/plain": [
       "       refundable_support  nonrefundable_support        budget     ratings  \\\n",
       "count        3.320000e+02           3.320000e+02  3.320000e+02  314.000000   \n",
       "mean         1.186446e+07           4.898099e+07  1.314224e+08    6.000637   \n",
       "std          2.491656e+07           5.998012e+07  1.871482e+08    1.123948   \n",
       "min          0.000000e+00           0.000000e+00  6.000000e+06    1.000000   \n",
       "25%          0.000000e+00           2.500000e+07  4.552480e+07    5.300000   \n",
       "50%          0.000000e+00           3.000000e+07  7.119690e+07    6.200000   \n",
       "75%          1.500000e+07           4.037500e+07  1.500000e+08    6.700000   \n",
       "max          1.800000e+08           4.000000e+08  2.305074e+09    8.500000   \n",
       "\n",
       "         box_office  show_start_year  support_ratio  total_support  \\\n",
       "count  3.180000e+02       332.000000     332.000000   3.320000e+02   \n",
       "mean   1.324324e+08      2016.719880       0.542098   6.084545e+07   \n",
       "std    3.348379e+08         1.640637       0.196925   7.275546e+07   \n",
       "min    1.550000e+03      2013.000000       0.044043   3.000000e+06   \n",
       "25%    1.236676e+06      2015.000000       0.384615   2.533375e+07   \n",
       "50%    1.572007e+07      2017.000000       0.614038   3.500000e+07   \n",
       "75%    1.063730e+08      2018.000000       0.661412   6.000000e+07   \n",
       "max    3.073569e+09      2019.000000       1.000000   5.000000e+08   \n",
       "\n",
       "             profit  \n",
       "count  3.180000e+02  \n",
       "mean   4.256980e+05  \n",
       "std    3.159104e+08  \n",
       "min   -1.971477e+09  \n",
       "25%   -7.069443e+07  \n",
       "50%   -4.068082e+07  \n",
       "75%   -2.362182e+06  \n",
       "max    2.913569e+09  "
      ]
     },
     "execution_count": 37,
     "metadata": {},
     "output_type": "execute_result"
    }
   ],
   "source": [
    "good_data['total_support'] = good_data['refundable_support'] + good_data['nonrefundable_support']\n",
    "good_data['profit'] = good_data['box_office'] - good_data['budget']\n",
    "good_data.describe()"
   ]
  },
  {
   "cell_type": "markdown",
   "metadata": {},
   "source": [
    "Среднее соотношение поддержки - 54%, причем средняя прибыль - 425 т.р., но бОльшая часть фильмов является убыточной, значит в среднем - гос. поддержка не окупается, но есть бестселлеры, которые перекрывают соими сборами весь минус."
   ]
  },
  {
   "cell_type": "code",
   "execution_count": 50,
   "metadata": {},
   "outputs": [
    {
     "data": {
      "text/plain": [
       "Text(0.5, 1.0, 'Количество фильмов, имеющих гос. поддержку')"
      ]
     },
     "execution_count": 50,
     "metadata": {},
     "output_type": "execute_result"
    },
    {
     "data": {
      "image/png": "[encoded data removed]",
      "text/plain": [
       "<Figure size 432x288 with 1 Axes>"
      ]
     },
     "metadata": {
      "needs_background": "light"
     },
     "output_type": "display_data"
    }
   ],
   "source": [
    "good_data.groupby('show_start_year')['total_support'].count().plot(grid=True)\n",
    "plt.title('Количество фильмов, имеющих гос. поддержку')"
   ]
  },
  {
   "cell_type": "markdown",
   "metadata": {},
   "source": [
    "Не смотря на данные до 2014 года из-за недостатка данных, видно что с 2015 по 2017 количество фильмов с гос.поддержкой падало, потом начало расти."
   ]
  },
  {
   "cell_type": "code",
   "execution_count": 39,
   "metadata": {},
   "outputs": [
    {
     "data": {
      "text/plain": [
       "1.0032248203337593"
      ]
     },
     "execution_count": 39,
     "metadata": {},
     "output_type": "execute_result"
    }
   ],
   "source": [
    "good_data = (good_data.query('budget > 0 and box_office > 0'))\n",
    "total_support = good_data['refundable_support'].sum() + good_data['nonrefundable_support'].sum()\n",
    "profit_ratio = good_data['box_office'].sum() /good_data['budget'].sum()\n",
    "profit_ratio"
   ]
  },
  {
   "cell_type": "code",
   "execution_count": 40,
   "metadata": {},
   "outputs": [
    {
     "data": {
      "text/plain": [
       "'Максимальная окупаемость:'"
      ]
     },
     "metadata": {},
     "output_type": "display_data"
    },
    {
     "data": {
      "text/plain": [
       "19.2098043174375"
      ]
     },
     "metadata": {},
     "output_type": "display_data"
    },
    {
     "data": {
      "text/plain": [
       "'Медианная окупаемость:'"
      ]
     },
     "metadata": {},
     "output_type": "display_data"
    },
    {
     "data": {
      "text/plain": [
       "0.17642032815058772"
      ]
     },
     "metadata": {},
     "output_type": "display_data"
    },
    {
     "data": {
      "text/plain": [
       "'Минимальная окупаемость:'"
      ]
     },
     "metadata": {},
     "output_type": "display_data"
    },
    {
     "data": {
      "text/plain": [
       "1.703296703296703e-05"
      ]
     },
     "metadata": {},
     "output_type": "display_data"
    }
   ],
   "source": [
    "good_data['profit_ratio'] = good_data['box_office']/good_data['budget']\n",
    "display('Максимальная окупаемость:',good_data['profit_ratio'].max())\n",
    "display('Медианная окупаемость:',good_data['profit_ratio'].median())\n",
    "display('Минимальная окупаемость:',good_data['profit_ratio'].min())"
   ]
  },
  {
   "cell_type": "code",
   "execution_count": 41,
   "metadata": {},
   "outputs": [
    {
     "data": {
      "text/plain": [
       "'Окупившиеся фильмы:'"
      ]
     },
     "metadata": {},
     "output_type": "display_data"
    },
    {
     "data": {
      "text/plain": [
       "79"
      ]
     },
     "metadata": {},
     "output_type": "display_data"
    }
   ],
   "source": [
    "display('Окупившиеся фильмы:',len(good_data[good_data['profit_ratio'] >=1]))"
   ]
  },
  {
   "cell_type": "code",
   "execution_count": 42,
   "metadata": {},
   "outputs": [
    {
     "data": {
      "text/plain": [
       "'Неокупившиеся фильмы:'"
      ]
     },
     "metadata": {},
     "output_type": "display_data"
    },
    {
     "data": {
      "text/plain": [
       "239"
      ]
     },
     "metadata": {},
     "output_type": "display_data"
    }
   ],
   "source": [
    "display('Неокупившиеся фильмы:',len(good_data[good_data['profit_ratio'] <=1]))"
   ]
  },
  {
   "cell_type": "markdown",
   "metadata": {},
   "source": [
    "**Вывод:** Всего у нас получилось 332 фильма с гос. поддержкой, из которых 79 - окупились, а 239 - нет. Максимальная прибыль составила в 19 раз больше вложений, медианная же касса - 17% от бюджета. Минимальная касса составила меньше одной сотой процента от вложений, негусто.\n",
    "\n",
    "Пик гос. поддержки за рассматриваемый период - 2015 год, однако данных за 2013 и 2014 год не хватает, хотя было бы интересно посмотреть.\n",
    "\n",
    "В целом, за счет хитов, окупаемость гос.поддержки более чем двадцатикратная."
   ]
  },
  {
   "cell_type": "markdown",
   "metadata": {
    "id": "V2gYwMcPgFyd"
   },
   "source": [
    "### Шаг 5. Напишите общий вывод"
   ]
  },
  {
   "cell_type": "markdown",
   "metadata": {},
   "source": [
    "Изначальный датасет представлял собой две разные таблицы, для удобства они были объединены и проверены на ошибки. Типы данных были переведены в нужные, пропуски в датафрейме, где было возможно, были заполнены, полных дубликатов обнаружено не было. Проблемы в столбцах с категориальными значениями были исправлены, все аномалии в количественных столбцах исправлены.\n",
    "\n",
    "Также в таблицу были добавлены новые столбцы, а именно год проката, основные жанр и режиссер фильмов.\n",
    "\n",
    "**В рамках исследовательского анализа были изучены:**\n",
    "* доля фильмов с указанной информацией о прокате в кино по годам (*2017 год самый \"информативный\"*);\n",
    "* количество фильмов, выходящих в проект в каждом году (*2016 год самый богатый на фильмы*);\n",
    "* динамика проката по годам (*2018 год самый \"объемный\"*);\n",
    "* средняя и медианная сумма сборов по годам (*в обоих случаях самым прибыльным оказался 2017 год*);\n",
    "* сумма сборов в прокате по возрастной категории и по годам (*самая прибыльная категория - 16+, однако в разные года лидер менялся*);\n",
    "\n",
    "**Также был произведен анализ фильмов, получивших государственную поддержку.**\n",
    "\n",
    "За 7 лет было выделено более 20 млрд. рублей, сборы же составили более 421 млрд, однако судить по ним нельзя, так как учтены сборы во всех странах.\n",
    "\n",
    "При общем расчете получилось что медианная окупаемость очень низкая (*17%*), хотя суммарная нормальная (*100,3%*), значит на гос. средства было снято несколько бестселлеров, которые доходами перекрывают весь минус.\n",
    "\n",
    "Что же касается количественных показателей:\n",
    "* 79 фильмов с гос. поддержкой окупились\n",
    "* 239 фильмов не окупились\n",
    "* по 14 фильмам нет данных о сборах\n",
    "\n",
    "По итогу можно сделать вывод что фильмы, производство которых было поддержано государством, в среднем прибыль не приносят, более того, они даже не окупаются. Однако иногда снимаются и хиты, которые окупаются более чем в 19 раз."
   ]
  }
 ],
 "metadata": {
  "ExecuteTimeLog": [
   {
    "duration": 537,
    "start_time": "2021-07-07T10:12:08.634Z"
   },
   {
    "duration": 206,
    "start_time": "2021-07-07T10:12:30.191Z"
   },
   {
    "duration": 227,
    "start_time": "2021-07-07T10:12:33.078Z"
   },
   {
    "duration": 153,
    "start_time": "2021-07-07T10:13:42.146Z"
   },
   {
    "duration": 233,
    "start_time": "2021-07-07T10:30:09.252Z"
   },
   {
    "duration": 19,
    "start_time": "2021-07-07T10:30:15.577Z"
   },
   {
    "duration": 18,
    "start_time": "2021-07-07T10:30:57.348Z"
   },
   {
    "duration": 19,
    "start_time": "2021-07-07T10:31:17.452Z"
   },
   {
    "duration": 21,
    "start_time": "2021-07-07T10:31:32.227Z"
   },
   {
    "duration": 27,
    "start_time": "2021-07-07T10:32:06.588Z"
   },
   {
    "duration": 23,
    "start_time": "2021-07-07T10:32:43.645Z"
   },
   {
    "duration": 24,
    "start_time": "2021-07-07T10:33:06.948Z"
   },
   {
    "duration": 7,
    "start_time": "2021-07-07T10:33:28.558Z"
   },
   {
    "duration": 23,
    "start_time": "2021-07-07T10:33:43.761Z"
   },
   {
    "duration": 28,
    "start_time": "2021-07-07T10:34:13.466Z"
   },
   {
    "duration": 23,
    "start_time": "2021-07-07T10:35:56.187Z"
   },
   {
    "duration": 6,
    "start_time": "2021-07-07T10:36:48.182Z"
   },
   {
    "duration": 14,
    "start_time": "2021-07-07T10:37:49.641Z"
   },
   {
    "duration": 6,
    "start_time": "2021-07-07T10:38:06.694Z"
   },
   {
    "duration": 6,
    "start_time": "2021-07-07T10:38:13.493Z"
   },
   {
    "duration": 19,
    "start_time": "2021-07-07T10:38:44.056Z"
   },
   {
    "duration": 186,
    "start_time": "2021-07-07T10:48:35.618Z"
   },
   {
    "duration": 24,
    "start_time": "2021-07-07T10:48:51.498Z"
   },
   {
    "duration": 20,
    "start_time": "2021-07-07T10:48:59.415Z"
   },
   {
    "duration": 20,
    "start_time": "2021-07-07T10:53:02.195Z"
   },
   {
    "duration": 188,
    "start_time": "2021-07-07T10:54:40.486Z"
   },
   {
    "duration": 115,
    "start_time": "2021-07-07T10:54:52.552Z"
   },
   {
    "duration": 214,
    "start_time": "2021-07-07T10:54:56.354Z"
   },
   {
    "duration": 47,
    "start_time": "2021-07-07T10:54:58.282Z"
   },
   {
    "duration": 217,
    "start_time": "2021-07-07T10:59:16.075Z"
   },
   {
    "duration": 51,
    "start_time": "2021-07-07T10:59:16.243Z"
   },
   {
    "duration": 578,
    "start_time": "2021-07-07T10:59:18.774Z"
   },
   {
    "duration": 161,
    "start_time": "2021-07-07T10:59:21.238Z"
   },
   {
    "duration": 59,
    "start_time": "2021-07-07T10:59:21.453Z"
   },
   {
    "duration": 3,
    "start_time": "2021-07-07T11:02:10.786Z"
   },
   {
    "duration": 13,
    "start_time": "2021-07-07T11:07:07.722Z"
   },
   {
    "duration": 26,
    "start_time": "2021-07-07T11:07:17.958Z"
   },
   {
    "duration": 22,
    "start_time": "2021-07-07T11:08:17.939Z"
   },
   {
    "duration": 212,
    "start_time": "2021-07-07T11:08:19.665Z"
   },
   {
    "duration": 21,
    "start_time": "2021-07-07T11:08:29.945Z"
   },
   {
    "duration": 31,
    "start_time": "2021-07-07T11:08:38.899Z"
   },
   {
    "duration": 23,
    "start_time": "2021-07-07T11:08:54.527Z"
   },
   {
    "duration": 8,
    "start_time": "2021-07-07T11:18:55.974Z"
   },
   {
    "duration": 7,
    "start_time": "2021-07-07T11:19:03.639Z"
   },
   {
    "duration": 7,
    "start_time": "2021-07-07T11:19:06.444Z"
   },
   {
    "duration": 578,
    "start_time": "2021-07-07T12:09:59.576Z"
   },
   {
    "duration": 195,
    "start_time": "2021-07-07T12:10:00.156Z"
   },
   {
    "duration": 115,
    "start_time": "2021-07-07T12:10:00.353Z"
   },
   {
    "duration": 3,
    "start_time": "2021-07-07T12:10:00.470Z"
   },
   {
    "duration": 32,
    "start_time": "2021-07-07T12:10:00.474Z"
   },
   {
    "duration": 23,
    "start_time": "2021-07-07T12:10:00.508Z"
   },
   {
    "duration": 19,
    "start_time": "2021-07-07T12:10:00.533Z"
   },
   {
    "duration": 44,
    "start_time": "2021-07-07T12:10:00.553Z"
   },
   {
    "duration": 7,
    "start_time": "2021-07-07T12:10:00.600Z"
   },
   {
    "duration": 7,
    "start_time": "2021-07-07T12:19:45.761Z"
   },
   {
    "duration": 21,
    "start_time": "2021-07-07T12:21:35.482Z"
   },
   {
    "duration": 21,
    "start_time": "2021-07-07T12:29:23.569Z"
   },
   {
    "duration": 525,
    "start_time": "2021-07-07T12:29:44.542Z"
   },
   {
    "duration": 214,
    "start_time": "2021-07-07T12:29:45.069Z"
   },
   {
    "duration": 92,
    "start_time": "2021-07-07T12:29:45.285Z"
   },
   {
    "duration": 3,
    "start_time": "2021-07-07T12:29:45.379Z"
   },
   {
    "duration": 28,
    "start_time": "2021-07-07T12:29:45.384Z"
   },
   {
    "duration": 23,
    "start_time": "2021-07-07T12:29:45.413Z"
   },
   {
    "duration": 21,
    "start_time": "2021-07-07T12:29:45.437Z"
   },
   {
    "duration": 41,
    "start_time": "2021-07-07T12:29:45.460Z"
   },
   {
    "duration": 7,
    "start_time": "2021-07-07T12:29:45.502Z"
   },
   {
    "duration": 20,
    "start_time": "2021-07-07T12:29:45.511Z"
   },
   {
    "duration": 12,
    "start_time": "2021-07-07T12:34:02.800Z"
   },
   {
    "duration": 7,
    "start_time": "2021-07-07T12:35:10.479Z"
   },
   {
    "duration": 8,
    "start_time": "2021-07-07T12:35:22.440Z"
   },
   {
    "duration": 6,
    "start_time": "2021-07-07T12:35:35.649Z"
   },
   {
    "duration": 6,
    "start_time": "2021-07-07T12:35:43.107Z"
   },
   {
    "duration": 22,
    "start_time": "2021-07-07T12:38:03.029Z"
   },
   {
    "duration": 10,
    "start_time": "2021-07-07T12:38:06.592Z"
   },
   {
    "duration": 563,
    "start_time": "2021-07-07T12:38:46.493Z"
   },
   {
    "duration": 265,
    "start_time": "2021-07-07T12:38:47.058Z"
   },
   {
    "duration": 94,
    "start_time": "2021-07-07T12:38:47.325Z"
   },
   {
    "duration": 3,
    "start_time": "2021-07-07T12:38:47.422Z"
   },
   {
    "duration": 30,
    "start_time": "2021-07-07T12:38:47.427Z"
   },
   {
    "duration": 16,
    "start_time": "2021-07-07T12:38:53.305Z"
   },
   {
    "duration": 10,
    "start_time": "2021-07-07T12:38:53.499Z"
   },
   {
    "duration": 8,
    "start_time": "2021-07-07T12:39:48.161Z"
   },
   {
    "duration": 27,
    "start_time": "2021-07-07T12:41:17.629Z"
   },
   {
    "duration": 17,
    "start_time": "2021-07-07T12:41:17.867Z"
   },
   {
    "duration": 21,
    "start_time": "2021-07-07T12:41:19.310Z"
   },
   {
    "duration": 7,
    "start_time": "2021-07-07T12:41:19.544Z"
   },
   {
    "duration": 20,
    "start_time": "2021-07-07T12:41:20.504Z"
   },
   {
    "duration": 554,
    "start_time": "2021-07-07T12:56:23.696Z"
   },
   {
    "duration": 200,
    "start_time": "2021-07-07T12:56:25.234Z"
   },
   {
    "duration": 119,
    "start_time": "2021-07-07T12:56:25.480Z"
   },
   {
    "duration": 4,
    "start_time": "2021-07-07T12:56:25.762Z"
   },
   {
    "duration": 26,
    "start_time": "2021-07-07T12:56:27.172Z"
   },
   {
    "duration": 12,
    "start_time": "2021-07-07T12:56:29.051Z"
   },
   {
    "duration": 10,
    "start_time": "2021-07-07T12:56:29.291Z"
   },
   {
    "duration": 8,
    "start_time": "2021-07-07T12:56:29.623Z"
   },
   {
    "duration": 28,
    "start_time": "2021-07-07T12:56:32.137Z"
   },
   {
    "duration": 19,
    "start_time": "2021-07-07T12:56:39.785Z"
   },
   {
    "duration": 20,
    "start_time": "2021-07-07T12:56:44.297Z"
   },
   {
    "duration": 7,
    "start_time": "2021-07-07T12:56:45.392Z"
   },
   {
    "duration": 23,
    "start_time": "2021-07-07T12:56:46.615Z"
   },
   {
    "duration": 4,
    "start_time": "2021-07-07T12:57:06.625Z"
   },
   {
    "duration": 32,
    "start_time": "2021-07-07T12:57:36.690Z"
   },
   {
    "duration": 18,
    "start_time": "2021-07-07T12:58:00.149Z"
   },
   {
    "duration": 15,
    "start_time": "2021-07-07T12:59:16.793Z"
   },
   {
    "duration": 7,
    "start_time": "2021-07-07T13:19:22.624Z"
   },
   {
    "duration": 6,
    "start_time": "2021-07-07T14:17:33.527Z"
   },
   {
    "duration": 9,
    "start_time": "2021-07-07T14:17:48.409Z"
   },
   {
    "duration": 8,
    "start_time": "2021-07-07T14:20:13.060Z"
   },
   {
    "duration": 8,
    "start_time": "2021-07-07T14:20:37.957Z"
   },
   {
    "duration": 8,
    "start_time": "2021-07-07T14:20:47.470Z"
   },
   {
    "duration": 9,
    "start_time": "2021-07-07T14:20:54.503Z"
   },
   {
    "duration": 10,
    "start_time": "2021-07-07T14:28:57.763Z"
   },
   {
    "duration": 3,
    "start_time": "2021-07-07T14:30:23.377Z"
   },
   {
    "duration": 3,
    "start_time": "2021-07-07T14:30:36.489Z"
   },
   {
    "duration": 103,
    "start_time": "2021-07-07T14:30:52.351Z"
   },
   {
    "duration": 8,
    "start_time": "2021-07-07T14:30:54.763Z"
   },
   {
    "duration": 8,
    "start_time": "2021-07-07T14:31:29.301Z"
   },
   {
    "duration": 13,
    "start_time": "2021-07-07T14:31:44.516Z"
   },
   {
    "duration": 7,
    "start_time": "2021-07-07T14:33:10.972Z"
   },
   {
    "duration": 11,
    "start_time": "2021-07-07T14:33:27.780Z"
   },
   {
    "duration": 8,
    "start_time": "2021-07-07T14:34:44.588Z"
   },
   {
    "duration": 57,
    "start_time": "2021-07-07T14:35:59.042Z"
   },
   {
    "duration": 3,
    "start_time": "2021-07-07T14:36:28.168Z"
   },
   {
    "duration": 5,
    "start_time": "2021-07-07T14:36:46.254Z"
   },
   {
    "duration": 4,
    "start_time": "2021-07-07T14:36:52.714Z"
   },
   {
    "duration": 3,
    "start_time": "2021-07-07T14:36:56.612Z"
   },
   {
    "duration": 4,
    "start_time": "2021-07-07T14:36:57.049Z"
   },
   {
    "duration": 3,
    "start_time": "2021-07-07T14:39:21.214Z"
   },
   {
    "duration": 7,
    "start_time": "2021-07-07T14:39:52.406Z"
   },
   {
    "duration": 11,
    "start_time": "2021-07-07T14:39:58.576Z"
   },
   {
    "duration": 9,
    "start_time": "2021-07-07T14:40:26.301Z"
   },
   {
    "duration": 10,
    "start_time": "2021-07-07T14:40:31.704Z"
   },
   {
    "duration": 11,
    "start_time": "2021-07-07T14:40:36.249Z"
   },
   {
    "duration": 10,
    "start_time": "2021-07-07T14:40:39.783Z"
   },
   {
    "duration": 9,
    "start_time": "2021-07-07T14:40:48.558Z"
   },
   {
    "duration": 10,
    "start_time": "2021-07-07T14:40:57.143Z"
   },
   {
    "duration": 9,
    "start_time": "2021-07-07T14:41:06.074Z"
   },
   {
    "duration": 4324,
    "start_time": "2021-07-07T14:41:22.004Z"
   },
   {
    "duration": 11,
    "start_time": "2021-07-07T14:41:33.392Z"
   },
   {
    "duration": 9,
    "start_time": "2021-07-07T14:41:39.288Z"
   },
   {
    "duration": 569,
    "start_time": "2021-07-07T14:42:14.387Z"
   },
   {
    "duration": 197,
    "start_time": "2021-07-07T14:42:14.959Z"
   },
   {
    "duration": 84,
    "start_time": "2021-07-07T14:42:16.052Z"
   },
   {
    "duration": 4,
    "start_time": "2021-07-07T14:42:16.900Z"
   },
   {
    "duration": 27,
    "start_time": "2021-07-07T14:42:19.898Z"
   },
   {
    "duration": 12,
    "start_time": "2021-07-07T14:42:21.577Z"
   },
   {
    "duration": 9,
    "start_time": "2021-07-07T14:42:21.813Z"
   },
   {
    "duration": 9,
    "start_time": "2021-07-07T14:42:22.569Z"
   },
   {
    "duration": 29,
    "start_time": "2021-07-07T14:42:25.837Z"
   },
   {
    "duration": 20,
    "start_time": "2021-07-07T14:42:27.003Z"
   },
   {
    "duration": 21,
    "start_time": "2021-07-07T14:42:28.767Z"
   },
   {
    "duration": 7,
    "start_time": "2021-07-07T14:42:29.838Z"
   },
   {
    "duration": 4,
    "start_time": "2021-07-07T14:43:25.493Z"
   },
   {
    "duration": 7,
    "start_time": "2021-07-07T14:43:26.573Z"
   },
   {
    "duration": 10,
    "start_time": "2021-07-07T14:43:31.639Z"
   },
   {
    "duration": 9,
    "start_time": "2021-07-07T14:43:32.046Z"
   },
   {
    "duration": 10,
    "start_time": "2021-07-07T14:43:33.301Z"
   },
   {
    "duration": 12,
    "start_time": "2021-07-07T14:43:33.658Z"
   },
   {
    "duration": 8,
    "start_time": "2021-07-07T14:43:34.552Z"
   },
   {
    "duration": 9,
    "start_time": "2021-07-07T14:43:35.058Z"
   },
   {
    "duration": 12,
    "start_time": "2021-07-07T14:43:35.914Z"
   },
   {
    "duration": 17,
    "start_time": "2021-07-07T14:45:34.368Z"
   },
   {
    "duration": 512,
    "start_time": "2021-07-07T14:51:58.236Z"
   },
   {
    "duration": 223,
    "start_time": "2021-07-07T14:51:58.750Z"
   },
   {
    "duration": 93,
    "start_time": "2021-07-07T14:51:58.977Z"
   },
   {
    "duration": 4,
    "start_time": "2021-07-07T14:51:59.071Z"
   },
   {
    "duration": 37,
    "start_time": "2021-07-07T14:51:59.077Z"
   },
   {
    "duration": 18,
    "start_time": "2021-07-07T14:51:59.116Z"
   },
   {
    "duration": 10,
    "start_time": "2021-07-07T14:51:59.137Z"
   },
   {
    "duration": 8,
    "start_time": "2021-07-07T14:51:59.149Z"
   },
   {
    "duration": 54,
    "start_time": "2021-07-07T14:51:59.158Z"
   },
   {
    "duration": 18,
    "start_time": "2021-07-07T14:51:59.213Z"
   },
   {
    "duration": 22,
    "start_time": "2021-07-07T14:51:59.232Z"
   },
   {
    "duration": 36,
    "start_time": "2021-07-07T14:51:59.255Z"
   },
   {
    "duration": 7,
    "start_time": "2021-07-07T14:51:59.293Z"
   },
   {
    "duration": 10,
    "start_time": "2021-07-07T14:51:59.302Z"
   },
   {
    "duration": 9,
    "start_time": "2021-07-07T14:51:59.313Z"
   },
   {
    "duration": 11,
    "start_time": "2021-07-07T14:51:59.324Z"
   },
   {
    "duration": 8,
    "start_time": "2021-07-07T14:51:59.337Z"
   },
   {
    "duration": 46,
    "start_time": "2021-07-07T14:51:59.347Z"
   },
   {
    "duration": 22,
    "start_time": "2021-07-07T14:51:59.395Z"
   },
   {
    "duration": 24,
    "start_time": "2021-07-07T14:57:32.911Z"
   },
   {
    "duration": 7,
    "start_time": "2021-07-07T14:58:22.070Z"
   },
   {
    "duration": 4,
    "start_time": "2021-07-07T14:59:11.239Z"
   },
   {
    "duration": 25,
    "start_time": "2021-07-07T15:07:22.208Z"
   },
   {
    "duration": 16,
    "start_time": "2021-07-07T15:08:25.560Z"
   },
   {
    "duration": 15,
    "start_time": "2021-07-07T15:08:40.647Z"
   },
   {
    "duration": 14,
    "start_time": "2021-07-07T15:08:46.669Z"
   },
   {
    "duration": 533,
    "start_time": "2021-07-07T15:18:07.440Z"
   },
   {
    "duration": 173,
    "start_time": "2021-07-07T15:18:07.974Z"
   },
   {
    "duration": 84,
    "start_time": "2021-07-07T15:18:08.149Z"
   },
   {
    "duration": 3,
    "start_time": "2021-07-07T15:18:08.235Z"
   },
   {
    "duration": 30,
    "start_time": "2021-07-07T15:18:08.240Z"
   },
   {
    "duration": 22,
    "start_time": "2021-07-07T15:18:08.272Z"
   },
   {
    "duration": 11,
    "start_time": "2021-07-07T15:18:08.295Z"
   },
   {
    "duration": 11,
    "start_time": "2021-07-07T15:18:08.309Z"
   },
   {
    "duration": 40,
    "start_time": "2021-07-07T15:18:08.322Z"
   },
   {
    "duration": 42,
    "start_time": "2021-07-07T15:18:08.364Z"
   },
   {
    "duration": 22,
    "start_time": "2021-07-07T15:18:08.408Z"
   },
   {
    "duration": 5,
    "start_time": "2021-07-07T15:18:08.432Z"
   },
   {
    "duration": 13,
    "start_time": "2021-07-07T15:18:08.439Z"
   },
   {
    "duration": 9,
    "start_time": "2021-07-07T15:18:08.454Z"
   },
   {
    "duration": 32,
    "start_time": "2021-07-07T15:18:08.465Z"
   },
   {
    "duration": 10,
    "start_time": "2021-07-07T15:18:08.501Z"
   },
   {
    "duration": 7,
    "start_time": "2021-07-07T15:18:08.513Z"
   },
   {
    "duration": 11,
    "start_time": "2021-07-07T15:18:08.521Z"
   },
   {
    "duration": 17,
    "start_time": "2021-07-07T15:18:08.534Z"
   },
   {
    "duration": 44,
    "start_time": "2021-07-07T15:18:08.553Z"
   },
   {
    "duration": 22,
    "start_time": "2021-07-07T15:18:08.599Z"
   },
   {
    "duration": 61,
    "start_time": "2021-07-07T15:18:08.622Z"
   },
   {
    "duration": 7,
    "start_time": "2021-07-07T15:18:39.457Z"
   },
   {
    "duration": 5,
    "start_time": "2021-07-07T16:05:17.020Z"
   },
   {
    "duration": 5,
    "start_time": "2021-07-07T16:51:28.794Z"
   },
   {
    "duration": 546,
    "start_time": "2021-07-07T16:52:26.306Z"
   },
   {
    "duration": 203,
    "start_time": "2021-07-07T16:52:27.523Z"
   },
   {
    "duration": 85,
    "start_time": "2021-07-07T16:52:27.736Z"
   },
   {
    "duration": 4,
    "start_time": "2021-07-07T16:52:27.899Z"
   },
   {
    "duration": 25,
    "start_time": "2021-07-07T16:52:28.674Z"
   },
   {
    "duration": 8,
    "start_time": "2021-07-07T16:52:32.956Z"
   },
   {
    "duration": 18,
    "start_time": "2021-07-07T16:52:35.616Z"
   },
   {
    "duration": 6,
    "start_time": "2021-07-07T16:52:36.913Z"
   },
   {
    "duration": 11,
    "start_time": "2021-07-07T16:52:40.258Z"
   },
   {
    "duration": 10,
    "start_time": "2021-07-07T16:52:46.251Z"
   },
   {
    "duration": 8,
    "start_time": "2021-07-07T16:52:47.182Z"
   },
   {
    "duration": 27,
    "start_time": "2021-07-07T16:53:20.391Z"
   },
   {
    "duration": 20,
    "start_time": "2021-07-07T16:53:22.022Z"
   },
   {
    "duration": 23,
    "start_time": "2021-07-07T16:53:23.690Z"
   },
   {
    "duration": 8,
    "start_time": "2021-07-07T16:53:24.261Z"
   },
   {
    "duration": 4,
    "start_time": "2021-07-07T16:53:38.733Z"
   },
   {
    "duration": 7,
    "start_time": "2021-07-07T16:53:40.445Z"
   },
   {
    "duration": 11,
    "start_time": "2021-07-07T16:53:41.348Z"
   },
   {
    "duration": 13,
    "start_time": "2021-07-07T16:53:45.250Z"
   },
   {
    "duration": 12,
    "start_time": "2021-07-07T16:53:45.467Z"
   },
   {
    "duration": 4,
    "start_time": "2021-07-07T16:55:32.704Z"
   },
   {
    "duration": 12,
    "start_time": "2021-07-07T16:55:49.012Z"
   },
   {
    "duration": 18,
    "start_time": "2021-07-07T16:55:49.547Z"
   },
   {
    "duration": 611,
    "start_time": "2021-07-07T16:58:35.156Z"
   },
   {
    "duration": 200,
    "start_time": "2021-07-07T16:58:35.770Z"
   },
   {
    "duration": 86,
    "start_time": "2021-07-07T16:58:35.972Z"
   },
   {
    "duration": 3,
    "start_time": "2021-07-07T16:58:36.060Z"
   },
   {
    "duration": 27,
    "start_time": "2021-07-07T16:58:36.065Z"
   },
   {
    "duration": 8,
    "start_time": "2021-07-07T16:58:36.094Z"
   },
   {
    "duration": 17,
    "start_time": "2021-07-07T16:58:36.103Z"
   },
   {
    "duration": 5,
    "start_time": "2021-07-07T16:58:36.123Z"
   },
   {
    "duration": 11,
    "start_time": "2021-07-07T16:58:36.130Z"
   },
   {
    "duration": 7,
    "start_time": "2021-07-07T16:58:36.143Z"
   },
   {
    "duration": 37,
    "start_time": "2021-07-07T16:58:36.152Z"
   },
   {
    "duration": 27,
    "start_time": "2021-07-07T16:58:36.191Z"
   },
   {
    "duration": 19,
    "start_time": "2021-07-07T16:58:36.219Z"
   },
   {
    "duration": 49,
    "start_time": "2021-07-07T16:58:36.240Z"
   },
   {
    "duration": 6,
    "start_time": "2021-07-07T16:58:36.291Z"
   },
   {
    "duration": 3,
    "start_time": "2021-07-07T16:58:36.299Z"
   },
   {
    "duration": 13,
    "start_time": "2021-07-07T16:58:36.304Z"
   },
   {
    "duration": 10,
    "start_time": "2021-07-07T16:58:36.319Z"
   },
   {
    "duration": 10,
    "start_time": "2021-07-07T16:58:36.331Z"
   },
   {
    "duration": 44,
    "start_time": "2021-07-07T16:58:36.343Z"
   },
   {
    "duration": 4,
    "start_time": "2021-07-07T16:58:36.388Z"
   },
   {
    "duration": 13,
    "start_time": "2021-07-07T16:58:36.394Z"
   },
   {
    "duration": 16,
    "start_time": "2021-07-07T16:58:36.410Z"
   },
   {
    "duration": 8,
    "start_time": "2021-07-07T17:02:31.629Z"
   },
   {
    "duration": 8,
    "start_time": "2021-07-07T17:02:34.308Z"
   },
   {
    "duration": 6,
    "start_time": "2021-07-07T17:05:13.483Z"
   },
   {
    "duration": 17,
    "start_time": "2021-07-07T17:05:20.606Z"
   },
   {
    "duration": 7,
    "start_time": "2021-07-07T17:05:34.638Z"
   },
   {
    "duration": 3,
    "start_time": "2021-07-07T17:06:31.883Z"
   },
   {
    "duration": 570,
    "start_time": "2021-07-07T17:06:37.165Z"
   },
   {
    "duration": 174,
    "start_time": "2021-07-07T17:06:37.737Z"
   },
   {
    "duration": 47,
    "start_time": "2021-07-07T17:06:37.913Z"
   },
   {
    "duration": 3,
    "start_time": "2021-07-07T17:06:37.962Z"
   },
   {
    "duration": 27,
    "start_time": "2021-07-07T17:06:37.967Z"
   },
   {
    "duration": 7,
    "start_time": "2021-07-07T17:06:37.996Z"
   },
   {
    "duration": 16,
    "start_time": "2021-07-07T17:06:38.005Z"
   },
   {
    "duration": 6,
    "start_time": "2021-07-07T17:06:38.024Z"
   },
   {
    "duration": 12,
    "start_time": "2021-07-07T17:06:38.031Z"
   },
   {
    "duration": 41,
    "start_time": "2021-07-07T17:06:38.045Z"
   },
   {
    "duration": 8,
    "start_time": "2021-07-07T17:06:38.088Z"
   },
   {
    "duration": 26,
    "start_time": "2021-07-07T17:06:38.098Z"
   },
   {
    "duration": 17,
    "start_time": "2021-07-07T17:06:38.126Z"
   },
   {
    "duration": 43,
    "start_time": "2021-07-07T17:06:38.144Z"
   },
   {
    "duration": 6,
    "start_time": "2021-07-07T17:06:38.188Z"
   },
   {
    "duration": 5,
    "start_time": "2021-07-07T17:06:38.195Z"
   },
   {
    "duration": 9,
    "start_time": "2021-07-07T17:06:38.201Z"
   },
   {
    "duration": 12,
    "start_time": "2021-07-07T17:06:38.212Z"
   },
   {
    "duration": 11,
    "start_time": "2021-07-07T17:06:38.226Z"
   },
   {
    "duration": 47,
    "start_time": "2021-07-07T17:06:38.239Z"
   },
   {
    "duration": 4,
    "start_time": "2021-07-07T17:06:38.288Z"
   },
   {
    "duration": 13,
    "start_time": "2021-07-07T17:06:38.293Z"
   },
   {
    "duration": 5,
    "start_time": "2021-07-07T17:06:38.309Z"
   },
   {
    "duration": 18,
    "start_time": "2021-07-07T17:06:38.325Z"
   },
   {
    "duration": 20,
    "start_time": "2021-07-07T17:07:02.805Z"
   },
   {
    "duration": 19,
    "start_time": "2021-07-07T17:07:08.527Z"
   },
   {
    "duration": 19,
    "start_time": "2021-07-07T17:07:12.758Z"
   },
   {
    "duration": 22,
    "start_time": "2021-07-07T17:07:17.497Z"
   },
   {
    "duration": 19,
    "start_time": "2021-07-07T17:07:19.645Z"
   },
   {
    "duration": 10,
    "start_time": "2021-07-07T17:07:34.239Z"
   },
   {
    "duration": 17,
    "start_time": "2021-07-07T17:07:54.144Z"
   },
   {
    "duration": 14,
    "start_time": "2021-07-07T17:08:14.357Z"
   },
   {
    "duration": 616,
    "start_time": "2021-07-07T17:08:45.254Z"
   },
   {
    "duration": 178,
    "start_time": "2021-07-07T17:08:45.872Z"
   },
   {
    "duration": 60,
    "start_time": "2021-07-07T17:08:46.054Z"
   },
   {
    "duration": 3,
    "start_time": "2021-07-07T17:08:46.116Z"
   },
   {
    "duration": 26,
    "start_time": "2021-07-07T17:08:46.121Z"
   },
   {
    "duration": 7,
    "start_time": "2021-07-07T17:08:46.149Z"
   },
   {
    "duration": 17,
    "start_time": "2021-07-07T17:08:46.158Z"
   },
   {
    "duration": 14,
    "start_time": "2021-07-07T17:08:46.176Z"
   },
   {
    "duration": 17,
    "start_time": "2021-07-07T17:08:46.193Z"
   },
   {
    "duration": 9,
    "start_time": "2021-07-07T17:08:46.211Z"
   },
   {
    "duration": 21,
    "start_time": "2021-07-07T17:08:46.221Z"
   },
   {
    "duration": 49,
    "start_time": "2021-07-07T17:08:46.244Z"
   },
   {
    "duration": 24,
    "start_time": "2021-07-07T17:08:46.295Z"
   },
   {
    "duration": 22,
    "start_time": "2021-07-07T17:08:46.321Z"
   },
   {
    "duration": 6,
    "start_time": "2021-07-07T17:08:46.345Z"
   },
   {
    "duration": 5,
    "start_time": "2021-07-07T17:08:46.353Z"
   },
   {
    "duration": 13,
    "start_time": "2021-07-07T17:08:46.386Z"
   },
   {
    "duration": 12,
    "start_time": "2021-07-07T17:08:46.402Z"
   },
   {
    "duration": 10,
    "start_time": "2021-07-07T17:08:46.415Z"
   },
   {
    "duration": 7,
    "start_time": "2021-07-07T17:08:46.427Z"
   },
   {
    "duration": 8,
    "start_time": "2021-07-07T17:08:46.435Z"
   },
   {
    "duration": 68,
    "start_time": "2021-07-07T17:08:46.446Z"
   },
   {
    "duration": 13,
    "start_time": "2021-07-07T17:08:46.516Z"
   },
   {
    "duration": 78,
    "start_time": "2021-07-07T17:08:46.530Z"
   },
   {
    "duration": 40,
    "start_time": "2021-07-07T17:09:08.185Z"
   },
   {
    "duration": 16,
    "start_time": "2021-07-07T17:09:19.324Z"
   },
   {
    "duration": 21,
    "start_time": "2021-07-07T17:09:23.290Z"
   },
   {
    "duration": 13,
    "start_time": "2021-07-07T17:09:54.812Z"
   },
   {
    "duration": 13,
    "start_time": "2021-07-07T17:10:02.039Z"
   },
   {
    "duration": 10,
    "start_time": "2021-07-07T17:10:29.632Z"
   },
   {
    "duration": 13,
    "start_time": "2021-07-07T17:10:52.372Z"
   },
   {
    "duration": 13,
    "start_time": "2021-07-07T17:11:17.270Z"
   },
   {
    "duration": 13,
    "start_time": "2021-07-07T17:14:59.284Z"
   },
   {
    "duration": 547,
    "start_time": "2021-07-07T17:18:52.403Z"
   },
   {
    "duration": 163,
    "start_time": "2021-07-07T17:18:52.952Z"
   },
   {
    "duration": 44,
    "start_time": "2021-07-07T17:18:53.117Z"
   },
   {
    "duration": 3,
    "start_time": "2021-07-07T17:18:53.162Z"
   },
   {
    "duration": 26,
    "start_time": "2021-07-07T17:18:53.167Z"
   },
   {
    "duration": 6,
    "start_time": "2021-07-07T17:18:53.195Z"
   },
   {
    "duration": 15,
    "start_time": "2021-07-07T17:18:53.203Z"
   },
   {
    "duration": 5,
    "start_time": "2021-07-07T17:18:53.220Z"
   },
   {
    "duration": 11,
    "start_time": "2021-07-07T17:18:53.228Z"
   },
   {
    "duration": 9,
    "start_time": "2021-07-07T17:18:53.241Z"
   },
   {
    "duration": 41,
    "start_time": "2021-07-07T17:18:53.252Z"
   },
   {
    "duration": 33,
    "start_time": "2021-07-07T17:18:53.295Z"
   },
   {
    "duration": 19,
    "start_time": "2021-07-07T17:18:53.330Z"
   },
   {
    "duration": 49,
    "start_time": "2021-07-07T17:18:53.350Z"
   },
   {
    "duration": 5,
    "start_time": "2021-07-07T17:18:53.401Z"
   },
   {
    "duration": 5,
    "start_time": "2021-07-07T17:18:53.408Z"
   },
   {
    "duration": 11,
    "start_time": "2021-07-07T17:18:53.414Z"
   },
   {
    "duration": 9,
    "start_time": "2021-07-07T17:18:53.427Z"
   },
   {
    "duration": 10,
    "start_time": "2021-07-07T17:18:53.437Z"
   },
   {
    "duration": 39,
    "start_time": "2021-07-07T17:18:53.448Z"
   },
   {
    "duration": 26,
    "start_time": "2021-07-07T17:18:55.799Z"
   },
   {
    "duration": 598,
    "start_time": "2021-07-07T17:20:17.862Z"
   },
   {
    "duration": 161,
    "start_time": "2021-07-07T17:20:18.462Z"
   },
   {
    "duration": 45,
    "start_time": "2021-07-07T17:20:18.626Z"
   },
   {
    "duration": 4,
    "start_time": "2021-07-07T17:20:18.673Z"
   },
   {
    "duration": 38,
    "start_time": "2021-07-07T17:20:26.877Z"
   },
   {
    "duration": 7,
    "start_time": "2021-07-07T17:20:37.405Z"
   },
   {
    "duration": 19,
    "start_time": "2021-07-07T17:20:51.534Z"
   },
   {
    "duration": 5,
    "start_time": "2021-07-07T17:20:57.228Z"
   },
   {
    "duration": 7,
    "start_time": "2021-07-07T17:21:08.235Z"
   },
   {
    "duration": 19,
    "start_time": "2021-07-07T17:21:42.158Z"
   },
   {
    "duration": 14,
    "start_time": "2021-07-07T17:21:50.225Z"
   },
   {
    "duration": 22,
    "start_time": "2021-07-07T17:22:54.104Z"
   },
   {
    "duration": 5,
    "start_time": "2021-07-07T17:22:56.371Z"
   },
   {
    "duration": 14,
    "start_time": "2021-07-07T17:22:58.316Z"
   },
   {
    "duration": 5,
    "start_time": "2021-07-07T17:22:58.493Z"
   },
   {
    "duration": 35,
    "start_time": "2021-07-07T17:22:59.666Z"
   },
   {
    "duration": 6,
    "start_time": "2021-07-07T17:23:02.410Z"
   },
   {
    "duration": 611,
    "start_time": "2021-07-07T17:24:59.664Z"
   },
   {
    "duration": 178,
    "start_time": "2021-07-07T17:25:01.945Z"
   },
   {
    "duration": 47,
    "start_time": "2021-07-07T17:25:02.125Z"
   },
   {
    "duration": 2,
    "start_time": "2021-07-07T17:25:07.903Z"
   },
   {
    "duration": 254,
    "start_time": "2021-07-07T17:25:08.232Z"
   },
   {
    "duration": 182,
    "start_time": "2021-07-07T17:25:08.671Z"
   },
   {
    "duration": 6,
    "start_time": "2021-07-07T17:25:13.104Z"
   },
   {
    "duration": 36,
    "start_time": "2021-07-07T17:25:13.662Z"
   },
   {
    "duration": 7,
    "start_time": "2021-07-07T17:25:14.528Z"
   },
   {
    "duration": 24,
    "start_time": "2021-07-07T17:25:27.982Z"
   },
   {
    "duration": 3,
    "start_time": "2021-07-07T17:25:48.982Z"
   },
   {
    "duration": 165,
    "start_time": "2021-07-07T17:25:48.987Z"
   },
   {
    "duration": 50,
    "start_time": "2021-07-07T17:25:49.154Z"
   },
   {
    "duration": 4,
    "start_time": "2021-07-07T17:25:49.206Z"
   },
   {
    "duration": 26,
    "start_time": "2021-07-07T17:25:49.212Z"
   },
   {
    "duration": 7,
    "start_time": "2021-07-07T17:25:49.240Z"
   },
   {
    "duration": 16,
    "start_time": "2021-07-07T17:25:49.249Z"
   },
   {
    "duration": 22,
    "start_time": "2021-07-07T17:25:49.266Z"
   },
   {
    "duration": 16,
    "start_time": "2021-07-07T17:25:49.291Z"
   },
   {
    "duration": 9,
    "start_time": "2021-07-07T17:25:49.309Z"
   },
   {
    "duration": 7,
    "start_time": "2021-07-07T17:25:49.319Z"
   },
   {
    "duration": 28,
    "start_time": "2021-07-07T17:25:49.328Z"
   },
   {
    "duration": 44,
    "start_time": "2021-07-07T17:25:49.357Z"
   },
   {
    "duration": 22,
    "start_time": "2021-07-07T17:25:49.403Z"
   },
   {
    "duration": 7,
    "start_time": "2021-07-07T17:25:49.427Z"
   },
   {
    "duration": 3,
    "start_time": "2021-07-07T17:25:49.436Z"
   },
   {
    "duration": 44,
    "start_time": "2021-07-07T17:25:49.441Z"
   },
   {
    "duration": 12,
    "start_time": "2021-07-07T17:25:49.488Z"
   },
   {
    "duration": 13,
    "start_time": "2021-07-07T17:25:49.502Z"
   },
   {
    "duration": 10,
    "start_time": "2021-07-07T17:25:49.516Z"
   },
   {
    "duration": 62,
    "start_time": "2021-07-07T17:25:49.527Z"
   },
   {
    "duration": 26,
    "start_time": "2021-07-07T17:26:51.809Z"
   },
   {
    "duration": 26,
    "start_time": "2021-07-07T17:26:55.759Z"
   },
   {
    "duration": 26,
    "start_time": "2021-07-07T17:27:04.501Z"
   },
   {
    "duration": 25,
    "start_time": "2021-07-07T17:28:24.859Z"
   },
   {
    "duration": 21,
    "start_time": "2021-07-07T17:28:55.250Z"
   },
   {
    "duration": 21,
    "start_time": "2021-07-07T17:28:58.885Z"
   },
   {
    "duration": 7,
    "start_time": "2021-07-07T17:45:40.972Z"
   },
   {
    "duration": 13,
    "start_time": "2021-07-07T17:45:42.529Z"
   },
   {
    "duration": 27,
    "start_time": "2021-07-07T17:45:51.026Z"
   },
   {
    "duration": 518,
    "start_time": "2021-07-07T17:46:15.532Z"
   },
   {
    "duration": 235,
    "start_time": "2021-07-07T17:46:16.053Z"
   },
   {
    "duration": 80,
    "start_time": "2021-07-07T17:46:16.292Z"
   },
   {
    "duration": 5,
    "start_time": "2021-07-07T17:46:16.373Z"
   },
   {
    "duration": 26,
    "start_time": "2021-07-07T17:46:16.380Z"
   },
   {
    "duration": 7,
    "start_time": "2021-07-07T17:46:16.408Z"
   },
   {
    "duration": 16,
    "start_time": "2021-07-07T17:46:16.418Z"
   },
   {
    "duration": 5,
    "start_time": "2021-07-07T17:46:16.436Z"
   },
   {
    "duration": 13,
    "start_time": "2021-07-07T17:46:16.442Z"
   },
   {
    "duration": 35,
    "start_time": "2021-07-07T17:46:16.456Z"
   },
   {
    "duration": 8,
    "start_time": "2021-07-07T17:46:16.493Z"
   },
   {
    "duration": 28,
    "start_time": "2021-07-07T17:46:16.502Z"
   },
   {
    "duration": 17,
    "start_time": "2021-07-07T17:46:16.532Z"
   },
   {
    "duration": 44,
    "start_time": "2021-07-07T17:46:16.551Z"
   },
   {
    "duration": 6,
    "start_time": "2021-07-07T17:46:16.597Z"
   },
   {
    "duration": 4,
    "start_time": "2021-07-07T17:46:16.605Z"
   },
   {
    "duration": 9,
    "start_time": "2021-07-07T17:46:16.610Z"
   },
   {
    "duration": 9,
    "start_time": "2021-07-07T17:46:16.621Z"
   },
   {
    "duration": 10,
    "start_time": "2021-07-07T17:46:16.632Z"
   },
   {
    "duration": 43,
    "start_time": "2021-07-07T17:46:16.644Z"
   },
   {
    "duration": 26,
    "start_time": "2021-07-07T17:46:16.689Z"
   },
   {
    "duration": 19,
    "start_time": "2021-07-07T17:46:16.718Z"
   },
   {
    "duration": 8,
    "start_time": "2021-07-07T17:46:16.738Z"
   },
   {
    "duration": 43,
    "start_time": "2021-07-07T17:46:16.747Z"
   },
   {
    "duration": 19,
    "start_time": "2021-07-07T17:46:16.791Z"
   },
   {
    "duration": 9,
    "start_time": "2021-07-07T17:46:16.812Z"
   },
   {
    "duration": 60,
    "start_time": "2021-07-07T17:46:16.822Z"
   },
   {
    "duration": -8,
    "start_time": "2021-07-07T17:46:16.892Z"
   },
   {
    "duration": 12,
    "start_time": "2021-07-07T17:48:47.707Z"
   },
   {
    "duration": 553,
    "start_time": "2021-07-07T18:10:09.350Z"
   },
   {
    "duration": 230,
    "start_time": "2021-07-07T18:10:09.905Z"
   },
   {
    "duration": 97,
    "start_time": "2021-07-07T18:10:10.137Z"
   },
   {
    "duration": 5,
    "start_time": "2021-07-07T18:10:10.236Z"
   },
   {
    "duration": 29,
    "start_time": "2021-07-07T18:10:10.242Z"
   },
   {
    "duration": 7,
    "start_time": "2021-07-07T18:10:10.272Z"
   },
   {
    "duration": 15,
    "start_time": "2021-07-07T18:10:10.281Z"
   },
   {
    "duration": 4,
    "start_time": "2021-07-07T18:10:10.299Z"
   },
   {
    "duration": 14,
    "start_time": "2021-07-07T18:10:10.305Z"
   },
   {
    "duration": 8,
    "start_time": "2021-07-07T18:10:10.321Z"
   },
   {
    "duration": 8,
    "start_time": "2021-07-07T18:10:10.331Z"
   },
   {
    "duration": 56,
    "start_time": "2021-07-07T18:10:10.341Z"
   },
   {
    "duration": 19,
    "start_time": "2021-07-07T18:10:10.399Z"
   },
   {
    "duration": 23,
    "start_time": "2021-07-07T18:10:10.419Z"
   },
   {
    "duration": 6,
    "start_time": "2021-07-07T18:10:10.444Z"
   },
   {
    "duration": 9,
    "start_time": "2021-07-07T18:10:10.451Z"
   },
   {
    "duration": 30,
    "start_time": "2021-07-07T18:10:10.462Z"
   },
   {
    "duration": 9,
    "start_time": "2021-07-07T18:10:10.494Z"
   },
   {
    "duration": 14,
    "start_time": "2021-07-07T18:10:10.505Z"
   },
   {
    "duration": 7,
    "start_time": "2021-07-07T18:10:10.521Z"
   },
   {
    "duration": 26,
    "start_time": "2021-07-07T18:10:10.530Z"
   },
   {
    "duration": 44,
    "start_time": "2021-07-07T18:10:10.558Z"
   },
   {
    "duration": 7,
    "start_time": "2021-07-07T18:10:10.605Z"
   },
   {
    "duration": 11,
    "start_time": "2021-07-07T18:10:10.614Z"
   },
   {
    "duration": 19,
    "start_time": "2021-07-07T18:10:10.626Z"
   },
   {
    "duration": 44,
    "start_time": "2021-07-07T18:10:10.646Z"
   },
   {
    "duration": 516,
    "start_time": "2021-07-07T18:14:00.826Z"
   },
   {
    "duration": 230,
    "start_time": "2021-07-07T18:14:01.344Z"
   },
   {
    "duration": 105,
    "start_time": "2021-07-07T18:14:01.576Z"
   },
   {
    "duration": 5,
    "start_time": "2021-07-07T18:14:01.683Z"
   },
   {
    "duration": 46,
    "start_time": "2021-07-07T18:14:01.690Z"
   },
   {
    "duration": 7,
    "start_time": "2021-07-07T18:14:01.738Z"
   },
   {
    "duration": 20,
    "start_time": "2021-07-07T18:14:01.747Z"
   },
   {
    "duration": 16,
    "start_time": "2021-07-07T18:14:01.769Z"
   },
   {
    "duration": 14,
    "start_time": "2021-07-07T18:14:01.787Z"
   },
   {
    "duration": 15,
    "start_time": "2021-07-07T18:14:01.803Z"
   },
   {
    "duration": 12,
    "start_time": "2021-07-07T18:14:01.820Z"
   },
   {
    "duration": 35,
    "start_time": "2021-07-07T18:14:01.833Z"
   },
   {
    "duration": 31,
    "start_time": "2021-07-07T18:14:01.869Z"
   },
   {
    "duration": 37,
    "start_time": "2021-07-07T18:14:01.902Z"
   },
   {
    "duration": 8,
    "start_time": "2021-07-07T18:14:01.942Z"
   },
   {
    "duration": 16,
    "start_time": "2021-07-07T18:14:01.952Z"
   },
   {
    "duration": 13,
    "start_time": "2021-07-07T18:14:01.970Z"
   },
   {
    "duration": 32,
    "start_time": "2021-07-07T18:14:01.985Z"
   },
   {
    "duration": 11,
    "start_time": "2021-07-07T18:14:02.019Z"
   },
   {
    "duration": 22,
    "start_time": "2021-07-07T18:14:02.031Z"
   },
   {
    "duration": 27,
    "start_time": "2021-07-07T18:14:02.055Z"
   },
   {
    "duration": 18,
    "start_time": "2021-07-07T18:14:02.084Z"
   },
   {
    "duration": 18,
    "start_time": "2021-07-07T18:14:02.106Z"
   },
   {
    "duration": 11,
    "start_time": "2021-07-07T18:14:02.126Z"
   },
   {
    "duration": 21,
    "start_time": "2021-07-07T18:14:02.138Z"
   },
   {
    "duration": 32,
    "start_time": "2021-07-07T18:14:02.161Z"
   },
   {
    "duration": 28,
    "start_time": "2021-07-07T18:14:44.295Z"
   },
   {
    "duration": 6,
    "start_time": "2021-07-07T18:15:05.834Z"
   },
   {
    "duration": 511,
    "start_time": "2021-07-07T18:15:41.541Z"
   },
   {
    "duration": 183,
    "start_time": "2021-07-07T18:15:42.054Z"
   },
   {
    "duration": 50,
    "start_time": "2021-07-07T18:15:42.239Z"
   },
   {
    "duration": 5,
    "start_time": "2021-07-07T18:15:42.291Z"
   },
   {
    "duration": 48,
    "start_time": "2021-07-07T18:15:42.297Z"
   },
   {
    "duration": 8,
    "start_time": "2021-07-07T18:15:42.346Z"
   },
   {
    "duration": 17,
    "start_time": "2021-07-07T18:15:42.356Z"
   },
   {
    "duration": 15,
    "start_time": "2021-07-07T18:15:42.375Z"
   },
   {
    "duration": 12,
    "start_time": "2021-07-07T18:15:42.392Z"
   },
   {
    "duration": 7,
    "start_time": "2021-07-07T18:15:42.406Z"
   },
   {
    "duration": 7,
    "start_time": "2021-07-07T18:15:42.415Z"
   },
   {
    "duration": 29,
    "start_time": "2021-07-07T18:15:42.423Z"
   },
   {
    "duration": 43,
    "start_time": "2021-07-07T18:15:42.453Z"
   },
   {
    "duration": 18,
    "start_time": "2021-07-07T18:15:42.497Z"
   },
   {
    "duration": 6,
    "start_time": "2021-07-07T18:15:42.516Z"
   },
   {
    "duration": 3,
    "start_time": "2021-07-07T18:15:42.523Z"
   },
   {
    "duration": 18,
    "start_time": "2021-07-07T18:15:42.528Z"
   },
   {
    "duration": 10,
    "start_time": "2021-07-07T18:15:42.547Z"
   },
   {
    "duration": 36,
    "start_time": "2021-07-07T18:15:42.559Z"
   },
   {
    "duration": 8,
    "start_time": "2021-07-07T18:15:42.597Z"
   },
   {
    "duration": 28,
    "start_time": "2021-07-07T18:15:42.606Z"
   },
   {
    "duration": 52,
    "start_time": "2021-07-07T18:15:42.635Z"
   },
   {
    "duration": 7,
    "start_time": "2021-07-07T18:15:42.690Z"
   },
   {
    "duration": 10,
    "start_time": "2021-07-07T18:15:42.699Z"
   },
   {
    "duration": 19,
    "start_time": "2021-07-07T18:15:42.711Z"
   },
   {
    "duration": 9,
    "start_time": "2021-07-07T18:15:42.732Z"
   },
   {
    "duration": 5,
    "start_time": "2021-07-07T18:15:42.743Z"
   },
   {
    "duration": 1450,
    "start_time": "2021-07-07T18:15:51.984Z"
   },
   {
    "duration": 161,
    "start_time": "2021-07-07T18:15:53.435Z"
   },
   {
    "duration": 124,
    "start_time": "2021-07-07T18:15:53.598Z"
   },
   {
    "duration": 5,
    "start_time": "2021-07-07T18:15:53.724Z"
   },
   {
    "duration": 34,
    "start_time": "2021-07-07T18:15:53.730Z"
   },
   {
    "duration": 7,
    "start_time": "2021-07-07T18:15:53.765Z"
   },
   {
    "duration": 15,
    "start_time": "2021-07-07T18:15:53.773Z"
   },
   {
    "duration": 5,
    "start_time": "2021-07-07T18:15:53.791Z"
   },
   {
    "duration": 19,
    "start_time": "2021-07-07T18:15:53.798Z"
   },
   {
    "duration": 9,
    "start_time": "2021-07-07T18:15:53.818Z"
   },
   {
    "duration": 19,
    "start_time": "2021-07-07T18:15:53.828Z"
   },
   {
    "duration": 27,
    "start_time": "2021-07-07T18:15:53.848Z"
   },
   {
    "duration": 16,
    "start_time": "2021-07-07T18:15:53.884Z"
   },
   {
    "duration": 29,
    "start_time": "2021-07-07T18:15:53.901Z"
   },
   {
    "duration": 5,
    "start_time": "2021-07-07T18:15:53.932Z"
   },
   {
    "duration": 15,
    "start_time": "2021-07-07T18:15:53.939Z"
   },
   {
    "duration": 13,
    "start_time": "2021-07-07T18:15:53.956Z"
   },
   {
    "duration": 20,
    "start_time": "2021-07-07T18:15:53.971Z"
   },
   {
    "duration": 14,
    "start_time": "2021-07-07T18:15:53.992Z"
   },
   {
    "duration": 9,
    "start_time": "2021-07-07T18:15:54.009Z"
   },
   {
    "duration": 28,
    "start_time": "2021-07-07T18:15:54.020Z"
   },
   {
    "duration": 50,
    "start_time": "2021-07-07T18:15:54.051Z"
   },
   {
    "duration": 8,
    "start_time": "2021-07-07T18:15:54.105Z"
   },
   {
    "duration": 11,
    "start_time": "2021-07-07T18:15:54.115Z"
   },
   {
    "duration": 20,
    "start_time": "2021-07-07T18:15:54.128Z"
   },
   {
    "duration": 13,
    "start_time": "2021-07-07T18:15:54.184Z"
   },
   {
    "duration": 7,
    "start_time": "2021-07-07T18:15:54.199Z"
   },
   {
    "duration": 7,
    "start_time": "2021-07-07T18:17:08.042Z"
   },
   {
    "duration": 8,
    "start_time": "2021-07-07T18:17:21.008Z"
   },
   {
    "duration": 7,
    "start_time": "2021-07-07T18:17:29.003Z"
   },
   {
    "duration": 8,
    "start_time": "2021-07-07T18:17:32.492Z"
   },
   {
    "duration": 9,
    "start_time": "2021-07-07T18:17:41.758Z"
   },
   {
    "duration": 255,
    "start_time": "2021-07-07T18:20:20.897Z"
   },
   {
    "duration": 173,
    "start_time": "2021-07-07T18:20:26.636Z"
   },
   {
    "duration": 7,
    "start_time": "2021-07-07T18:21:47.164Z"
   },
   {
    "duration": 254,
    "start_time": "2021-07-07T18:23:08.703Z"
   },
   {
    "duration": 21,
    "start_time": "2021-07-07T18:23:22.506Z"
   },
   {
    "duration": 315,
    "start_time": "2021-07-07T18:25:54.801Z"
   },
   {
    "duration": 34,
    "start_time": "2021-07-07T18:26:51.817Z"
   },
   {
    "duration": 327,
    "start_time": "2021-07-07T18:26:56.147Z"
   },
   {
    "duration": 342,
    "start_time": "2021-07-07T18:27:15.887Z"
   },
   {
    "duration": 302,
    "start_time": "2021-07-07T18:28:18.569Z"
   },
   {
    "duration": 226,
    "start_time": "2021-07-07T18:29:20.879Z"
   },
   {
    "duration": 207,
    "start_time": "2021-07-07T18:29:58.114Z"
   },
   {
    "duration": 140,
    "start_time": "2021-07-07T18:32:04.372Z"
   },
   {
    "duration": 158,
    "start_time": "2021-07-07T18:32:32.508Z"
   },
   {
    "duration": 145,
    "start_time": "2021-07-07T18:32:41.365Z"
   },
   {
    "duration": 132,
    "start_time": "2021-07-07T18:32:45.199Z"
   },
   {
    "duration": 11,
    "start_time": "2021-07-07T18:35:24.679Z"
   },
   {
    "duration": 268,
    "start_time": "2021-07-07T18:36:16.145Z"
   },
   {
    "duration": 227,
    "start_time": "2021-07-07T18:37:04.918Z"
   },
   {
    "duration": 3,
    "start_time": "2021-07-07T18:37:33.012Z"
   },
   {
    "duration": 671,
    "start_time": "2021-07-07T18:37:38.295Z"
   },
   {
    "duration": 54,
    "start_time": "2021-07-07T18:37:53.406Z"
   },
   {
    "duration": 631,
    "start_time": "2021-07-07T18:37:56.463Z"
   },
   {
    "duration": 19,
    "start_time": "2021-07-07T18:39:40.535Z"
   },
   {
    "duration": 20,
    "start_time": "2021-07-07T18:40:12.236Z"
   },
   {
    "duration": 633,
    "start_time": "2021-07-07T18:42:00.398Z"
   },
   {
    "duration": 218,
    "start_time": "2021-07-07T18:42:01.033Z"
   },
   {
    "duration": 49,
    "start_time": "2021-07-07T18:42:01.253Z"
   },
   {
    "duration": 5,
    "start_time": "2021-07-07T18:42:01.303Z"
   },
   {
    "duration": 27,
    "start_time": "2021-07-07T18:42:01.310Z"
   },
   {
    "duration": 8,
    "start_time": "2021-07-07T18:42:01.339Z"
   },
   {
    "duration": 20,
    "start_time": "2021-07-07T18:42:01.348Z"
   },
   {
    "duration": 6,
    "start_time": "2021-07-07T18:42:01.386Z"
   },
   {
    "duration": 16,
    "start_time": "2021-07-07T18:42:01.394Z"
   },
   {
    "duration": 9,
    "start_time": "2021-07-07T18:42:01.411Z"
   },
   {
    "duration": 11,
    "start_time": "2021-07-07T18:42:01.421Z"
   },
   {
    "duration": 31,
    "start_time": "2021-07-07T18:42:01.434Z"
   },
   {
    "duration": 18,
    "start_time": "2021-07-07T18:42:01.485Z"
   },
   {
    "duration": 23,
    "start_time": "2021-07-07T18:42:01.505Z"
   },
   {
    "duration": 6,
    "start_time": "2021-07-07T18:42:01.530Z"
   },
   {
    "duration": 10,
    "start_time": "2021-07-07T18:42:01.538Z"
   },
   {
    "duration": 13,
    "start_time": "2021-07-07T18:42:01.550Z"
   },
   {
    "duration": 24,
    "start_time": "2021-07-07T18:42:01.564Z"
   },
   {
    "duration": 20,
    "start_time": "2021-07-07T18:42:01.590Z"
   },
   {
    "duration": 8,
    "start_time": "2021-07-07T18:42:01.611Z"
   },
   {
    "duration": 31,
    "start_time": "2021-07-07T18:42:01.620Z"
   },
   {
    "duration": 39,
    "start_time": "2021-07-07T18:42:01.653Z"
   },
   {
    "duration": 8,
    "start_time": "2021-07-07T18:42:01.696Z"
   },
   {
    "duration": 13,
    "start_time": "2021-07-07T18:42:01.705Z"
   },
   {
    "duration": 20,
    "start_time": "2021-07-07T18:42:01.720Z"
   },
   {
    "duration": 12,
    "start_time": "2021-07-07T18:42:01.741Z"
   },
   {
    "duration": 35,
    "start_time": "2021-07-07T18:42:01.755Z"
   },
   {
    "duration": 14,
    "start_time": "2021-07-07T18:42:01.792Z"
   },
   {
    "duration": 188,
    "start_time": "2021-07-07T18:42:01.808Z"
   },
   {
    "duration": 19,
    "start_time": "2021-07-07T18:42:01.998Z"
   },
   {
    "duration": 175,
    "start_time": "2021-07-07T18:42:02.019Z"
   },
   {
    "duration": 134,
    "start_time": "2021-07-07T18:42:02.196Z"
   },
   {
    "duration": 10,
    "start_time": "2021-07-07T18:42:02.331Z"
   },
   {
    "duration": 19,
    "start_time": "2021-07-07T18:42:02.343Z"
   },
   {
    "duration": 628,
    "start_time": "2021-07-07T18:46:30.701Z"
   },
   {
    "duration": 183,
    "start_time": "2021-07-07T18:46:31.331Z"
   },
   {
    "duration": 48,
    "start_time": "2021-07-07T18:46:31.516Z"
   },
   {
    "duration": 5,
    "start_time": "2021-07-07T18:46:31.566Z"
   },
   {
    "duration": 28,
    "start_time": "2021-07-07T18:46:31.572Z"
   },
   {
    "duration": 8,
    "start_time": "2021-07-07T18:46:31.602Z"
   },
   {
    "duration": 19,
    "start_time": "2021-07-07T18:46:31.611Z"
   },
   {
    "duration": 6,
    "start_time": "2021-07-07T18:46:31.633Z"
   },
   {
    "duration": 17,
    "start_time": "2021-07-07T18:46:31.642Z"
   },
   {
    "duration": 10,
    "start_time": "2021-07-07T18:46:31.684Z"
   },
   {
    "duration": 9,
    "start_time": "2021-07-07T18:46:31.695Z"
   },
   {
    "duration": 28,
    "start_time": "2021-07-07T18:46:31.705Z"
   },
   {
    "duration": 18,
    "start_time": "2021-07-07T18:46:31.735Z"
   },
   {
    "duration": 48,
    "start_time": "2021-07-07T18:46:31.755Z"
   },
   {
    "duration": 6,
    "start_time": "2021-07-07T18:46:31.804Z"
   },
   {
    "duration": 4,
    "start_time": "2021-07-07T18:46:31.812Z"
   },
   {
    "duration": 9,
    "start_time": "2021-07-07T18:46:31.817Z"
   },
   {
    "duration": 10,
    "start_time": "2021-07-07T18:46:31.827Z"
   },
   {
    "duration": 12,
    "start_time": "2021-07-07T18:46:31.838Z"
   },
   {
    "duration": 39,
    "start_time": "2021-07-07T18:46:31.851Z"
   },
   {
    "duration": 24,
    "start_time": "2021-07-07T18:46:31.892Z"
   },
   {
    "duration": 15,
    "start_time": "2021-07-07T18:46:31.918Z"
   },
   {
    "duration": 7,
    "start_time": "2021-07-07T18:46:31.936Z"
   },
   {
    "duration": 8,
    "start_time": "2021-07-07T18:46:31.944Z"
   },
   {
    "duration": 19,
    "start_time": "2021-07-07T18:46:31.984Z"
   },
   {
    "duration": 10,
    "start_time": "2021-07-07T18:46:32.004Z"
   },
   {
    "duration": 5,
    "start_time": "2021-07-07T18:46:32.016Z"
   },
   {
    "duration": 9,
    "start_time": "2021-07-07T18:46:32.023Z"
   },
   {
    "duration": 199,
    "start_time": "2021-07-07T18:46:32.033Z"
   },
   {
    "duration": 19,
    "start_time": "2021-07-07T18:46:32.234Z"
   },
   {
    "duration": 159,
    "start_time": "2021-07-07T18:46:32.255Z"
   },
   {
    "duration": 134,
    "start_time": "2021-07-07T18:46:32.416Z"
   },
   {
    "duration": 10,
    "start_time": "2021-07-07T18:46:32.552Z"
   },
   {
    "duration": 34,
    "start_time": "2021-07-07T18:46:32.563Z"
   },
   {
    "duration": 1039,
    "start_time": "2021-07-08T08:41:09.419Z"
   },
   {
    "duration": 333,
    "start_time": "2021-07-08T08:41:10.459Z"
   },
   {
    "duration": 173,
    "start_time": "2021-07-08T08:41:10.794Z"
   },
   {
    "duration": 5,
    "start_time": "2021-07-08T08:41:10.968Z"
   },
   {
    "duration": 25,
    "start_time": "2021-07-08T08:41:10.975Z"
   },
   {
    "duration": 9,
    "start_time": "2021-07-08T08:41:11.002Z"
   },
   {
    "duration": 18,
    "start_time": "2021-07-08T08:41:11.013Z"
   },
   {
    "duration": 6,
    "start_time": "2021-07-08T08:41:11.033Z"
   },
   {
    "duration": 44,
    "start_time": "2021-07-08T08:41:11.042Z"
   },
   {
    "duration": 10,
    "start_time": "2021-07-08T08:41:11.088Z"
   },
   {
    "duration": 9,
    "start_time": "2021-07-08T08:41:11.100Z"
   },
   {
    "duration": 27,
    "start_time": "2021-07-08T08:41:11.111Z"
   },
   {
    "duration": 46,
    "start_time": "2021-07-08T08:41:11.140Z"
   },
   {
    "duration": 17,
    "start_time": "2021-07-08T08:41:11.187Z"
   },
   {
    "duration": 6,
    "start_time": "2021-07-08T08:41:11.206Z"
   },
   {
    "duration": 5,
    "start_time": "2021-07-08T08:41:11.213Z"
   },
   {
    "duration": 10,
    "start_time": "2021-07-08T08:41:11.219Z"
   },
   {
    "duration": 9,
    "start_time": "2021-07-08T08:41:11.230Z"
   },
   {
    "duration": 45,
    "start_time": "2021-07-08T08:41:11.241Z"
   },
   {
    "duration": 7,
    "start_time": "2021-07-08T08:41:11.287Z"
   },
   {
    "duration": 24,
    "start_time": "2021-07-08T08:41:11.296Z"
   },
   {
    "duration": 16,
    "start_time": "2021-07-08T08:41:11.322Z"
   },
   {
    "duration": 7,
    "start_time": "2021-07-08T08:41:11.341Z"
   },
   {
    "duration": 41,
    "start_time": "2021-07-08T08:41:11.349Z"
   },
   {
    "duration": 17,
    "start_time": "2021-07-08T08:41:11.391Z"
   },
   {
    "duration": 9,
    "start_time": "2021-07-08T08:41:11.410Z"
   },
   {
    "duration": 5,
    "start_time": "2021-07-08T08:41:11.421Z"
   },
   {
    "duration": 6,
    "start_time": "2021-07-08T08:41:11.428Z"
   },
   {
    "duration": 198,
    "start_time": "2021-07-08T08:41:11.435Z"
   },
   {
    "duration": 18,
    "start_time": "2021-07-08T08:41:11.635Z"
   },
   {
    "duration": 155,
    "start_time": "2021-07-08T08:41:11.655Z"
   },
   {
    "duration": 138,
    "start_time": "2021-07-08T08:41:11.811Z"
   },
   {
    "duration": 10,
    "start_time": "2021-07-08T08:41:11.950Z"
   },
   {
    "duration": 29,
    "start_time": "2021-07-08T08:41:11.961Z"
   },
   {
    "duration": 171,
    "start_time": "2021-07-08T08:47:44.522Z"
   },
   {
    "duration": 124,
    "start_time": "2021-07-08T08:47:46.872Z"
   },
   {
    "duration": 191,
    "start_time": "2021-07-08T08:47:58.148Z"
   },
   {
    "duration": 191,
    "start_time": "2021-07-08T08:48:07.412Z"
   },
   {
    "duration": 261,
    "start_time": "2021-07-08T08:48:10.385Z"
   },
   {
    "duration": 255,
    "start_time": "2021-07-08T08:48:14.494Z"
   },
   {
    "duration": 219,
    "start_time": "2021-07-08T08:48:22.752Z"
   },
   {
    "duration": 173,
    "start_time": "2021-07-08T08:49:06.395Z"
   },
   {
    "duration": 180,
    "start_time": "2021-07-08T08:49:21.011Z"
   },
   {
    "duration": 6,
    "start_time": "2021-07-08T08:50:31.697Z"
   },
   {
    "duration": 10,
    "start_time": "2021-07-08T08:50:47.394Z"
   },
   {
    "duration": 11,
    "start_time": "2021-07-08T08:53:49.332Z"
   },
   {
    "duration": 171,
    "start_time": "2021-07-08T08:54:28.408Z"
   },
   {
    "duration": 636,
    "start_time": "2021-07-08T09:02:48.385Z"
   },
   {
    "duration": 227,
    "start_time": "2021-07-08T09:02:49.023Z"
   },
   {
    "duration": 104,
    "start_time": "2021-07-08T09:02:49.252Z"
   },
   {
    "duration": 5,
    "start_time": "2021-07-08T09:02:49.358Z"
   },
   {
    "duration": 27,
    "start_time": "2021-07-08T09:02:49.365Z"
   },
   {
    "duration": 8,
    "start_time": "2021-07-08T09:02:49.394Z"
   },
   {
    "duration": 18,
    "start_time": "2021-07-08T09:02:49.404Z"
   },
   {
    "duration": 6,
    "start_time": "2021-07-08T09:02:49.424Z"
   },
   {
    "duration": 11,
    "start_time": "2021-07-08T09:02:49.433Z"
   },
   {
    "duration": 13,
    "start_time": "2021-07-08T09:02:49.485Z"
   },
   {
    "duration": 9,
    "start_time": "2021-07-08T09:02:49.500Z"
   },
   {
    "duration": 38,
    "start_time": "2021-07-08T09:02:49.511Z"
   },
   {
    "duration": 42,
    "start_time": "2021-07-08T09:02:49.551Z"
   },
   {
    "duration": 21,
    "start_time": "2021-07-08T09:02:49.594Z"
   },
   {
    "duration": 6,
    "start_time": "2021-07-08T09:02:49.616Z"
   },
   {
    "duration": 3,
    "start_time": "2021-07-08T09:02:49.623Z"
   },
   {
    "duration": 9,
    "start_time": "2021-07-08T09:02:49.628Z"
   },
   {
    "duration": 52,
    "start_time": "2021-07-08T09:02:49.638Z"
   },
   {
    "duration": 11,
    "start_time": "2021-07-08T09:02:49.692Z"
   },
   {
    "duration": 8,
    "start_time": "2021-07-08T09:02:49.704Z"
   },
   {
    "duration": 27,
    "start_time": "2021-07-08T09:02:49.713Z"
   },
   {
    "duration": 59,
    "start_time": "2021-07-08T09:02:49.741Z"
   },
   {
    "duration": 8,
    "start_time": "2021-07-08T09:02:49.803Z"
   },
   {
    "duration": 14,
    "start_time": "2021-07-08T09:02:49.813Z"
   },
   {
    "duration": 20,
    "start_time": "2021-07-08T09:02:49.829Z"
   },
   {
    "duration": 44,
    "start_time": "2021-07-08T09:02:49.851Z"
   },
   {
    "duration": 14,
    "start_time": "2021-07-08T09:02:49.896Z"
   },
   {
    "duration": 221,
    "start_time": "2021-07-08T09:02:49.912Z"
   },
   {
    "duration": 6,
    "start_time": "2021-07-08T09:02:50.134Z"
   },
   {
    "duration": 206,
    "start_time": "2021-07-08T09:02:50.142Z"
   },
   {
    "duration": 19,
    "start_time": "2021-07-08T09:02:50.350Z"
   },
   {
    "duration": 21,
    "start_time": "2021-07-08T09:02:50.370Z"
   },
   {
    "duration": 20,
    "start_time": "2021-07-08T09:02:50.393Z"
   },
   {
    "duration": 5,
    "start_time": "2021-07-08T09:02:50.414Z"
   },
   {
    "duration": 5,
    "start_time": "2021-07-08T09:03:34.173Z"
   },
   {
    "duration": 6,
    "start_time": "2021-07-08T09:04:49.062Z"
   },
   {
    "duration": 9,
    "start_time": "2021-07-08T09:04:50.118Z"
   },
   {
    "duration": 14,
    "start_time": "2021-07-08T09:04:58.512Z"
   },
   {
    "duration": 9,
    "start_time": "2021-07-08T09:05:10.988Z"
   },
   {
    "duration": 11,
    "start_time": "2021-07-08T09:05:11.743Z"
   },
   {
    "duration": 7,
    "start_time": "2021-07-08T09:05:25.677Z"
   },
   {
    "duration": 13,
    "start_time": "2021-07-08T09:05:47.189Z"
   },
   {
    "duration": 13,
    "start_time": "2021-07-08T09:05:54.755Z"
   },
   {
    "duration": 4,
    "start_time": "2021-07-08T09:06:29.189Z"
   },
   {
    "duration": 244,
    "start_time": "2021-07-08T09:06:29.195Z"
   },
   {
    "duration": 91,
    "start_time": "2021-07-08T09:06:29.441Z"
   },
   {
    "duration": 4,
    "start_time": "2021-07-08T09:06:29.534Z"
   },
   {
    "duration": 28,
    "start_time": "2021-07-08T09:06:29.540Z"
   },
   {
    "duration": 6,
    "start_time": "2021-07-08T09:06:29.570Z"
   },
   {
    "duration": 18,
    "start_time": "2021-07-08T09:06:29.578Z"
   },
   {
    "duration": 5,
    "start_time": "2021-07-08T09:06:29.597Z"
   },
   {
    "duration": 13,
    "start_time": "2021-07-08T09:06:29.605Z"
   },
   {
    "duration": 8,
    "start_time": "2021-07-08T09:06:29.620Z"
   },
   {
    "duration": 7,
    "start_time": "2021-07-08T09:06:29.630Z"
   },
   {
    "duration": 63,
    "start_time": "2021-07-08T09:06:29.639Z"
   },
   {
    "duration": 17,
    "start_time": "2021-07-08T09:06:29.704Z"
   },
   {
    "duration": 20,
    "start_time": "2021-07-08T09:06:29.723Z"
   },
   {
    "duration": 6,
    "start_time": "2021-07-08T09:06:29.745Z"
   },
   {
    "duration": 3,
    "start_time": "2021-07-08T09:06:29.752Z"
   },
   {
    "duration": 7,
    "start_time": "2021-07-08T09:06:29.785Z"
   },
   {
    "duration": 11,
    "start_time": "2021-07-08T09:06:29.794Z"
   },
   {
    "duration": 15,
    "start_time": "2021-07-08T09:06:29.807Z"
   },
   {
    "duration": 8,
    "start_time": "2021-07-08T09:06:29.823Z"
   },
   {
    "duration": 70,
    "start_time": "2021-07-08T09:06:29.832Z"
   },
   {
    "duration": 17,
    "start_time": "2021-07-08T09:06:29.903Z"
   },
   {
    "duration": 9,
    "start_time": "2021-07-08T09:06:29.921Z"
   },
   {
    "duration": 9,
    "start_time": "2021-07-08T09:06:29.932Z"
   },
   {
    "duration": 57,
    "start_time": "2021-07-08T09:06:29.942Z"
   },
   {
    "duration": 11,
    "start_time": "2021-07-08T09:06:30.001Z"
   },
   {
    "duration": 19,
    "start_time": "2021-07-08T09:06:30.016Z"
   },
   {
    "duration": 217,
    "start_time": "2021-07-08T09:06:30.037Z"
   },
   {
    "duration": 6,
    "start_time": "2021-07-08T09:06:30.255Z"
   },
   {
    "duration": 205,
    "start_time": "2021-07-08T09:06:30.263Z"
   },
   {
    "duration": 27,
    "start_time": "2021-07-08T09:06:30.470Z"
   },
   {
    "duration": 11,
    "start_time": "2021-07-08T09:06:30.500Z"
   },
   {
    "duration": 31,
    "start_time": "2021-07-08T09:06:30.513Z"
   },
   {
    "duration": 18,
    "start_time": "2021-07-08T09:06:30.546Z"
   },
   {
    "duration": 11,
    "start_time": "2021-07-08T09:06:30.566Z"
   },
   {
    "duration": 19,
    "start_time": "2021-07-08T09:06:30.579Z"
   },
   {
    "duration": 20,
    "start_time": "2021-07-08T09:06:49.466Z"
   },
   {
    "duration": 9,
    "start_time": "2021-07-08T09:06:51.994Z"
   },
   {
    "duration": 20,
    "start_time": "2021-07-08T09:06:52.273Z"
   },
   {
    "duration": 246,
    "start_time": "2021-07-08T09:10:21.272Z"
   },
   {
    "duration": 84,
    "start_time": "2021-07-08T09:10:21.436Z"
   },
   {
    "duration": 7,
    "start_time": "2021-07-08T09:10:37.608Z"
   },
   {
    "duration": 189,
    "start_time": "2021-07-08T09:10:38.573Z"
   },
   {
    "duration": 185,
    "start_time": "2021-07-08T09:10:53.181Z"
   },
   {
    "duration": 11,
    "start_time": "2021-07-08T09:10:59.549Z"
   },
   {
    "duration": 42,
    "start_time": "2021-07-08T09:10:59.709Z"
   },
   {
    "duration": 12,
    "start_time": "2021-07-08T09:11:02.857Z"
   },
   {
    "duration": 28,
    "start_time": "2021-07-08T09:11:10.062Z"
   },
   {
    "duration": 249,
    "start_time": "2021-07-08T09:11:37.388Z"
   },
   {
    "duration": 232,
    "start_time": "2021-07-08T09:11:49.485Z"
   },
   {
    "duration": 453,
    "start_time": "2021-07-08T09:12:01.546Z"
   },
   {
    "duration": 440,
    "start_time": "2021-07-08T09:12:12.347Z"
   },
   {
    "duration": 213,
    "start_time": "2021-07-08T09:13:32.196Z"
   },
   {
    "duration": 172,
    "start_time": "2021-07-08T09:14:07.400Z"
   },
   {
    "duration": 185,
    "start_time": "2021-07-08T09:14:14.905Z"
   },
   {
    "duration": 209,
    "start_time": "2021-07-08T09:14:40.109Z"
   },
   {
    "duration": 201,
    "start_time": "2021-07-08T09:14:54.506Z"
   },
   {
    "duration": 622,
    "start_time": "2021-07-08T09:18:14.497Z"
   },
   {
    "duration": 220,
    "start_time": "2021-07-08T09:18:15.121Z"
   },
   {
    "duration": 79,
    "start_time": "2021-07-08T09:18:15.343Z"
   },
   {
    "duration": 4,
    "start_time": "2021-07-08T09:18:15.425Z"
   },
   {
    "duration": 24,
    "start_time": "2021-07-08T09:18:15.431Z"
   },
   {
    "duration": 8,
    "start_time": "2021-07-08T09:18:15.457Z"
   },
   {
    "duration": 16,
    "start_time": "2021-07-08T09:18:15.466Z"
   },
   {
    "duration": 5,
    "start_time": "2021-07-08T09:18:15.484Z"
   },
   {
    "duration": 10,
    "start_time": "2021-07-08T09:18:15.493Z"
   },
   {
    "duration": 8,
    "start_time": "2021-07-08T09:18:15.504Z"
   },
   {
    "duration": 7,
    "start_time": "2021-07-08T09:18:15.513Z"
   },
   {
    "duration": 26,
    "start_time": "2021-07-08T09:18:15.522Z"
   },
   {
    "duration": 49,
    "start_time": "2021-07-08T09:18:15.550Z"
   },
   {
    "duration": 21,
    "start_time": "2021-07-08T09:18:15.601Z"
   },
   {
    "duration": 8,
    "start_time": "2021-07-08T09:18:15.624Z"
   },
   {
    "duration": 3,
    "start_time": "2021-07-08T09:18:15.634Z"
   },
   {
    "duration": 8,
    "start_time": "2021-07-08T09:18:15.639Z"
   },
   {
    "duration": 45,
    "start_time": "2021-07-08T09:18:15.649Z"
   },
   {
    "duration": 13,
    "start_time": "2021-07-08T09:18:15.696Z"
   },
   {
    "duration": 10,
    "start_time": "2021-07-08T09:18:15.711Z"
   },
   {
    "duration": 64,
    "start_time": "2021-07-08T09:18:15.722Z"
   },
   {
    "duration": 19,
    "start_time": "2021-07-08T09:18:15.788Z"
   },
   {
    "duration": 9,
    "start_time": "2021-07-08T09:18:15.809Z"
   },
   {
    "duration": 9,
    "start_time": "2021-07-08T09:18:15.820Z"
   },
   {
    "duration": 18,
    "start_time": "2021-07-08T09:18:15.831Z"
   },
   {
    "duration": 43,
    "start_time": "2021-07-08T09:18:15.851Z"
   },
   {
    "duration": 12,
    "start_time": "2021-07-08T09:18:15.897Z"
   },
   {
    "duration": 219,
    "start_time": "2021-07-08T09:18:15.911Z"
   },
   {
    "duration": 8,
    "start_time": "2021-07-08T09:18:16.132Z"
   },
   {
    "duration": 199,
    "start_time": "2021-07-08T09:18:16.141Z"
   },
   {
    "duration": 18,
    "start_time": "2021-07-08T09:18:16.341Z"
   },
   {
    "duration": 24,
    "start_time": "2021-07-08T09:18:16.361Z"
   },
   {
    "duration": 24,
    "start_time": "2021-07-08T09:18:16.387Z"
   },
   {
    "duration": 211,
    "start_time": "2021-07-08T09:18:16.413Z"
   },
   {
    "duration": 18,
    "start_time": "2021-07-08T09:18:16.626Z"
   },
   {
    "duration": 596,
    "start_time": "2021-07-08T10:06:33.623Z"
   },
   {
    "duration": 181,
    "start_time": "2021-07-08T10:06:34.221Z"
   },
   {
    "duration": 176,
    "start_time": "2021-07-08T10:06:34.635Z"
   },
   {
    "duration": 239,
    "start_time": "2021-07-08T10:06:55.572Z"
   },
   {
    "duration": 6,
    "start_time": "2021-07-08T10:06:57.687Z"
   },
   {
    "duration": 4,
    "start_time": "2021-07-08T10:07:03.956Z"
   },
   {
    "duration": 4,
    "start_time": "2021-07-08T10:07:10.376Z"
   },
   {
    "duration": 4,
    "start_time": "2021-07-08T10:17:19.889Z"
   },
   {
    "duration": 3,
    "start_time": "2021-07-08T10:19:19.407Z"
   },
   {
    "duration": 197,
    "start_time": "2021-07-08T10:19:19.412Z"
   },
   {
    "duration": 127,
    "start_time": "2021-07-08T10:19:19.611Z"
   },
   {
    "duration": 4,
    "start_time": "2021-07-08T10:19:19.740Z"
   },
   {
    "duration": 27,
    "start_time": "2021-07-08T10:19:19.746Z"
   },
   {
    "duration": 7,
    "start_time": "2021-07-08T10:19:19.775Z"
   },
   {
    "duration": 30,
    "start_time": "2021-07-08T10:19:19.784Z"
   },
   {
    "duration": 7,
    "start_time": "2021-07-08T10:19:19.817Z"
   },
   {
    "duration": 26,
    "start_time": "2021-07-08T10:19:19.826Z"
   },
   {
    "duration": 18,
    "start_time": "2021-07-08T10:19:19.854Z"
   },
   {
    "duration": 14,
    "start_time": "2021-07-08T10:19:19.874Z"
   },
   {
    "duration": 48,
    "start_time": "2021-07-08T10:19:19.890Z"
   },
   {
    "duration": 17,
    "start_time": "2021-07-08T10:19:19.940Z"
   },
   {
    "duration": 38,
    "start_time": "2021-07-08T10:19:19.959Z"
   },
   {
    "duration": 8,
    "start_time": "2021-07-08T10:19:19.999Z"
   },
   {
    "duration": 15,
    "start_time": "2021-07-08T10:19:20.009Z"
   },
   {
    "duration": 22,
    "start_time": "2021-07-08T10:19:20.026Z"
   },
   {
    "duration": 10,
    "start_time": "2021-07-08T10:19:20.050Z"
   },
   {
    "duration": 10,
    "start_time": "2021-07-08T10:19:20.062Z"
   },
   {
    "duration": 20,
    "start_time": "2021-07-08T10:19:20.073Z"
   },
   {
    "duration": 29,
    "start_time": "2021-07-08T10:19:20.095Z"
   },
   {
    "duration": 17,
    "start_time": "2021-07-08T10:19:20.126Z"
   },
   {
    "duration": 40,
    "start_time": "2021-07-08T10:19:20.146Z"
   },
   {
    "duration": 15,
    "start_time": "2021-07-08T10:19:20.189Z"
   },
   {
    "duration": 19,
    "start_time": "2021-07-08T10:19:20.206Z"
   },
   {
    "duration": 10,
    "start_time": "2021-07-08T10:19:20.226Z"
   },
   {
    "duration": 11,
    "start_time": "2021-07-08T10:19:20.238Z"
   },
   {
    "duration": 297,
    "start_time": "2021-07-08T10:19:20.250Z"
   },
   {
    "duration": 6,
    "start_time": "2021-07-08T10:19:20.549Z"
   },
   {
    "duration": 191,
    "start_time": "2021-07-08T10:19:20.557Z"
   },
   {
    "duration": 19,
    "start_time": "2021-07-08T10:19:20.750Z"
   },
   {
    "duration": 20,
    "start_time": "2021-07-08T10:19:20.771Z"
   },
   {
    "duration": 15,
    "start_time": "2021-07-08T10:19:20.793Z"
   },
   {
    "duration": 222,
    "start_time": "2021-07-08T10:19:20.809Z"
   },
   {
    "duration": 20,
    "start_time": "2021-07-08T10:19:21.033Z"
   },
   {
    "duration": 27,
    "start_time": "2021-07-08T10:45:04.055Z"
   },
   {
    "duration": 8,
    "start_time": "2021-07-08T10:45:08.478Z"
   },
   {
    "duration": 8,
    "start_time": "2021-07-08T10:45:31.982Z"
   },
   {
    "duration": 10,
    "start_time": "2021-07-08T10:46:01.221Z"
   },
   {
    "duration": 17,
    "start_time": "2021-07-08T10:46:40.011Z"
   },
   {
    "duration": 193,
    "start_time": "2021-07-08T10:48:19.471Z"
   },
   {
    "duration": 225,
    "start_time": "2021-07-08T10:49:26.480Z"
   },
   {
    "duration": 204,
    "start_time": "2021-07-08T10:49:59.992Z"
   },
   {
    "duration": 435,
    "start_time": "2021-07-08T10:50:06.779Z"
   },
   {
    "duration": 199,
    "start_time": "2021-07-08T10:50:14.891Z"
   },
   {
    "duration": 204,
    "start_time": "2021-07-08T10:50:18.501Z"
   },
   {
    "duration": 244,
    "start_time": "2021-07-08T10:50:23.359Z"
   },
   {
    "duration": 192,
    "start_time": "2021-07-08T10:50:29.135Z"
   },
   {
    "duration": 218,
    "start_time": "2021-07-08T10:50:33.092Z"
   },
   {
    "duration": 207,
    "start_time": "2021-07-08T10:52:45.381Z"
   },
   {
    "duration": 5,
    "start_time": "2021-07-08T10:53:34.641Z"
   },
   {
    "duration": 196,
    "start_time": "2021-07-08T10:53:41.478Z"
   },
   {
    "duration": 43,
    "start_time": "2021-07-08T10:53:50.335Z"
   },
   {
    "duration": 32,
    "start_time": "2021-07-08T10:53:55.294Z"
   },
   {
    "duration": 55,
    "start_time": "2021-07-08T10:54:09.675Z"
   },
   {
    "duration": 16,
    "start_time": "2021-07-08T10:54:12.260Z"
   },
   {
    "duration": 15,
    "start_time": "2021-07-08T10:54:49.150Z"
   },
   {
    "duration": 20,
    "start_time": "2021-07-08T10:56:07.596Z"
   },
   {
    "duration": 16,
    "start_time": "2021-07-08T10:58:26.276Z"
   },
   {
    "duration": 22,
    "start_time": "2021-07-08T10:59:00.486Z"
   },
   {
    "duration": 18,
    "start_time": "2021-07-08T11:02:09.653Z"
   },
   {
    "duration": 10,
    "start_time": "2021-07-08T11:03:44.331Z"
   },
   {
    "duration": 10,
    "start_time": "2021-07-08T11:03:54.055Z"
   },
   {
    "duration": 12,
    "start_time": "2021-07-08T11:04:41.967Z"
   },
   {
    "duration": 24,
    "start_time": "2021-07-08T11:07:30.732Z"
   },
   {
    "duration": 6,
    "start_time": "2021-07-08T11:07:37.364Z"
   },
   {
    "duration": 16,
    "start_time": "2021-07-08T11:08:01.819Z"
   },
   {
    "duration": 17,
    "start_time": "2021-07-08T11:09:47.488Z"
   },
   {
    "duration": 246,
    "start_time": "2021-07-08T11:10:00.830Z"
   },
   {
    "duration": 18,
    "start_time": "2021-07-08T11:13:55.195Z"
   },
   {
    "duration": 204,
    "start_time": "2021-07-08T11:14:04.951Z"
   },
   {
    "duration": 19,
    "start_time": "2021-07-08T11:15:10.613Z"
   },
   {
    "duration": 680,
    "start_time": "2021-07-08T11:16:25.793Z"
   },
   {
    "duration": 451,
    "start_time": "2021-07-08T11:16:40.313Z"
   },
   {
    "duration": 469,
    "start_time": "2021-07-08T11:17:21.286Z"
   },
   {
    "duration": 20,
    "start_time": "2021-07-08T11:19:12.554Z"
   },
   {
    "duration": 35,
    "start_time": "2021-07-08T11:20:05.484Z"
   },
   {
    "duration": 53,
    "start_time": "2021-07-08T11:21:40.050Z"
   },
   {
    "duration": 13,
    "start_time": "2021-07-08T11:22:26.059Z"
   },
   {
    "duration": 19,
    "start_time": "2021-07-08T11:22:47.419Z"
   },
   {
    "duration": 25,
    "start_time": "2021-07-08T11:23:19.958Z"
   },
   {
    "duration": 29,
    "start_time": "2021-07-08T11:23:25.415Z"
   },
   {
    "duration": 10,
    "start_time": "2021-07-08T11:24:45.138Z"
   },
   {
    "duration": 19,
    "start_time": "2021-07-08T11:24:54.498Z"
   },
   {
    "duration": 12,
    "start_time": "2021-07-08T11:25:32.225Z"
   },
   {
    "duration": 19,
    "start_time": "2021-07-08T11:25:37.092Z"
   },
   {
    "duration": 17,
    "start_time": "2021-07-08T11:25:58.116Z"
   },
   {
    "duration": 15,
    "start_time": "2021-07-08T11:26:02.258Z"
   },
   {
    "duration": 8,
    "start_time": "2021-07-08T11:26:59.682Z"
   },
   {
    "duration": 184,
    "start_time": "2021-07-08T11:27:21.894Z"
   },
   {
    "duration": 8,
    "start_time": "2021-07-08T11:27:23.824Z"
   },
   {
    "duration": 202,
    "start_time": "2021-07-08T11:27:23.962Z"
   },
   {
    "duration": 360,
    "start_time": "2021-07-08T11:28:33.215Z"
   },
   {
    "duration": 231,
    "start_time": "2021-07-08T11:32:05.542Z"
   },
   {
    "duration": 607,
    "start_time": "2021-07-08T11:36:27.854Z"
   },
   {
    "duration": 241,
    "start_time": "2021-07-08T11:36:28.463Z"
   },
   {
    "duration": 67,
    "start_time": "2021-07-08T11:36:28.709Z"
   },
   {
    "duration": 5,
    "start_time": "2021-07-08T11:36:28.778Z"
   },
   {
    "duration": 32,
    "start_time": "2021-07-08T11:36:28.784Z"
   },
   {
    "duration": 11,
    "start_time": "2021-07-08T11:36:28.819Z"
   },
   {
    "duration": 20,
    "start_time": "2021-07-08T11:36:28.834Z"
   },
   {
    "duration": 36,
    "start_time": "2021-07-08T11:36:28.857Z"
   },
   {
    "duration": 16,
    "start_time": "2021-07-08T11:36:28.895Z"
   },
   {
    "duration": 14,
    "start_time": "2021-07-08T11:36:28.913Z"
   },
   {
    "duration": 9,
    "start_time": "2021-07-08T11:36:28.930Z"
   },
   {
    "duration": 55,
    "start_time": "2021-07-08T11:36:28.941Z"
   },
   {
    "duration": 27,
    "start_time": "2021-07-08T11:36:28.999Z"
   },
   {
    "duration": 30,
    "start_time": "2021-07-08T11:36:29.028Z"
   },
   {
    "duration": 31,
    "start_time": "2021-07-08T11:36:29.060Z"
   },
   {
    "duration": 3,
    "start_time": "2021-07-08T11:36:29.093Z"
   },
   {
    "duration": 12,
    "start_time": "2021-07-08T11:36:29.099Z"
   },
   {
    "duration": 11,
    "start_time": "2021-07-08T11:36:29.112Z"
   },
   {
    "duration": 12,
    "start_time": "2021-07-08T11:36:29.125Z"
   },
   {
    "duration": 9,
    "start_time": "2021-07-08T11:36:29.139Z"
   },
   {
    "duration": 31,
    "start_time": "2021-07-08T11:36:29.191Z"
   },
   {
    "duration": 17,
    "start_time": "2021-07-08T11:36:29.226Z"
   },
   {
    "duration": 7,
    "start_time": "2021-07-08T11:36:29.245Z"
   },
   {
    "duration": 10,
    "start_time": "2021-07-08T11:36:29.254Z"
   },
   {
    "duration": 30,
    "start_time": "2021-07-08T11:36:29.292Z"
   },
   {
    "duration": 11,
    "start_time": "2021-07-08T11:36:29.324Z"
   },
   {
    "duration": 11,
    "start_time": "2021-07-08T11:36:29.337Z"
   },
   {
    "duration": 230,
    "start_time": "2021-07-08T11:36:29.349Z"
   },
   {
    "duration": 13,
    "start_time": "2021-07-08T11:36:29.588Z"
   },
   {
    "duration": 205,
    "start_time": "2021-07-08T11:36:29.603Z"
   },
   {
    "duration": 20,
    "start_time": "2021-07-08T11:36:29.810Z"
   },
   {
    "duration": 9,
    "start_time": "2021-07-08T11:36:29.832Z"
   },
   {
    "duration": 16,
    "start_time": "2021-07-08T11:36:29.843Z"
   },
   {
    "duration": 283,
    "start_time": "2021-07-08T11:36:29.861Z"
   },
   {
    "duration": 50,
    "start_time": "2021-07-08T11:36:30.146Z"
   },
   {
    "duration": 14,
    "start_time": "2021-07-08T11:36:30.198Z"
   },
   {
    "duration": 11,
    "start_time": "2021-07-08T11:36:30.214Z"
   },
   {
    "duration": 245,
    "start_time": "2021-07-08T11:36:30.227Z"
   },
   {
    "duration": 439,
    "start_time": "2021-07-08T11:36:30.474Z"
   },
   {
    "duration": 210,
    "start_time": "2021-07-08T11:36:30.915Z"
   },
   {
    "duration": 15,
    "start_time": "2021-07-08T11:36:31.127Z"
   },
   {
    "duration": 17,
    "start_time": "2021-07-08T11:38:20.451Z"
   },
   {
    "duration": 642,
    "start_time": "2021-07-08T11:46:17.881Z"
   },
   {
    "duration": 210,
    "start_time": "2021-07-08T11:46:18.525Z"
   },
   {
    "duration": 104,
    "start_time": "2021-07-08T11:46:18.741Z"
   },
   {
    "duration": 8,
    "start_time": "2021-07-08T11:46:18.847Z"
   },
   {
    "duration": 25,
    "start_time": "2021-07-08T11:46:18.857Z"
   },
   {
    "duration": 14,
    "start_time": "2021-07-08T11:46:18.884Z"
   },
   {
    "duration": 22,
    "start_time": "2021-07-08T11:46:18.900Z"
   },
   {
    "duration": 5,
    "start_time": "2021-07-08T11:46:18.924Z"
   },
   {
    "duration": 13,
    "start_time": "2021-07-08T11:46:18.931Z"
   },
   {
    "duration": 45,
    "start_time": "2021-07-08T11:46:18.946Z"
   },
   {
    "duration": 12,
    "start_time": "2021-07-08T11:46:18.993Z"
   },
   {
    "duration": 38,
    "start_time": "2021-07-08T11:46:19.006Z"
   },
   {
    "duration": 50,
    "start_time": "2021-07-08T11:46:19.046Z"
   },
   {
    "duration": 29,
    "start_time": "2021-07-08T11:46:19.099Z"
   },
   {
    "duration": 7,
    "start_time": "2021-07-08T11:46:19.130Z"
   },
   {
    "duration": 3,
    "start_time": "2021-07-08T11:46:19.139Z"
   },
   {
    "duration": 11,
    "start_time": "2021-07-08T11:46:19.144Z"
   },
   {
    "duration": 40,
    "start_time": "2021-07-08T11:46:19.157Z"
   },
   {
    "duration": 15,
    "start_time": "2021-07-08T11:46:19.199Z"
   },
   {
    "duration": 10,
    "start_time": "2021-07-08T11:46:19.217Z"
   },
   {
    "duration": 68,
    "start_time": "2021-07-08T11:46:19.230Z"
   },
   {
    "duration": 17,
    "start_time": "2021-07-08T11:46:19.301Z"
   },
   {
    "duration": 7,
    "start_time": "2021-07-08T11:46:19.321Z"
   },
   {
    "duration": 11,
    "start_time": "2021-07-08T11:46:19.330Z"
   },
   {
    "duration": 59,
    "start_time": "2021-07-08T11:46:19.343Z"
   },
   {
    "duration": 17,
    "start_time": "2021-07-08T11:46:19.405Z"
   },
   {
    "duration": 16,
    "start_time": "2021-07-08T11:46:19.424Z"
   },
   {
    "duration": 252,
    "start_time": "2021-07-08T11:46:19.443Z"
   },
   {
    "duration": 9,
    "start_time": "2021-07-08T11:46:19.697Z"
   },
   {
    "duration": 224,
    "start_time": "2021-07-08T11:46:19.708Z"
   },
   {
    "duration": 21,
    "start_time": "2021-07-08T11:46:19.934Z"
   },
   {
    "duration": 9,
    "start_time": "2021-07-08T11:46:19.956Z"
   },
   {
    "duration": 32,
    "start_time": "2021-07-08T11:46:19.967Z"
   },
   {
    "duration": 288,
    "start_time": "2021-07-08T11:46:20.004Z"
   },
   {
    "duration": 23,
    "start_time": "2021-07-08T11:46:20.300Z"
   },
   {
    "duration": 11,
    "start_time": "2021-07-08T11:46:20.325Z"
   },
   {
    "duration": 11,
    "start_time": "2021-07-08T11:46:20.339Z"
   },
   {
    "duration": 259,
    "start_time": "2021-07-08T11:46:20.352Z"
   },
   {
    "duration": 438,
    "start_time": "2021-07-08T11:46:20.613Z"
   },
   {
    "duration": 207,
    "start_time": "2021-07-08T11:46:21.054Z"
   },
   {
    "duration": 27,
    "start_time": "2021-07-08T11:46:21.262Z"
   },
   {
    "duration": 19,
    "start_time": "2021-07-08T11:46:21.291Z"
   },
   {
    "duration": 820,
    "start_time": "2021-07-08T11:49:01.655Z"
   },
   {
    "duration": 372,
    "start_time": "2021-07-08T11:49:02.478Z"
   },
   {
    "duration": 98,
    "start_time": "2021-07-08T11:49:02.853Z"
   },
   {
    "duration": 6,
    "start_time": "2021-07-08T11:49:02.953Z"
   },
   {
    "duration": 39,
    "start_time": "2021-07-08T11:49:02.960Z"
   },
   {
    "duration": 9,
    "start_time": "2021-07-08T11:49:03.003Z"
   },
   {
    "duration": 23,
    "start_time": "2021-07-08T11:49:03.014Z"
   },
   {
    "duration": 6,
    "start_time": "2021-07-08T11:49:03.041Z"
   },
   {
    "duration": 20,
    "start_time": "2021-07-08T11:49:03.049Z"
   },
   {
    "duration": 18,
    "start_time": "2021-07-08T11:49:03.084Z"
   },
   {
    "duration": 14,
    "start_time": "2021-07-08T11:49:03.104Z"
   },
   {
    "duration": 39,
    "start_time": "2021-07-08T11:49:03.119Z"
   },
   {
    "duration": 38,
    "start_time": "2021-07-08T11:49:03.160Z"
   },
   {
    "duration": 26,
    "start_time": "2021-07-08T11:49:03.200Z"
   },
   {
    "duration": 7,
    "start_time": "2021-07-08T11:49:03.227Z"
   },
   {
    "duration": 4,
    "start_time": "2021-07-08T11:49:03.236Z"
   },
   {
    "duration": 15,
    "start_time": "2021-07-08T11:49:03.243Z"
   },
   {
    "duration": 21,
    "start_time": "2021-07-08T11:49:03.285Z"
   },
   {
    "duration": 17,
    "start_time": "2021-07-08T11:49:03.309Z"
   },
   {
    "duration": 10,
    "start_time": "2021-07-08T11:49:03.328Z"
   },
   {
    "duration": 65,
    "start_time": "2021-07-08T11:49:03.340Z"
   },
   {
    "duration": 18,
    "start_time": "2021-07-08T11:49:03.407Z"
   },
   {
    "duration": 8,
    "start_time": "2021-07-08T11:49:03.428Z"
   },
   {
    "duration": 15,
    "start_time": "2021-07-08T11:49:03.438Z"
   },
   {
    "duration": 40,
    "start_time": "2021-07-08T11:49:03.455Z"
   },
   {
    "duration": 12,
    "start_time": "2021-07-08T11:49:03.497Z"
   },
   {
    "duration": 29,
    "start_time": "2021-07-08T11:49:03.511Z"
   },
   {
    "duration": 285,
    "start_time": "2021-07-08T11:49:03.542Z"
   },
   {
    "duration": 8,
    "start_time": "2021-07-08T11:49:03.829Z"
   },
   {
    "duration": 227,
    "start_time": "2021-07-08T11:49:03.838Z"
   },
   {
    "duration": 40,
    "start_time": "2021-07-08T11:49:04.066Z"
   },
   {
    "duration": 10,
    "start_time": "2021-07-08T11:49:04.108Z"
   },
   {
    "duration": 26,
    "start_time": "2021-07-08T11:49:04.121Z"
   },
   {
    "duration": 290,
    "start_time": "2021-07-08T11:49:04.149Z"
   },
   {
    "duration": 26,
    "start_time": "2021-07-08T11:49:04.441Z"
   },
   {
    "duration": 31,
    "start_time": "2021-07-08T11:49:04.470Z"
   },
   {
    "duration": 14,
    "start_time": "2021-07-08T11:49:04.503Z"
   },
   {
    "duration": 259,
    "start_time": "2021-07-08T11:49:04.521Z"
   },
   {
    "duration": 480,
    "start_time": "2021-07-08T11:49:04.782Z"
   },
   {
    "duration": 225,
    "start_time": "2021-07-08T11:49:05.264Z"
   },
   {
    "duration": 22,
    "start_time": "2021-07-08T11:49:05.491Z"
   },
   {
    "duration": 24,
    "start_time": "2021-07-08T11:49:05.515Z"
   },
   {
    "duration": 634,
    "start_time": "2021-07-08T11:52:24.960Z"
   },
   {
    "duration": 199,
    "start_time": "2021-07-08T11:52:25.599Z"
   },
   {
    "duration": 106,
    "start_time": "2021-07-08T11:52:25.803Z"
   },
   {
    "duration": 7,
    "start_time": "2021-07-08T11:52:25.911Z"
   },
   {
    "duration": 29,
    "start_time": "2021-07-08T11:52:25.920Z"
   },
   {
    "duration": 7,
    "start_time": "2021-07-08T11:52:25.951Z"
   },
   {
    "duration": 26,
    "start_time": "2021-07-08T11:52:25.961Z"
   },
   {
    "duration": 11,
    "start_time": "2021-07-08T11:52:25.990Z"
   },
   {
    "duration": 29,
    "start_time": "2021-07-08T11:52:26.005Z"
   },
   {
    "duration": 9,
    "start_time": "2021-07-08T11:52:26.036Z"
   },
   {
    "duration": 8,
    "start_time": "2021-07-08T11:52:26.047Z"
   },
   {
    "duration": 63,
    "start_time": "2021-07-08T11:52:26.057Z"
   },
   {
    "duration": 17,
    "start_time": "2021-07-08T11:52:26.122Z"
   },
   {
    "duration": 43,
    "start_time": "2021-07-08T11:52:26.142Z"
   },
   {
    "duration": 17,
    "start_time": "2021-07-08T11:52:26.187Z"
   },
   {
    "duration": 5,
    "start_time": "2021-07-08T11:52:26.206Z"
   },
   {
    "duration": 12,
    "start_time": "2021-07-08T11:52:26.212Z"
   },
   {
    "duration": 11,
    "start_time": "2021-07-08T11:52:26.226Z"
   },
   {
    "duration": 12,
    "start_time": "2021-07-08T11:52:26.238Z"
   },
   {
    "duration": 38,
    "start_time": "2021-07-08T11:52:26.252Z"
   },
   {
    "duration": 40,
    "start_time": "2021-07-08T11:52:26.292Z"
   },
   {
    "duration": 17,
    "start_time": "2021-07-08T11:52:26.336Z"
   },
   {
    "duration": 39,
    "start_time": "2021-07-08T11:52:26.355Z"
   },
   {
    "duration": 11,
    "start_time": "2021-07-08T11:52:26.395Z"
   },
   {
    "duration": 23,
    "start_time": "2021-07-08T11:52:26.408Z"
   },
   {
    "duration": 12,
    "start_time": "2021-07-08T11:52:26.432Z"
   },
   {
    "duration": 41,
    "start_time": "2021-07-08T11:52:26.446Z"
   },
   {
    "duration": 215,
    "start_time": "2021-07-08T11:52:26.493Z"
   },
   {
    "duration": 8,
    "start_time": "2021-07-08T11:52:26.710Z"
   },
   {
    "duration": 228,
    "start_time": "2021-07-08T11:52:26.720Z"
   },
   {
    "duration": 18,
    "start_time": "2021-07-08T11:52:26.950Z"
   },
   {
    "duration": 35,
    "start_time": "2021-07-08T11:52:26.969Z"
   },
   {
    "duration": 23,
    "start_time": "2021-07-08T11:52:27.006Z"
   },
   {
    "duration": 258,
    "start_time": "2021-07-08T11:52:27.030Z"
   },
   {
    "duration": 24,
    "start_time": "2021-07-08T11:52:27.290Z"
   },
   {
    "duration": 12,
    "start_time": "2021-07-08T11:52:27.316Z"
   },
   {
    "duration": 10,
    "start_time": "2021-07-08T11:52:27.329Z"
   },
   {
    "duration": 298,
    "start_time": "2021-07-08T11:52:27.341Z"
   },
   {
    "duration": 436,
    "start_time": "2021-07-08T11:52:27.641Z"
   },
   {
    "duration": 216,
    "start_time": "2021-07-08T11:52:28.079Z"
   },
   {
    "duration": 20,
    "start_time": "2021-07-08T11:52:28.297Z"
   },
   {
    "duration": 17,
    "start_time": "2021-07-08T11:52:28.319Z"
   },
   {
    "duration": 962,
    "start_time": "2024-03-13T14:45:45.113Z"
   },
   {
    "duration": 129,
    "start_time": "2024-03-13T14:46:10.323Z"
   },
   {
    "duration": 132,
    "start_time": "2024-03-13T14:46:31.366Z"
   },
   {
    "duration": 133,
    "start_time": "2024-03-13T14:46:49.159Z"
   },
   {
    "duration": 141,
    "start_time": "2024-03-13T14:46:55.402Z"
   },
   {
    "duration": 140,
    "start_time": "2024-03-13T14:47:06.010Z"
   },
   {
    "duration": 21,
    "start_time": "2024-03-13T14:47:43.603Z"
   },
   {
    "duration": 20,
    "start_time": "2024-03-13T14:48:32.922Z"
   },
   {
    "duration": 30,
    "start_time": "2024-03-13T15:22:28.507Z"
   },
   {
    "duration": 4,
    "start_time": "2024-03-13T15:24:37.104Z"
   },
   {
    "duration": 5,
    "start_time": "2024-03-13T15:24:57.148Z"
   },
   {
    "duration": 16,
    "start_time": "2024-03-13T15:25:06.625Z"
   },
   {
    "duration": 10,
    "start_time": "2024-03-13T16:11:45.064Z"
   },
   {
    "duration": 22,
    "start_time": "2024-03-13T16:11:53.340Z"
   },
   {
    "duration": 20,
    "start_time": "2024-03-13T16:13:07.572Z"
   },
   {
    "duration": 74,
    "start_time": "2024-03-13T16:13:30.783Z"
   },
   {
    "duration": 6,
    "start_time": "2024-03-13T16:13:36.408Z"
   },
   {
    "duration": 22,
    "start_time": "2024-03-13T16:15:50.400Z"
   },
   {
    "duration": 34,
    "start_time": "2024-03-13T16:15:58.396Z"
   },
   {
    "duration": 4,
    "start_time": "2024-03-13T16:16:14.684Z"
   },
   {
    "duration": 102,
    "start_time": "2024-03-13T16:16:25.563Z"
   },
   {
    "duration": 7,
    "start_time": "2024-03-13T16:16:30.299Z"
   },
   {
    "duration": 4,
    "start_time": "2024-03-13T16:16:36.317Z"
   },
   {
    "duration": 4,
    "start_time": "2024-03-13T16:16:45.542Z"
   },
   {
    "duration": 4,
    "start_time": "2024-03-13T16:16:54.677Z"
   },
   {
    "duration": 8,
    "start_time": "2024-03-13T16:17:08.177Z"
   },
   {
    "duration": 4,
    "start_time": "2024-03-13T16:17:12.687Z"
   },
   {
    "duration": 21,
    "start_time": "2024-03-13T16:17:21.275Z"
   },
   {
    "duration": 875,
    "start_time": "2024-03-13T16:17:28.962Z"
   },
   {
    "duration": 23,
    "start_time": "2024-03-13T16:17:29.839Z"
   },
   {
    "duration": 27,
    "start_time": "2024-03-13T16:17:29.863Z"
   },
   {
    "duration": 14,
    "start_time": "2024-03-13T16:17:29.892Z"
   },
   {
    "duration": 20,
    "start_time": "2024-03-13T16:17:29.908Z"
   },
   {
    "duration": 3,
    "start_time": "2024-03-13T16:17:29.930Z"
   },
   {
    "duration": 789,
    "start_time": "2024-03-13T16:19:25.121Z"
   },
   {
    "duration": 22,
    "start_time": "2024-03-13T16:19:25.912Z"
   },
   {
    "duration": 33,
    "start_time": "2024-03-13T16:19:25.936Z"
   },
   {
    "duration": 22,
    "start_time": "2024-03-13T16:19:25.970Z"
   },
   {
    "duration": 37,
    "start_time": "2024-03-13T16:19:25.994Z"
   },
   {
    "duration": 7,
    "start_time": "2024-03-13T16:19:26.032Z"
   },
   {
    "duration": 22,
    "start_time": "2024-03-13T17:06:36.255Z"
   },
   {
    "duration": 17,
    "start_time": "2024-03-13T17:07:01.474Z"
   },
   {
    "duration": 11,
    "start_time": "2024-03-13T17:07:17.424Z"
   },
   {
    "duration": 23,
    "start_time": "2024-03-13T17:07:20.071Z"
   },
   {
    "duration": 14,
    "start_time": "2024-03-13T17:09:02.689Z"
   },
   {
    "duration": 19,
    "start_time": "2024-03-13T17:29:38.546Z"
   },
   {
    "duration": 33,
    "start_time": "2024-03-13T17:32:57.261Z"
   },
   {
    "duration": 9,
    "start_time": "2024-03-13T17:33:45.118Z"
   },
   {
    "duration": 11,
    "start_time": "2024-03-13T17:33:53.912Z"
   },
   {
    "duration": 5,
    "start_time": "2024-03-13T17:34:00.352Z"
   },
   {
    "duration": 22,
    "start_time": "2024-03-13T17:34:33.096Z"
   },
   {
    "duration": 25,
    "start_time": "2024-03-13T17:35:33.427Z"
   },
   {
    "duration": 25,
    "start_time": "2024-03-13T17:36:30.428Z"
   },
   {
    "duration": 20,
    "start_time": "2024-03-13T17:38:48.248Z"
   },
   {
    "duration": 17,
    "start_time": "2024-03-13T17:39:24.299Z"
   },
   {
    "duration": 18,
    "start_time": "2024-03-13T17:40:10.416Z"
   },
   {
    "duration": 6,
    "start_time": "2024-03-13T17:49:54.280Z"
   },
   {
    "duration": 9,
    "start_time": "2024-03-13T17:50:13.191Z"
   },
   {
    "duration": 9,
    "start_time": "2024-03-13T17:50:32.031Z"
   },
   {
    "duration": 8,
    "start_time": "2024-03-13T17:51:29.436Z"
   },
   {
    "duration": 9,
    "start_time": "2024-03-13T17:51:54.653Z"
   },
   {
    "duration": 6,
    "start_time": "2024-03-13T17:52:06.400Z"
   },
   {
    "duration": 6,
    "start_time": "2024-03-13T17:52:40.835Z"
   },
   {
    "duration": 17,
    "start_time": "2024-03-13T17:56:10.211Z"
   },
   {
    "duration": 1665,
    "start_time": "2024-03-13T17:56:34.177Z"
   },
   {
    "duration": 1476,
    "start_time": "2024-03-13T17:56:42.357Z"
   },
   {
    "duration": 25,
    "start_time": "2024-03-13T17:57:42.998Z"
   },
   {
    "duration": 25,
    "start_time": "2024-03-13T17:58:16.711Z"
   },
   {
    "duration": 28,
    "start_time": "2024-03-13T17:58:31.082Z"
   },
   {
    "duration": 23,
    "start_time": "2024-03-13T18:00:45.129Z"
   },
   {
    "duration": 26,
    "start_time": "2024-03-13T18:00:58.026Z"
   },
   {
    "duration": 9,
    "start_time": "2024-03-13T18:04:51.241Z"
   },
   {
    "duration": 134,
    "start_time": "2024-03-13T18:05:09.324Z"
   },
   {
    "duration": 135,
    "start_time": "2024-03-13T18:05:17.520Z"
   },
   {
    "duration": 1731,
    "start_time": "2024-03-13T18:05:30.056Z"
   },
   {
    "duration": 126,
    "start_time": "2024-03-13T18:06:07.560Z"
   },
   {
    "duration": 28,
    "start_time": "2024-03-13T18:07:31.867Z"
   },
   {
    "duration": 5,
    "start_time": "2024-03-13T18:21:02.947Z"
   },
   {
    "duration": 17,
    "start_time": "2024-03-13T18:21:16.071Z"
   },
   {
    "duration": 19,
    "start_time": "2024-03-13T18:21:43.375Z"
   },
   {
    "duration": 11,
    "start_time": "2024-03-13T18:24:39.834Z"
   },
   {
    "duration": 34,
    "start_time": "2024-03-13T18:24:47.288Z"
   },
   {
    "duration": 25,
    "start_time": "2024-03-13T18:26:51.684Z"
   },
   {
    "duration": 22,
    "start_time": "2024-03-13T18:27:05.217Z"
   },
   {
    "duration": 27,
    "start_time": "2024-03-13T18:27:50.590Z"
   },
   {
    "duration": 43,
    "start_time": "2024-03-13T18:28:16.371Z"
   },
   {
    "duration": 835,
    "start_time": "2024-03-13T18:28:32.981Z"
   },
   {
    "duration": 22,
    "start_time": "2024-03-13T18:28:33.817Z"
   },
   {
    "duration": 26,
    "start_time": "2024-03-13T18:28:33.841Z"
   },
   {
    "duration": 22,
    "start_time": "2024-03-13T18:28:33.869Z"
   },
   {
    "duration": 22,
    "start_time": "2024-03-13T18:28:33.893Z"
   },
   {
    "duration": 3,
    "start_time": "2024-03-13T18:28:33.917Z"
   },
   {
    "duration": 18,
    "start_time": "2024-03-13T18:28:33.922Z"
   },
   {
    "duration": 39,
    "start_time": "2024-03-13T18:28:33.941Z"
   },
   {
    "duration": 36,
    "start_time": "2024-03-13T18:28:33.982Z"
   },
   {
    "duration": 10,
    "start_time": "2024-03-13T18:28:34.021Z"
   },
   {
    "duration": 50,
    "start_time": "2024-03-13T18:28:34.032Z"
   },
   {
    "duration": 17,
    "start_time": "2024-03-13T18:28:34.083Z"
   },
   {
    "duration": 36,
    "start_time": "2024-03-13T18:28:34.102Z"
   },
   {
    "duration": 15,
    "start_time": "2024-03-13T18:28:34.139Z"
   },
   {
    "duration": 11,
    "start_time": "2024-03-13T18:28:34.156Z"
   },
   {
    "duration": 9,
    "start_time": "2024-03-13T18:28:34.169Z"
   },
   {
    "duration": 22,
    "start_time": "2024-03-13T18:28:34.179Z"
   },
   {
    "duration": 30,
    "start_time": "2024-03-13T18:28:34.203Z"
   },
   {
    "duration": 25,
    "start_time": "2024-03-13T18:28:34.235Z"
   },
   {
    "duration": 133,
    "start_time": "2024-03-13T18:28:34.262Z"
   },
   {
    "duration": 26,
    "start_time": "2024-03-13T18:28:34.397Z"
   },
   {
    "duration": 16,
    "start_time": "2024-03-13T18:28:34.424Z"
   },
   {
    "duration": 46,
    "start_time": "2024-03-13T18:28:34.441Z"
   },
   {
    "duration": 37,
    "start_time": "2024-03-13T18:28:34.488Z"
   },
   {
    "duration": 17,
    "start_time": "2024-03-13T18:35:17.199Z"
   },
   {
    "duration": 21,
    "start_time": "2024-03-13T18:35:26.462Z"
   },
   {
    "duration": 29,
    "start_time": "2024-03-13T18:35:36.881Z"
   },
   {
    "duration": 32,
    "start_time": "2024-03-13T18:36:41.376Z"
   },
   {
    "duration": 22,
    "start_time": "2024-03-13T18:37:01.218Z"
   },
   {
    "duration": 73,
    "start_time": "2024-03-13T18:39:17.521Z"
   },
   {
    "duration": 147,
    "start_time": "2024-03-13T18:39:36.760Z"
   },
   {
    "duration": 118,
    "start_time": "2024-03-13T18:39:47.645Z"
   },
   {
    "duration": 5,
    "start_time": "2024-03-13T18:44:36.179Z"
   },
   {
    "duration": 117,
    "start_time": "2024-03-13T18:44:56.040Z"
   },
   {
    "duration": 18,
    "start_time": "2024-03-13T18:47:19.902Z"
   },
   {
    "duration": 201,
    "start_time": "2024-03-13T18:47:37.197Z"
   },
   {
    "duration": 149,
    "start_time": "2024-03-13T18:47:43.776Z"
   },
   {
    "duration": 114,
    "start_time": "2024-03-13T18:50:29.295Z"
   },
   {
    "duration": 112,
    "start_time": "2024-03-13T18:51:01.144Z"
   },
   {
    "duration": 156,
    "start_time": "2024-03-13T18:59:28.692Z"
   },
   {
    "duration": 302,
    "start_time": "2024-03-13T19:00:48.989Z"
   },
   {
    "duration": 308,
    "start_time": "2024-03-13T19:01:44.730Z"
   },
   {
    "duration": 318,
    "start_time": "2024-03-13T19:01:52.891Z"
   },
   {
    "duration": 358,
    "start_time": "2024-03-13T19:02:03.405Z"
   },
   {
    "duration": 15,
    "start_time": "2024-03-13T19:07:34.542Z"
   },
   {
    "duration": 20,
    "start_time": "2024-03-13T19:10:41.895Z"
   },
   {
    "duration": 38,
    "start_time": "2024-03-13T19:10:56.613Z"
   },
   {
    "duration": 106,
    "start_time": "2024-03-13T19:11:27.722Z"
   },
   {
    "duration": 837,
    "start_time": "2024-03-13T19:11:58.995Z"
   },
   {
    "duration": 21,
    "start_time": "2024-03-13T19:11:59.834Z"
   },
   {
    "duration": 27,
    "start_time": "2024-03-13T19:11:59.856Z"
   },
   {
    "duration": 17,
    "start_time": "2024-03-13T19:11:59.885Z"
   },
   {
    "duration": 23,
    "start_time": "2024-03-13T19:11:59.905Z"
   },
   {
    "duration": 4,
    "start_time": "2024-03-13T19:11:59.930Z"
   },
   {
    "duration": 12,
    "start_time": "2024-03-13T19:11:59.935Z"
   },
   {
    "duration": 47,
    "start_time": "2024-03-13T19:11:59.949Z"
   },
   {
    "duration": 174,
    "start_time": "2024-03-13T19:11:59.998Z"
   },
   {
    "duration": 419,
    "start_time": "2024-03-13T19:12:00.174Z"
   },
   {
    "duration": 339,
    "start_time": "2024-03-13T19:12:00.595Z"
   },
   {
    "duration": 61,
    "start_time": "2024-03-13T19:12:00.936Z"
   },
   {
    "duration": 63,
    "start_time": "2024-03-13T19:12:01.000Z"
   },
   {
    "duration": 58,
    "start_time": "2024-03-13T19:12:01.066Z"
   },
   {
    "duration": 47,
    "start_time": "2024-03-13T19:12:01.126Z"
   },
   {
    "duration": 34,
    "start_time": "2024-03-13T19:12:01.174Z"
   },
   {
    "duration": 49,
    "start_time": "2024-03-13T19:12:01.210Z"
   },
   {
    "duration": 66,
    "start_time": "2024-03-13T19:12:01.260Z"
   },
   {
    "duration": 79,
    "start_time": "2024-03-13T19:12:01.328Z"
   },
   {
    "duration": 203,
    "start_time": "2024-03-13T19:12:01.409Z"
   },
   {
    "duration": 28,
    "start_time": "2024-03-13T19:12:01.613Z"
   },
   {
    "duration": 39,
    "start_time": "2024-03-13T19:12:01.642Z"
   },
   {
    "duration": 38,
    "start_time": "2024-03-13T19:12:01.684Z"
   },
   {
    "duration": 74,
    "start_time": "2024-03-13T19:12:01.724Z"
   },
   {
    "duration": 175,
    "start_time": "2024-03-13T19:12:01.801Z"
   },
   {
    "duration": 146,
    "start_time": "2024-03-13T19:12:01.978Z"
   },
   {
    "duration": 193,
    "start_time": "2024-03-13T19:12:02.126Z"
   },
   {
    "duration": 419,
    "start_time": "2024-03-13T19:12:02.320Z"
   },
   {
    "duration": 12,
    "start_time": "2024-03-13T19:12:02.740Z"
   },
   {
    "duration": 39,
    "start_time": "2024-03-13T19:12:02.754Z"
   },
   {
    "duration": 20,
    "start_time": "2024-03-13T19:12:33.473Z"
   },
   {
    "duration": 31,
    "start_time": "2024-03-13T19:12:47.565Z"
   },
   {
    "duration": 199,
    "start_time": "2024-03-13T19:12:56.495Z"
   },
   {
    "duration": 212,
    "start_time": "2024-03-13T19:13:11.368Z"
   },
   {
    "duration": 254,
    "start_time": "2024-03-13T19:15:38.339Z"
   },
   {
    "duration": 12,
    "start_time": "2024-03-13T19:17:07.749Z"
   },
   {
    "duration": 75,
    "start_time": "2024-03-13T19:17:10.322Z"
   },
   {
    "duration": 27,
    "start_time": "2024-03-13T19:17:57.476Z"
   },
   {
    "duration": 298,
    "start_time": "2024-03-13T19:18:00.967Z"
   },
   {
    "duration": 25,
    "start_time": "2024-03-13T19:18:13.865Z"
   },
   {
    "duration": 265,
    "start_time": "2024-03-13T19:18:15.194Z"
   },
   {
    "duration": 24,
    "start_time": "2024-03-13T19:18:45.944Z"
   },
   {
    "duration": 270,
    "start_time": "2024-03-13T19:18:46.464Z"
   },
   {
    "duration": 229,
    "start_time": "2024-03-13T19:19:25.705Z"
   },
   {
    "duration": 22,
    "start_time": "2024-03-13T19:26:48.201Z"
   },
   {
    "duration": 22,
    "start_time": "2024-03-13T19:27:27.146Z"
   },
   {
    "duration": 13,
    "start_time": "2024-03-13T19:28:21.218Z"
   },
   {
    "duration": 21,
    "start_time": "2024-03-13T19:28:29.402Z"
   },
   {
    "duration": 13,
    "start_time": "2024-03-13T19:28:34.594Z"
   },
   {
    "duration": 34,
    "start_time": "2024-03-13T19:30:22.784Z"
   },
   {
    "duration": 36,
    "start_time": "2024-03-13T19:30:58.069Z"
   },
   {
    "duration": 869,
    "start_time": "2024-03-13T19:31:05.769Z"
   },
   {
    "duration": 23,
    "start_time": "2024-03-13T19:31:06.640Z"
   },
   {
    "duration": 27,
    "start_time": "2024-03-13T19:31:06.665Z"
   },
   {
    "duration": 39,
    "start_time": "2024-03-13T19:31:06.694Z"
   },
   {
    "duration": 22,
    "start_time": "2024-03-13T19:31:06.736Z"
   },
   {
    "duration": 4,
    "start_time": "2024-03-13T19:31:06.759Z"
   },
   {
    "duration": 29,
    "start_time": "2024-03-13T19:31:06.765Z"
   },
   {
    "duration": 16,
    "start_time": "2024-03-13T19:31:06.795Z"
   },
   {
    "duration": 32,
    "start_time": "2024-03-13T19:31:06.813Z"
   },
   {
    "duration": 8,
    "start_time": "2024-03-13T19:31:06.847Z"
   },
   {
    "duration": 40,
    "start_time": "2024-03-13T19:31:06.857Z"
   },
   {
    "duration": 19,
    "start_time": "2024-03-13T19:31:06.898Z"
   },
   {
    "duration": 17,
    "start_time": "2024-03-13T19:31:06.919Z"
   },
   {
    "duration": 6,
    "start_time": "2024-03-13T19:31:06.939Z"
   },
   {
    "duration": 10,
    "start_time": "2024-03-13T19:31:06.947Z"
   },
   {
    "duration": 6,
    "start_time": "2024-03-13T19:31:06.981Z"
   },
   {
    "duration": 23,
    "start_time": "2024-03-13T19:31:06.989Z"
   },
   {
    "duration": 26,
    "start_time": "2024-03-13T19:31:07.014Z"
   },
   {
    "duration": 23,
    "start_time": "2024-03-13T19:31:07.042Z"
   },
   {
    "duration": 141,
    "start_time": "2024-03-13T19:31:07.066Z"
   },
   {
    "duration": 26,
    "start_time": "2024-03-13T19:31:07.209Z"
   },
   {
    "duration": 18,
    "start_time": "2024-03-13T19:31:07.236Z"
   },
   {
    "duration": 42,
    "start_time": "2024-03-13T19:31:07.255Z"
   },
   {
    "duration": 37,
    "start_time": "2024-03-13T19:31:07.299Z"
   },
   {
    "duration": 152,
    "start_time": "2024-03-13T19:31:07.337Z"
   },
   {
    "duration": 122,
    "start_time": "2024-03-13T19:31:07.490Z"
   },
   {
    "duration": 166,
    "start_time": "2024-03-13T19:31:07.614Z"
   },
   {
    "duration": 394,
    "start_time": "2024-03-13T19:31:07.782Z"
   },
   {
    "duration": 12,
    "start_time": "2024-03-13T19:31:08.178Z"
   },
   {
    "duration": 31,
    "start_time": "2024-03-13T19:31:08.192Z"
   },
   {
    "duration": 280,
    "start_time": "2024-03-13T19:31:08.225Z"
   },
   {
    "duration": 154,
    "start_time": "2024-03-13T19:31:08.507Z"
   },
   {
    "duration": 0,
    "start_time": "2024-03-13T19:31:08.663Z"
   },
   {
    "duration": 0,
    "start_time": "2024-03-13T19:31:08.664Z"
   },
   {
    "duration": 0,
    "start_time": "2024-03-13T19:31:08.666Z"
   },
   {
    "duration": 39,
    "start_time": "2024-03-13T19:31:22.776Z"
   },
   {
    "duration": 29,
    "start_time": "2024-03-13T19:31:32.070Z"
   },
   {
    "duration": 12,
    "start_time": "2024-03-13T19:31:33.395Z"
   },
   {
    "duration": 32,
    "start_time": "2024-03-13T19:31:35.914Z"
   },
   {
    "duration": 4,
    "start_time": "2024-03-13T19:34:59.152Z"
   },
   {
    "duration": 33,
    "start_time": "2024-03-13T19:35:18.653Z"
   },
   {
    "duration": 11,
    "start_time": "2024-03-13T19:35:19.237Z"
   },
   {
    "duration": 3,
    "start_time": "2024-03-13T19:35:20.776Z"
   },
   {
    "duration": 5,
    "start_time": "2024-03-13T19:35:28.220Z"
   },
   {
    "duration": 34,
    "start_time": "2024-03-13T19:35:29.017Z"
   },
   {
    "duration": 4,
    "start_time": "2024-03-13T19:36:41.162Z"
   },
   {
    "duration": 5,
    "start_time": "2024-03-13T19:39:15.155Z"
   },
   {
    "duration": 6,
    "start_time": "2024-03-13T19:39:23.652Z"
   },
   {
    "duration": 119,
    "start_time": "2024-03-13T19:39:54.542Z"
   },
   {
    "duration": 121,
    "start_time": "2024-03-13T19:40:18.824Z"
   },
   {
    "duration": 27,
    "start_time": "2024-03-13T19:46:52.352Z"
   },
   {
    "duration": 11,
    "start_time": "2024-03-13T19:46:53.593Z"
   },
   {
    "duration": 5,
    "start_time": "2024-03-13T19:46:54.894Z"
   },
   {
    "duration": 5,
    "start_time": "2024-03-13T19:46:56.275Z"
   },
   {
    "duration": 35,
    "start_time": "2024-03-13T19:46:57.232Z"
   },
   {
    "duration": 124,
    "start_time": "2024-03-13T19:46:58.999Z"
   },
   {
    "duration": 6,
    "start_time": "2024-03-13T19:49:10.047Z"
   },
   {
    "duration": 9,
    "start_time": "2024-03-13T19:50:01.848Z"
   },
   {
    "duration": 9,
    "start_time": "2024-03-13T19:50:36.458Z"
   },
   {
    "duration": 9,
    "start_time": "2024-03-13T19:50:39.408Z"
   },
   {
    "duration": 10,
    "start_time": "2024-03-13T19:51:35.709Z"
   },
   {
    "duration": 1558,
    "start_time": "2024-03-13T19:52:48.413Z"
   },
   {
    "duration": 7,
    "start_time": "2024-03-13T19:52:56.899Z"
   },
   {
    "duration": 8,
    "start_time": "2024-03-13T19:53:45.731Z"
   },
   {
    "duration": 9,
    "start_time": "2024-03-13T19:53:52.617Z"
   },
   {
    "duration": 6,
    "start_time": "2024-03-13T19:54:01.482Z"
   },
   {
    "duration": 4,
    "start_time": "2024-03-13T19:54:23.318Z"
   },
   {
    "duration": 11,
    "start_time": "2024-03-13T19:55:15.272Z"
   },
   {
    "duration": 10,
    "start_time": "2024-03-13T19:55:15.817Z"
   },
   {
    "duration": 5,
    "start_time": "2024-03-13T19:55:16.364Z"
   },
   {
    "duration": 6,
    "start_time": "2024-03-13T19:55:16.833Z"
   },
   {
    "duration": 6,
    "start_time": "2024-03-13T19:56:06.336Z"
   },
   {
    "duration": 6,
    "start_time": "2024-03-13T19:56:07.235Z"
   },
   {
    "duration": 12,
    "start_time": "2024-03-13T19:58:44.158Z"
   },
   {
    "duration": 13,
    "start_time": "2024-03-13T20:16:17.438Z"
   },
   {
    "duration": 6,
    "start_time": "2024-03-13T20:16:28.777Z"
   },
   {
    "duration": 790,
    "start_time": "2024-03-13T20:26:23.047Z"
   },
   {
    "duration": 22,
    "start_time": "2024-03-13T20:26:23.839Z"
   },
   {
    "duration": 26,
    "start_time": "2024-03-13T20:26:23.863Z"
   },
   {
    "duration": 15,
    "start_time": "2024-03-13T20:26:23.891Z"
   },
   {
    "duration": 23,
    "start_time": "2024-03-13T20:26:23.908Z"
   },
   {
    "duration": 15,
    "start_time": "2024-03-13T20:26:23.932Z"
   },
   {
    "duration": 13,
    "start_time": "2024-03-13T20:26:23.948Z"
   },
   {
    "duration": 18,
    "start_time": "2024-03-13T20:26:23.981Z"
   },
   {
    "duration": 33,
    "start_time": "2024-03-13T20:26:24.000Z"
   },
   {
    "duration": 9,
    "start_time": "2024-03-13T20:26:24.034Z"
   },
   {
    "duration": 53,
    "start_time": "2024-03-13T20:26:24.044Z"
   },
   {
    "duration": 18,
    "start_time": "2024-03-13T20:26:24.099Z"
   },
   {
    "duration": 19,
    "start_time": "2024-03-13T20:26:24.119Z"
   },
   {
    "duration": 8,
    "start_time": "2024-03-13T20:26:24.141Z"
   },
   {
    "duration": 33,
    "start_time": "2024-03-13T20:26:24.150Z"
   },
   {
    "duration": 8,
    "start_time": "2024-03-13T20:26:24.184Z"
   },
   {
    "duration": 13,
    "start_time": "2024-03-13T20:26:24.193Z"
   },
   {
    "duration": 34,
    "start_time": "2024-03-13T20:26:24.207Z"
   },
   {
    "duration": 41,
    "start_time": "2024-03-13T20:26:24.242Z"
   },
   {
    "duration": 131,
    "start_time": "2024-03-13T20:26:24.284Z"
   },
   {
    "duration": 26,
    "start_time": "2024-03-13T20:26:24.417Z"
   },
   {
    "duration": 17,
    "start_time": "2024-03-13T20:26:24.445Z"
   },
   {
    "duration": 42,
    "start_time": "2024-03-13T20:26:24.463Z"
   },
   {
    "duration": 32,
    "start_time": "2024-03-13T20:26:24.506Z"
   },
   {
    "duration": 169,
    "start_time": "2024-03-13T20:26:24.540Z"
   },
   {
    "duration": 121,
    "start_time": "2024-03-13T20:26:24.710Z"
   },
   {
    "duration": 148,
    "start_time": "2024-03-13T20:26:24.833Z"
   },
   {
    "duration": 371,
    "start_time": "2024-03-13T20:26:24.983Z"
   },
   {
    "duration": 12,
    "start_time": "2024-03-13T20:26:25.356Z"
   },
   {
    "duration": 34,
    "start_time": "2024-03-13T20:26:25.369Z"
   },
   {
    "duration": 268,
    "start_time": "2024-03-13T20:26:25.405Z"
   },
   {
    "duration": 25,
    "start_time": "2024-03-13T20:26:25.674Z"
   },
   {
    "duration": 15,
    "start_time": "2024-03-13T20:26:25.701Z"
   },
   {
    "duration": 12,
    "start_time": "2024-03-13T20:26:25.717Z"
   },
   {
    "duration": 16,
    "start_time": "2024-03-13T20:26:25.730Z"
   },
   {
    "duration": 51,
    "start_time": "2024-03-13T20:26:25.747Z"
   },
   {
    "duration": 137,
    "start_time": "2024-03-13T20:26:25.800Z"
   },
   {
    "duration": 10,
    "start_time": "2024-03-13T20:26:25.939Z"
   },
   {
    "duration": 29,
    "start_time": "2024-03-13T20:26:25.950Z"
   },
   {
    "duration": 7,
    "start_time": "2024-03-13T20:26:25.981Z"
   },
   {
    "duration": 17,
    "start_time": "2024-03-13T20:26:25.991Z"
   },
   {
    "duration": 53,
    "start_time": "2024-03-14T21:28:26.346Z"
   },
   {
    "duration": 894,
    "start_time": "2024-03-14T21:28:30.849Z"
   },
   {
    "duration": 311,
    "start_time": "2024-03-14T21:28:31.745Z"
   },
   {
    "duration": 24,
    "start_time": "2024-03-14T21:28:32.058Z"
   },
   {
    "duration": 31,
    "start_time": "2024-03-14T21:28:32.084Z"
   },
   {
    "duration": 25,
    "start_time": "2024-03-14T21:28:32.118Z"
   },
   {
    "duration": 40,
    "start_time": "2024-03-14T21:28:32.145Z"
   },
   {
    "duration": 5,
    "start_time": "2024-03-14T21:28:32.187Z"
   },
   {
    "duration": 13,
    "start_time": "2024-03-14T21:28:32.194Z"
   },
   {
    "duration": 19,
    "start_time": "2024-03-14T21:28:32.209Z"
   },
   {
    "duration": 65,
    "start_time": "2024-03-14T21:28:32.229Z"
   },
   {
    "duration": 11,
    "start_time": "2024-03-14T21:28:32.296Z"
   },
   {
    "duration": 40,
    "start_time": "2024-03-14T21:28:32.309Z"
   },
   {
    "duration": 31,
    "start_time": "2024-03-14T21:28:32.351Z"
   },
   {
    "duration": 19,
    "start_time": "2024-03-14T21:28:32.387Z"
   },
   {
    "duration": 8,
    "start_time": "2024-03-14T21:28:32.408Z"
   },
   {
    "duration": 8,
    "start_time": "2024-03-14T21:28:32.418Z"
   },
   {
    "duration": 12,
    "start_time": "2024-03-14T21:28:32.428Z"
   },
   {
    "duration": 41,
    "start_time": "2024-03-14T21:28:32.442Z"
   },
   {
    "duration": 32,
    "start_time": "2024-03-14T21:28:32.485Z"
   },
   {
    "duration": 29,
    "start_time": "2024-03-14T21:28:32.519Z"
   },
   {
    "duration": 163,
    "start_time": "2024-03-14T21:28:32.549Z"
   },
   {
    "duration": 28,
    "start_time": "2024-03-14T21:28:32.714Z"
   },
   {
    "duration": 18,
    "start_time": "2024-03-14T21:28:32.743Z"
   },
   {
    "duration": 44,
    "start_time": "2024-03-14T21:28:32.762Z"
   },
   {
    "duration": 36,
    "start_time": "2024-03-14T21:28:32.808Z"
   },
   {
    "duration": 182,
    "start_time": "2024-03-14T21:28:32.846Z"
   },
   {
    "duration": 142,
    "start_time": "2024-03-14T21:28:33.030Z"
   },
   {
    "duration": 164,
    "start_time": "2024-03-14T21:28:33.174Z"
   },
   {
    "duration": 401,
    "start_time": "2024-03-14T21:28:33.339Z"
   },
   {
    "duration": 12,
    "start_time": "2024-03-14T21:28:33.741Z"
   },
   {
    "duration": 48,
    "start_time": "2024-03-14T21:28:33.755Z"
   },
   {
    "duration": 275,
    "start_time": "2024-03-14T21:28:33.805Z"
   },
   {
    "duration": 24,
    "start_time": "2024-03-14T21:28:34.082Z"
   },
   {
    "duration": 14,
    "start_time": "2024-03-14T21:28:34.108Z"
   },
   {
    "duration": 11,
    "start_time": "2024-03-14T21:28:34.124Z"
   },
   {
    "duration": 6,
    "start_time": "2024-03-14T21:28:34.137Z"
   },
   {
    "duration": 66,
    "start_time": "2024-03-14T21:28:34.144Z"
   },
   {
    "duration": 139,
    "start_time": "2024-03-14T21:28:34.212Z"
   },
   {
    "duration": 10,
    "start_time": "2024-03-14T21:28:34.352Z"
   },
   {
    "duration": 30,
    "start_time": "2024-03-14T21:28:34.364Z"
   },
   {
    "duration": 7,
    "start_time": "2024-03-14T21:28:34.398Z"
   },
   {
    "duration": 26,
    "start_time": "2024-03-14T21:28:34.407Z"
   },
   {
    "duration": 150,
    "start_time": "2024-03-14T21:29:46.816Z"
   },
   {
    "duration": 271,
    "start_time": "2024-03-14T21:30:08.191Z"
   },
   {
    "duration": 190,
    "start_time": "2024-03-14T21:30:47.666Z"
   },
   {
    "duration": 349,
    "start_time": "2024-03-14T21:31:27.273Z"
   },
   {
    "duration": 287,
    "start_time": "2024-03-14T21:31:40.876Z"
   },
   {
    "duration": 290,
    "start_time": "2024-03-14T21:31:48.627Z"
   },
   {
    "duration": 319,
    "start_time": "2024-03-14T21:32:52.178Z"
   },
   {
    "duration": 150,
    "start_time": "2024-03-14T21:33:31.613Z"
   }
  ],
  "colab": {
   "name": "DA+. Сборный проект 1. Шаблон (1).ipynb",
   "provenance": []
  },
  "kernelspec": {
   "display_name": "Python 3 (ipykernel)",
   "language": "python",
   "name": "python3"
  },
  "language_info": {
   "codemirror_mode": {
    "name": "ipython",
    "version": 3
   },
   "file_extension": ".py",
   "mimetype": "text/x-python",
   "name": "python",
   "nbconvert_exporter": "python",
   "pygments_lexer": "ipython3",
   "version": "3.12.7"
  },
  "toc": {
   "base_numbering": 1,
   "nav_menu": {},
   "number_sections": true,
   "sideBar": true,
   "skip_h1_title": true,
   "title_cell": "Table of Contents",
   "title_sidebar": "Contents",
   "toc_cell": false,
   "toc_position": {
    "height": "calc(100% - 180px)",
    "left": "10px",
    "top": "150px",
    "width": "375.391px"
   },
   "toc_section_display": true,
   "toc_window_display": false
  }
 },
 "nbformat": 4,
 "nbformat_minor": 4
}
