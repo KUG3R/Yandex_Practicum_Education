{
 "cells": [
  {
   "cell_type": "markdown",
   "id": "b4f4f9a3",
   "metadata": {},
   "source": [
    "# Исследование NPS телекоммуникационной компании среди клиентов России\n",
    "\n",
    "# Описание проекта\n",
    "\n",
    "Заказчик этого исследования — большая телекоммуникационная компания, которая оказывает услуги на территории всего СНГ. Перед компанией стоит задача определить текущий уровень потребительской лояльности, или NPS (от англ. Net Promoter Score), среди клиентов из России. \n",
    "\n",
    "Чтобы определить уровень лояльности, клиентам задавали классический вопрос: «Оцените по шкале от 1 до 10 вероятность того, что вы порекомендуете компанию друзьям и знакомым».\n",
    "Компания провела опрос и попросила вас подготовить дашборд с его итогами. Большую базу данных для такой задачи разворачивать не стали и выгрузили данные в SQLite. \n",
    "\n",
    "Чтобы оценить результаты опроса, оценки обычно делят на три группы:\n",
    "9-10 баллов — «cторонники» (англ. promoters);\n",
    "7-8 баллов — «нейтралы» (англ. passives);\n",
    "0-6 баллов — «критики» (англ. detractors).\n",
    "Итоговое значение NPS рассчитывается по формуле: % «сторонников» - % «критиков».\n",
    "\n",
    "Таким образом, значение этого показателя варьируется от -100% (когда все клиенты «критики») до 100% (когда все клиенты лояльны к сервису). Но это крайние случаи, которые редко встретишь на практике. \n",
    "Интерпретируя результаты NPS-опросов, следует также помнить, что само значение мало о чём говорит. Однако исследования показывают, что клиенты-сторонники полезны любому бизнесу. Они чаще других повторно совершают покупки, активнее тестируют обновления и приводят в сервис своих друзей и знакомых. Поэтому NPS остаётся одной из важнейших метрик бизнеса. \n",
    "\n",
    "**Используя дашборд, нужно ответить на вопросы:**\n",
    "\n",
    "* Как распределены участники опроса по возрасту, полу и возрасту? Каких пользователей больше: новых или старых? Пользователи из каких городов активнее участвовали в опросе?\n",
    "\n",
    "* Какие группы пользователей наиболее лояльны к сервису? Какие менее?\n",
    "\n",
    "* Какой общий NPS среди всех опрошенных?\n",
    "\n",
    "* Как можно описать клиентов, которые относятся к группе cторонников?"
   ]
  },
  {
   "cell_type": "code",
   "execution_count": 1,
   "id": "fc7efa54",
   "metadata": {},
   "outputs": [],
   "source": [
    "import os\n",
    "import pandas as pd\n",
    "import numpy as np\n",
    "\n",
    "from sqlalchemy import create_engine"
   ]
  },
  {
   "cell_type": "code",
   "execution_count": 2,
   "id": "0017f8e7",
   "metadata": {},
   "outputs": [],
   "source": [
    "path_to_db_local = 'telecomm_csi.db'\n",
    "path_to_db_platform = '/datasets/telecomm_csi.db'\n",
    "path_to_db = None\n",
    "\n",
    "if os.path.exists(path_to_db_local):\n",
    "    path_to_db = path_to_db_local\n",
    "elif os.path.exists(path_to_db_platform):\n",
    "    path_to_db = path_to_db_platform\n",
    "else:\n",
    "    raise Exception('Файл с базой данных SQLite не найден!')\n",
    "\n",
    "if path_to_db:\n",
    "    engine = create_engine(f'sqlite:///{path_to_db}', echo=False)"
   ]
  },
  {
   "cell_type": "code",
   "execution_count": 3,
   "id": "84ebad43",
   "metadata": {},
   "outputs": [],
   "source": [
    "query = \"\"\"\n",
    "SELECT u.user_id,\n",
    "       u.lt_day,\n",
    "       CASE \n",
    "           WHEN u.lt_day <= 365 THEN 'Новый'\n",
    "           ELSE 'Старый'\n",
    "           END AS is_new,\n",
    "       u.age,\n",
    "       CASE \n",
    "           WHEN u.gender_segment == 1 THEN 'Женщина'\n",
    "           WHEN u.gender_segment == 0 THEN 'Мужчина'\n",
    "           ELSE ' '\n",
    "           END AS gender_segment,\n",
    "       u.os_name,\n",
    "       u.cpe_type_name,\n",
    "       location.country,\n",
    "       location.city,\n",
    "       SUBSTR(age_segment.title, 4) AS age_segment,\n",
    "       SUBSTR(traffic_segment.title, 4) AS traffic_segment,\n",
    "       SUBSTR(lifetime_segment.title, 4) AS lifetime_segment,\n",
    "       u.nps_score,\n",
    "       CASE \n",
    "           WHEN u.nps_score >= 9 THEN 'Cторонник'\n",
    "           WHEN u.nps_score >= 7 THEN 'Нейтрал'\n",
    "           ELSE 'Критик'\n",
    "           END AS nps_group\n",
    "FROM user AS u\n",
    "JOIN location ON u.location_id = location.location_id\n",
    "JOIN age_segment ON u.age_gr_id = age_segment.age_gr_id\n",
    "JOIN traffic_segment ON u.tr_gr_id = traffic_segment.tr_gr_id\n",
    "JOIN lifetime_segment ON u.lt_gr_id = lifetime_segment.lt_gr_id;\n",
    "\"\"\""
   ]
  },
  {
   "cell_type": "code",
   "execution_count": 4,
   "id": "3965faf2",
   "metadata": {},
   "outputs": [
    {
     "data": {
      "text/html": [
       "<div>\n",
       "<style scoped>\n",
       "    .dataframe tbody tr th:only-of-type {\n",
       "        vertical-align: middle;\n",
       "    }\n",
       "\n",
       "    .dataframe tbody tr th {\n",
       "        vertical-align: top;\n",
       "    }\n",
       "\n",
       "    .dataframe thead th {\n",
       "        text-align: right;\n",
       "    }\n",
       "</style>\n",
       "<table border=\"1\" class=\"dataframe\">\n",
       "  <thead>\n",
       "    <tr style=\"text-align: right;\">\n",
       "      <th></th>\n",
       "      <th>user_id</th>\n",
       "      <th>lt_day</th>\n",
       "      <th>is_new</th>\n",
       "      <th>age</th>\n",
       "      <th>gender_segment</th>\n",
       "      <th>os_name</th>\n",
       "      <th>cpe_type_name</th>\n",
       "      <th>country</th>\n",
       "      <th>city</th>\n",
       "      <th>age_segment</th>\n",
       "      <th>traffic_segment</th>\n",
       "      <th>lifetime_segment</th>\n",
       "      <th>nps_score</th>\n",
       "      <th>nps_group</th>\n",
       "    </tr>\n",
       "  </thead>\n",
       "  <tbody>\n",
       "    <tr>\n",
       "      <th>0</th>\n",
       "      <td>A001A2</td>\n",
       "      <td>2320</td>\n",
       "      <td>Старый</td>\n",
       "      <td>45.0</td>\n",
       "      <td>Женщина</td>\n",
       "      <td>ANDROID</td>\n",
       "      <td>SMARTPHONE</td>\n",
       "      <td>Россия</td>\n",
       "      <td>Уфа</td>\n",
       "      <td>45-54</td>\n",
       "      <td>1-5</td>\n",
       "      <td>36+</td>\n",
       "      <td>10</td>\n",
       "      <td>Cторонник</td>\n",
       "    </tr>\n",
       "    <tr>\n",
       "      <th>1</th>\n",
       "      <td>A001WF</td>\n",
       "      <td>2344</td>\n",
       "      <td>Старый</td>\n",
       "      <td>53.0</td>\n",
       "      <td>Мужчина</td>\n",
       "      <td>ANDROID</td>\n",
       "      <td>SMARTPHONE</td>\n",
       "      <td>Россия</td>\n",
       "      <td>Киров</td>\n",
       "      <td>45-54</td>\n",
       "      <td>1-5</td>\n",
       "      <td>36+</td>\n",
       "      <td>10</td>\n",
       "      <td>Cторонник</td>\n",
       "    </tr>\n",
       "    <tr>\n",
       "      <th>2</th>\n",
       "      <td>A003Q7</td>\n",
       "      <td>467</td>\n",
       "      <td>Старый</td>\n",
       "      <td>57.0</td>\n",
       "      <td>Мужчина</td>\n",
       "      <td>ANDROID</td>\n",
       "      <td>SMARTPHONE</td>\n",
       "      <td>Россия</td>\n",
       "      <td>Москва</td>\n",
       "      <td>55-64</td>\n",
       "      <td>20-25</td>\n",
       "      <td>13-24</td>\n",
       "      <td>10</td>\n",
       "      <td>Cторонник</td>\n",
       "    </tr>\n",
       "    <tr>\n",
       "      <th>3</th>\n",
       "      <td>A004TB</td>\n",
       "      <td>4190</td>\n",
       "      <td>Старый</td>\n",
       "      <td>44.0</td>\n",
       "      <td>Женщина</td>\n",
       "      <td>IOS</td>\n",
       "      <td>SMARTPHONE</td>\n",
       "      <td>Россия</td>\n",
       "      <td>РостовнаДону</td>\n",
       "      <td>35-44</td>\n",
       "      <td>0.1-1</td>\n",
       "      <td>36+</td>\n",
       "      <td>10</td>\n",
       "      <td>Cторонник</td>\n",
       "    </tr>\n",
       "    <tr>\n",
       "      <th>4</th>\n",
       "      <td>A004XT</td>\n",
       "      <td>1163</td>\n",
       "      <td>Старый</td>\n",
       "      <td>24.0</td>\n",
       "      <td>Мужчина</td>\n",
       "      <td>ANDROID</td>\n",
       "      <td>SMARTPHONE</td>\n",
       "      <td>Россия</td>\n",
       "      <td>Рязань</td>\n",
       "      <td>16-24</td>\n",
       "      <td>5-10</td>\n",
       "      <td>36+</td>\n",
       "      <td>10</td>\n",
       "      <td>Cторонник</td>\n",
       "    </tr>\n",
       "  </tbody>\n",
       "</table>\n",
       "</div>"
      ],
      "text/plain": [
       "  user_id  lt_day  is_new   age gender_segment  os_name cpe_type_name country  \\\n",
       "0  A001A2    2320  Старый  45.0        Женщина  ANDROID    SMARTPHONE  Россия   \n",
       "1  A001WF    2344  Старый  53.0        Мужчина  ANDROID    SMARTPHONE  Россия   \n",
       "2  A003Q7     467  Старый  57.0        Мужчина  ANDROID    SMARTPHONE  Россия   \n",
       "3  A004TB    4190  Старый  44.0        Женщина      IOS    SMARTPHONE  Россия   \n",
       "4  A004XT    1163  Старый  24.0        Мужчина  ANDROID    SMARTPHONE  Россия   \n",
       "\n",
       "           city age_segment traffic_segment lifetime_segment  nps_score  \\\n",
       "0           Уфа       45-54             1-5              36+         10   \n",
       "1         Киров       45-54             1-5              36+         10   \n",
       "2        Москва       55-64           20-25            13-24         10   \n",
       "3  РостовнаДону       35-44           0.1-1              36+         10   \n",
       "4        Рязань       16-24            5-10              36+         10   \n",
       "\n",
       "   nps_group  \n",
       "0  Cторонник  \n",
       "1  Cторонник  \n",
       "2  Cторонник  \n",
       "3  Cторонник  \n",
       "4  Cторонник  "
      ]
     },
     "execution_count": 4,
     "metadata": {},
     "output_type": "execute_result"
    }
   ],
   "source": [
    "df = pd.read_sql(query, engine)\n",
    "df.head(5)"
   ]
  },
  {
   "cell_type": "code",
   "execution_count": 5,
   "id": "9db04858",
   "metadata": {},
   "outputs": [],
   "source": [
    "df.to_csv('telecomm_csi_tableau.csv', index=False)"
   ]
  },
  {
   "cell_type": "markdown",
   "id": "7a65f7d9",
   "metadata": {},
   "source": [
    "**Дашборд на сайте:**\n",
    " https://public.tableau.com/app/profile/alexander.ryabyshenkov/viz/NPS_17177081827710/NPS_6?publish=yes"
   ]
  },
  {
   "cell_type": "markdown",
   "id": "8e6fba0a",
   "metadata": {},
   "source": [
    "**Презентация:**\n",
    "https://disk.yandex.ru/i/ncavtwBzWAz6ig"
   ]
  }
 ],
 "metadata": {
  "ExecuteTimeLog": [
   {
    "duration": 507,
    "start_time": "2024-06-06T16:08:15.647Z"
   },
   {
    "duration": 65,
    "start_time": "2024-06-06T16:08:16.156Z"
   },
   {
    "duration": 3,
    "start_time": "2024-06-06T16:08:16.391Z"
   },
   {
    "duration": 5480,
    "start_time": "2024-06-06T16:08:17.836Z"
   },
   {
    "duration": 4734,
    "start_time": "2024-06-06T16:08:52.134Z"
   },
   {
    "duration": 5521,
    "start_time": "2024-06-06T16:10:02.446Z"
   },
   {
    "duration": 2,
    "start_time": "2024-06-06T16:12:16.897Z"
   },
   {
    "duration": 59,
    "start_time": "2024-06-06T16:12:17.269Z"
   },
   {
    "duration": 3,
    "start_time": "2024-06-06T16:12:17.671Z"
   },
   {
    "duration": 5130,
    "start_time": "2024-06-06T16:12:19.488Z"
   },
   {
    "duration": 4198,
    "start_time": "2024-06-06T16:12:24.620Z"
   },
   {
    "duration": 659,
    "start_time": "2024-06-07T19:31:17.181Z"
   },
   {
    "duration": 73,
    "start_time": "2024-06-07T19:31:17.842Z"
   },
   {
    "duration": 5,
    "start_time": "2024-06-07T19:31:18.093Z"
   },
   {
    "duration": 6380,
    "start_time": "2024-06-07T19:31:23.462Z"
   },
   {
    "duration": 6715,
    "start_time": "2024-06-07T19:31:29.845Z"
   },
   {
    "duration": 584,
    "start_time": "2024-06-07T20:01:18.561Z"
   },
   {
    "duration": 12,
    "start_time": "2024-06-07T20:01:19.146Z"
   },
   {
    "duration": 3,
    "start_time": "2024-06-07T20:01:19.159Z"
   },
   {
    "duration": 6295,
    "start_time": "2024-06-07T20:01:19.164Z"
   },
   {
    "duration": 4671,
    "start_time": "2024-06-07T20:01:25.462Z"
   },
   {
    "duration": 781,
    "start_time": "2024-06-07T20:02:18.463Z"
   },
   {
    "duration": 585,
    "start_time": "2024-06-07T21:27:08.863Z"
   },
   {
    "duration": 10,
    "start_time": "2024-06-07T21:27:09.450Z"
   },
   {
    "duration": 24,
    "start_time": "2024-06-07T21:27:09.462Z"
   },
   {
    "duration": 6448,
    "start_time": "2024-06-07T21:27:09.488Z"
   },
   {
    "duration": 4885,
    "start_time": "2024-06-07T21:27:15.938Z"
   },
   {
    "duration": 573,
    "start_time": "2024-06-09T15:47:18.667Z"
   },
   {
    "duration": 13,
    "start_time": "2024-06-09T15:47:19.242Z"
   },
   {
    "duration": 9,
    "start_time": "2024-06-09T15:47:19.258Z"
   },
   {
    "duration": 7096,
    "start_time": "2024-06-09T15:47:19.270Z"
   },
   {
    "duration": 5218,
    "start_time": "2024-06-09T15:47:26.369Z"
   }
  ],
  "kernelspec": {
   "display_name": "Python 3 (ipykernel)",
   "language": "python",
   "name": "python3"
  },
  "language_info": {
   "codemirror_mode": {
    "name": "ipython",
    "version": 3
   },
   "file_extension": ".py",
   "mimetype": "text/x-python",
   "name": "python",
   "nbconvert_exporter": "python",
   "pygments_lexer": "ipython3",
   "version": "3.12.7"
  },
  "toc": {
   "base_numbering": 1,
   "nav_menu": {},
   "number_sections": true,
   "sideBar": true,
   "skip_h1_title": true,
   "title_cell": "Table of Contents",
   "title_sidebar": "Contents",
   "toc_cell": false,
   "toc_position": {},
   "toc_section_display": true,
   "toc_window_display": false
  }
 },
 "nbformat": 4,
 "nbformat_minor": 5
}
